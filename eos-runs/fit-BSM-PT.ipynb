{
 "cells": [
  {
   "cell_type": "code",
   "execution_count": null,
   "metadata": {},
   "outputs": [],
   "source": [
    "from IPython.display import display, HTML\n",
    "\n",
    "display(HTML(data=\"\"\"\n",
    "<style>\n",
    "    div#notebook-container    { width: 90%; }\n",
    "    div#menubar-container     { width: 65%; }\n",
    "    div#maintoolbar-container { width: 99%; }\n",
    "</style>\n",
    "\"\"\"))"
   ]
  },
  {
   "cell_type": "code",
   "execution_count": 1,
   "metadata": {},
   "outputs": [],
   "source": [
    "import eos\n",
    "import numpy as np\n",
    "import matplotlib.pyplot as plt\n",
    "\n",
    "# path and filename settings\n",
    "proj_path = '/home/bobeth/Work/digethic-AI-course/eos'\n",
    "data_path = 'data'\n",
    "data_mcmc_file_name = 'fit-BSM-PT-mcmc.csv'\n",
    "data_pmc_file_name  = 'fit-BSM-PT-pmc.csv'\n",
    "\n",
    "# MCMC parameters\n",
    "mcmc_N_chains = 20\n",
    "mcmc_preruns = 14\n",
    "mcmc_pre_N = 3500\n",
    "mcmc_N = 12000\n",
    "mcmc_stride = 4\n",
    "\n",
    "# hierarchical clustering\n",
    "hc_r_crit = 1.3\n",
    "hc_K_g = 6\n",
    "\n",
    "# PMC parameters\n",
    "pmc_step_N = 35000\n",
    "pmc_steps = 20\n",
    "pmc_final_N = 400000"
   ]
  },
  {
   "cell_type": "markdown",
   "metadata": {},
   "source": [
    "# Define Analysis\n",
    "\n",
    "General arguments for analysis"
   ]
  },
  {
   "cell_type": "code",
   "execution_count": 2,
   "metadata": {},
   "outputs": [],
   "source": [
    "from eos_analysis_args import analysis_args"
   ]
  },
  {
   "cell_type": "markdown",
   "metadata": {},
   "source": [
    "### Fit of form factor (FF) parameters from theory constraints only"
   ]
  },
  {
   "cell_type": "code",
   "execution_count": 3,
   "metadata": {},
   "outputs": [
    {
     "name": "stderr",
     "output_type": "stream",
     "text": [
      "INFO:EOS:Creating analysis with 23 priors, 8 EOS-wide constraints, 7 global options, 6 manually-entered constraints and 0 fixed parameters.\n"
     ]
    },
    {
     "ename": "RuntimeError",
     "evalue": "Constraint 'B(*)->D(*)::chi_2(1)' is unknown",
     "output_type": "error",
     "traceback": [
      "\u001b[0;31m---------------------------------------------------------------------------\u001b[0m",
      "\u001b[0;31mRuntimeError\u001b[0m                              Traceback (most recent call last)",
      "\u001b[0;32m/tmp/ipykernel_88807/1480597727.py\u001b[0m in \u001b[0;36m<module>\u001b[0;34m\u001b[0m\n\u001b[0;32m----> 1\u001b[0;31m \u001b[0mth_analysis\u001b[0m \u001b[0;34m=\u001b[0m \u001b[0meos\u001b[0m\u001b[0;34m.\u001b[0m\u001b[0mAnalysis\u001b[0m\u001b[0;34m(\u001b[0m\u001b[0;34m**\u001b[0m\u001b[0manalysis_args\u001b[0m\u001b[0;34m)\u001b[0m\u001b[0;34m\u001b[0m\u001b[0;34m\u001b[0m\u001b[0m\n\u001b[0m\u001b[1;32m      2\u001b[0m \u001b[0;34m\u001b[0m\u001b[0m\n\u001b[1;32m      3\u001b[0m \u001b[0mth_analysis\u001b[0m\u001b[0;34m.\u001b[0m\u001b[0mparameters\u001b[0m\u001b[0;34m[\u001b[0m\u001b[0;34m'B(*)->D(*)::n_f@HQET'\u001b[0m\u001b[0;34m]\u001b[0m\u001b[0;34m.\u001b[0m\u001b[0mset\u001b[0m\u001b[0;34m(\u001b[0m\u001b[0;36m2.0\u001b[0m\u001b[0;34m)\u001b[0m\u001b[0;34m\u001b[0m\u001b[0;34m\u001b[0m\u001b[0m\n\u001b[1;32m      4\u001b[0m \u001b[0mth_analysis\u001b[0m\u001b[0;34m.\u001b[0m\u001b[0mparameters\u001b[0m\u001b[0;34m[\u001b[0m\u001b[0;34m'B(*)->D(*)::a@HQET'\u001b[0m\u001b[0;34m]\u001b[0m\u001b[0;34m.\u001b[0m\u001b[0mset\u001b[0m\u001b[0;34m(\u001b[0m\u001b[0;36m1.0\u001b[0m\u001b[0;34m)\u001b[0m\u001b[0;34m\u001b[0m\u001b[0;34m\u001b[0m\u001b[0m\n\u001b[1;32m      5\u001b[0m \u001b[0;31m#th_analysis.parameters['mass::B_d'].set(5.27942)\u001b[0m\u001b[0;34m\u001b[0m\u001b[0;34m\u001b[0m\u001b[0;34m\u001b[0m\u001b[0m\n",
      "\u001b[0;32m/usr/local/lib/python3.8/site-packages/eos/analysis.py\u001b[0m in \u001b[0;36m__init__\u001b[0;34m(self, priors, likelihood, global_options, manual_constraints, fixed_parameters, parameters)\u001b[0m\n\u001b[1;32m    143\u001b[0m         \u001b[0;31m# create the likelihood\u001b[0m\u001b[0;34m\u001b[0m\u001b[0;34m\u001b[0m\u001b[0;34m\u001b[0m\u001b[0m\n\u001b[1;32m    144\u001b[0m         \u001b[0;32mfor\u001b[0m \u001b[0mconstraint_name\u001b[0m \u001b[0;32min\u001b[0m \u001b[0mself\u001b[0m\u001b[0;34m.\u001b[0m\u001b[0m_constraint_names\u001b[0m\u001b[0;34m:\u001b[0m\u001b[0;34m\u001b[0m\u001b[0;34m\u001b[0m\u001b[0m\n\u001b[0;32m--> 145\u001b[0;31m             \u001b[0mconstraint\u001b[0m \u001b[0;34m=\u001b[0m \u001b[0meos\u001b[0m\u001b[0;34m.\u001b[0m\u001b[0mConstraint\u001b[0m\u001b[0;34m.\u001b[0m\u001b[0mmake\u001b[0m\u001b[0;34m(\u001b[0m\u001b[0mconstraint_name\u001b[0m\u001b[0;34m,\u001b[0m \u001b[0mself\u001b[0m\u001b[0;34m.\u001b[0m\u001b[0mglobal_options\u001b[0m\u001b[0;34m)\u001b[0m\u001b[0;34m\u001b[0m\u001b[0;34m\u001b[0m\u001b[0m\n\u001b[0m\u001b[1;32m    146\u001b[0m             \u001b[0mself\u001b[0m\u001b[0;34m.\u001b[0m\u001b[0m_log_likelihood\u001b[0m\u001b[0;34m.\u001b[0m\u001b[0madd\u001b[0m\u001b[0;34m(\u001b[0m\u001b[0mconstraint\u001b[0m\u001b[0;34m)\u001b[0m\u001b[0;34m\u001b[0m\u001b[0;34m\u001b[0m\u001b[0m\n\u001b[1;32m    147\u001b[0m \u001b[0;34m\u001b[0m\u001b[0m\n",
      "\u001b[0;31mRuntimeError\u001b[0m: Constraint 'B(*)->D(*)::chi_2(1)' is unknown"
     ]
    }
   ],
   "source": [
    "th_analysis = eos.Analysis(**analysis_args)\n",
    "\n",
    "th_analysis.parameters['B(*)->D(*)::n_f@HQET'].set(2.0)\n",
    "th_analysis.parameters['B(*)->D(*)::a@HQET'].set(1.0)\n",
    "#th_analysis.parameters['mass::B_d'].set(5.27942)\n",
    "#th_analysis.parameters['mass::D_u'].set(1.86723)\n",
    "#th_analysis.parameters['mass::D_u^*'].set(2.01000)\n",
    "th_analysis.parameters['B_s(*)->D_s(*)::n_s@HQET'].set(1.0)\n",
    "th_analysis.parameters['B_s(*)->D_s(*)::a@HQET'].set(1.0)\n",
    "#th_analysis.parameters['mass::B_s'].set(5.36688)\n",
    "#th_analysis.parameters['mass::D_u'].set(1.96834)\n",
    "#th_analysis.parameters['mass::D_u^*'].set(2.1122)\n",
    "\n",
    "# start point\n",
    "##\n",
    "## LP\n",
    "th_analysis.parameters[    \"B(*)->D(*)::xi'(1)@HQET\"].set( -1.15)\n",
    "th_analysis.parameters[   \"B(*)->D(*)::xi''(1)@HQET\"].set( +2.02)\n",
    "th_analysis.parameters[  \"B(*)->D(*)::xi'''(1)@HQET\"].set( -3.90)\n",
    "##\n",
    "## SLP\n",
    "th_analysis.parameters[  \"B(*)->D(*)::chi_2(1)@HQET\"].set( -0.07)\n",
    "th_analysis.parameters[ \"B(*)->D(*)::chi_2'(1)@HQET\"].set( -0.02)\n",
    "th_analysis.parameters[\"B(*)->D(*)::chi_2''(1)@HQET\"].set( -0.01)\n",
    "##\n",
    "th_analysis.parameters[ \"B(*)->D(*)::chi_3'(1)@HQET\"].set( +0.04)\n",
    "th_analysis.parameters[\"B(*)->D(*)::chi_3''(1)@HQET\"].set( -0.11)\n",
    "##\n",
    "th_analysis.parameters[    \"B(*)->D(*)::eta(1)@HQET\"].set( +0.64)\n",
    "th_analysis.parameters[   \"B(*)->D(*)::eta'(1)@HQET\"].set( +0.06)\n",
    "th_analysis.parameters[  \"B(*)->D(*)::eta''(1)@HQET\"].set( -0.52)\n",
    "##\n",
    "## SSLP\n",
    "th_analysis.parameters[    \"B(*)->D(*)::l_1(1)@HQET\"].set( +0.17)\n",
    "th_analysis.parameters[   \"B(*)->D(*)::l_1'(1)@HQET\"].set( -5.80)\n",
    "##\n",
    "th_analysis.parameters[    \"B(*)->D(*)::l_2(1)@HQET\"].set( -1.60)\n",
    "th_analysis.parameters[   \"B(*)->D(*)::l_2'(1)@HQET\"].set( -3.73)\n",
    "##\n",
    "th_analysis.parameters[    \"B(*)->D(*)::l_3(1)@HQET\"].set( -3.52)\n",
    "th_analysis.parameters[   \"B(*)->D(*)::l_3'(1)@HQET\"].set( +5.12)\n",
    "##\n",
    "th_analysis.parameters[    \"B(*)->D(*)::l_4(1)@HQET\"].set( -2.33)\n",
    "th_analysis.parameters[   \"B(*)->D(*)::l_4'(1)@HQET\"].set( -0.72)\n",
    "##\n",
    "th_analysis.parameters[    \"B(*)->D(*)::l_5(1)@HQET\"].set( +3.04)\n",
    "th_analysis.parameters[   \"B(*)->D(*)::l_5'(1)@HQET\"].set( +0.18)\n",
    "##\n",
    "th_analysis.parameters[    \"B(*)->D(*)::l_6(1)@HQET\"].set( +2.33)\n",
    "th_analysis.parameters[   \"B(*)->D(*)::l_6'(1)@HQET\"].set( +0.70)\n",
    "##\n",
    "th_analysis.parameters['CKM::abs(V_cb)'].set(40.0e-3)\n",
    "th_analysis.parameters['CKM::arg(V_cb)'].set(0.0)"
   ]
  },
  {
   "cell_type": "markdown",
   "metadata": {},
   "source": [
    "### Fit of FF parameters and WET Wilson coefficients from theory + experimental constraints"
   ]
  },
  {
   "cell_type": "code",
   "execution_count": 4,
   "metadata": {},
   "outputs": [
    {
     "name": "stderr",
     "output_type": "stream",
     "text": [
      "INFO:EOS:Creating analysis with 30 priors, 9 EOS-wide constraints, 7 global options, 6 manually-entered constraints and 0 fixed parameters.\n",
      "ERROR:EOS:[ConcreteObservableEntry.make] Observable 'B->D^*lnu::BR_CP_specific' forces option key 'I' to value '1/2', overriding user-provided value '1/2'\n",
      "@1642455635: [ERROR [ConcreteObservableEntry.make]] ERROR:EOS:[ConcreteObservableEntry.make] Observable 'B->D^*lnu::BR_CP_specific' forces option key 'U' to value 'c', overriding user-provided value 'c'\n",
      "Observable 'B->D^*lnu::BR_CP_specific' forces option key 'I' to value '1/2', overriding user-provided value '1/2'\n",
      "@1642455635: [ERROR [ConcreteObservableEntry.make]] ERROR:EOS:[ConcreteObservableEntry.make] Observable 'B->D^*lnu::BR_CP_specific' forces option key 'I' to value '1/2', overriding user-provided value '1/2'\n",
      "Observable 'B->D^*lnu::BR_CP_specific' forces option key 'U' to value 'c', overriding user-provided value 'c'\n",
      "@1642455635: [ERROR [ConcreteObservableEntry.make]] ERROR:EOS:[ConcreteObservableEntry.make] Observable 'B->D^*lnu::BR_CP_specific' forces option key 'U' to value 'c', overriding user-provided value 'c'\n",
      "Observable 'B->D^*lnu::BR_CP_specific' forces option key 'I' to value '1/2', overriding user-provided value '1/2'\n",
      "@1642455635: [ERROR [ConcreteObservableEntry.make]] ERROR:EOS:[ConcreteObservableEntry.make] Observable 'B->D^*lnu::BR_CP_specific' forces option key 'I' to value '1/2', overriding user-provided value '1/2'\n",
      "Observable 'B->D^*lnu::BR_CP_specific' forces option key 'U' to value 'c', overriding user-provided value 'c'\n",
      "@1642455635: [ERROR [ConcreteObservableEntry.make]] ERROR:EOS:[ConcreteObservableEntry.make] Observable 'B->D^*lnu::BR_CP_specific' forces option key 'U' to value 'c', overriding user-provided value 'c'\n",
      "Observable 'B->D^*lnu::BR_CP_specific' forces option key 'I' to value '1/2', overriding user-provided value '1/2'\n",
      "@1642455635: [ERROR [ConcreteObservableEntry.make]] ERROR:EOS:[ConcreteObservableEntry.make] Observable 'B->D^*lnu::BR_CP_specific' forces option key 'I' to value '1/2', overriding user-provided value '1/2'\n",
      "ERROR:EOS:[ConcreteObservableEntry.make] Observable 'B->D^*lnu::BR_CP_specific' forces option key 'U' to value 'c', overriding user-provided value 'c'\n",
      "Observable 'B->D^*lnu::BR_CP_specific' forces option key 'U' to value 'c', overriding user-provided value 'c'ERROR:EOS:[ConcreteCacheableObservableEntry.make] Observable 'B->D^*lnu::F_L_CP_specific' forces option key 'I' to value '1/2', overriding user-provided value '1/2'\n",
      "\n",
      "@1642455635: [ERROR [ConcreteObservableEntry.make]] Observable 'B->D^*lnu::BR_CP_specific' forces option key 'I' to value '1/2', overriding user-provided value '1/2'\n",
      "@1642455635: [ERROR [ConcreteObservableEntry.make]] Observable 'B->D^*lnu::BR_CP_specific' forces option key 'U' to value 'c', overriding user-provided value 'c'\n",
      "@1642455635: [ERROR [ConcreteCacheableObservableEntry.make]] ERROR:EOS:[ConcreteCacheableObservableEntry.make] Observable 'B->D^*lnu::F_L_CP_specific' forces option key 'U' to value 'c', overriding user-provided value 'c'\n",
      "Observable 'B->D^*lnu::F_L_CP_specific' forces option key 'I' to value '1/2', overriding user-provided value '1/2'\n",
      "@1642455635: [ERROR [ConcreteCacheableObservableEntry.make]] ERROR:EOS:[ConcreteCacheableObservableEntry.make] Observable 'B->D^*lnu::F_L_CP_specific' forces option key 'I' to value '1/2', overriding user-provided value '1/2'\n",
      "Observable 'B->D^*lnu::F_L_CP_specific' forces option key 'U' to value 'c', overriding user-provided value 'c'\n",
      "@1642455635: [ERROR [ConcreteCacheableObservableEntry.make]] ERROR:EOS:[ConcreteCacheableObservableEntry.make] Observable 'B->D^*lnu::F_L_CP_specific' forces option key 'U' to value 'c', overriding user-provided value 'c'\n",
      "Observable 'B->D^*lnu::F_L_CP_specific' forces option key 'I' to value '1/2', overriding user-provided value '1/2'\n",
      "@1642455635: [ERROR [ConcreteCacheableObservableEntry.make]] ERROR:EOS:[ConcreteCacheableObservableEntry.make] Observable 'B->D^*lnu::F_L_CP_specific' forces option key 'I' to value '1/2', overriding user-provided value '1/2'\n",
      "Observable 'B->D^*lnu::F_L_CP_specific' forces option key 'U' to value 'c', overriding user-provided value 'c'ERROR:EOS:[ConcreteCacheableObservableEntry.make] Observable 'B->D^*lnu::F_L_CP_specific' forces option key 'U' to value 'c', overriding user-provided value 'c'\n",
      "\n",
      "@1642455635: [ERROR [ConcreteCacheableObservableEntry.make]] ERROR:EOS:[ConcreteCacheableObservableEntry.make] Observable 'B->D^*lnu::F_L_CP_specific' forces option key 'I' to value '1/2', overriding user-provided value '1/2'\n",
      "Observable 'B->D^*lnu::F_L_CP_specific' forces option key 'I' to value '1/2', overriding user-provided value '1/2'\n",
      "@1642455635: [ERROR [ConcreteCacheableObservableEntry.make]] Observable 'B->D^*lnu::F_L_CP_specific' forces option key 'U' to value 'c', overriding user-provided value 'c'\n",
      "@1642455635: [ERROR [ConcreteCacheableObservableEntry.make]] ERROR:EOS:[ConcreteCacheableObservableEntry.make] Observable 'B->D^*lnu::F_L_CP_specific' forces option key 'U' to value 'c', overriding user-provided value 'c'\n",
      "Observable 'B->D^*lnu::F_L_CP_specific' forces option key 'I' to value '1/2', overriding user-provided value '1/2'\n",
      "ERROR:EOS:[ConcreteCacheableObservableEntry.make] Observable 'B->D^*lnu::A_FB_CP_specific' forces option key 'I' to value '1/2', overriding user-provided value '1/2'\n",
      "@1642455635: [ERROR [ConcreteCacheableObservableEntry.make]] Observable 'B->D^*lnu::F_L_CP_specific' forces option key 'U' to value 'c', overriding user-provided value 'c'\n",
      "@1642455635: [ERROR [ConcreteCacheableObservableEntry.make]] ERROR:EOS:[ConcreteCacheableObservableEntry.make] Observable 'B->D^*lnu::A_FB_CP_specific' forces option key 'U' to value 'c', overriding user-provided value 'c'\n",
      "Observable 'B->D^*lnu::A_FB_CP_specific' forces option key 'I' to value '1/2', overriding user-provided value '1/2'ERROR:EOS:[ConcreteCacheableObservableEntry.make] Observable 'B->D^*lnu::A_FB_CP_specific' forces option key 'I' to value '1/2', overriding user-provided value '1/2'\n",
      "\n",
      "@1642455635: [ERROR [ConcreteCacheableObservableEntry.make]] Observable 'B->D^*lnu::A_FB_CP_specific' forces option key 'U' to value 'c', overriding user-provided value 'c'\n",
      "@1642455635: [ERROR [ConcreteCacheableObservableEntry.make]] ERROR:EOS:[ConcreteCacheableObservableEntry.make] Observable 'B->D^*lnu::A_FB_CP_specific' forces option key 'U' to value 'c', overriding user-provided value 'c'\n",
      "Observable 'B->D^*lnu::A_FB_CP_specific' forces option key 'I' to value '1/2', overriding user-provided value '1/2'\n",
      "@1642455635: [ERROR [ConcreteCacheableObservableEntry.make]] ERROR:EOS:[ConcreteCacheableObservableEntry.make] Observable 'B->D^*lnu::A_FB_CP_specific' forces option key 'I' to value '1/2', overriding user-provided value '1/2'\n",
      "Observable 'B->D^*lnu::A_FB_CP_specific' forces option key 'U' to value 'c', overriding user-provided value 'c'\n",
      "@1642455635: [ERROR [ConcreteCacheableObservableEntry.make]] ERROR:EOS:[ConcreteCacheableObservableEntry.make] Observable 'B->D^*lnu::A_FB_CP_specific' forces option key 'U' to value 'c', overriding user-provided value 'c'\n",
      "Observable 'B->D^*lnu::A_FB_CP_specific' forces option key 'I' to value '1/2', overriding user-provided value '1/2'\n",
      "@1642455635: [ERROR [ConcreteCacheableObservableEntry.make]] ERROR:EOS:[ConcreteCacheableObservableEntry.make] Observable 'B->D^*lnu::A_FB_CP_specific' forces option key 'I' to value '1/2', overriding user-provided value '1/2'\n",
      "Observable 'B->D^*lnu::A_FB_CP_specific' forces option key 'U' to value 'c', overriding user-provided value 'c'\n",
      "@1642455635: [ERROR [ConcreteCacheableObservableEntry.make]] ERROR:EOS:[ConcreteCacheableObservableEntry.make] Observable 'B->D^*lnu::A_FB_CP_specific' forces option key 'U' to value 'c', overriding user-provided value 'c'\n",
      "Observable 'B->D^*lnu::A_FB_CP_specific' forces option key 'I' to value '1/2', overriding user-provided value '1/2'\n",
      "@1642455635: [ERROR [ConcreteCacheableObservableEntry.make]] ERROR:EOS:[ConcreteCacheableObservableEntry.make] Observable 'B->D^*lnu::Ftilde_L_CP_specific' forces option key 'I' to value '1/2', overriding user-provided value '1/2'\n",
      "Observable 'B->D^*lnu::A_FB_CP_specific' forces option key 'U' to value 'c', overriding user-provided value 'c'\n",
      "@1642455635: [ERROR [ConcreteCacheableObservableEntry.make]] ERROR:EOS:[ConcreteCacheableObservableEntry.make] Observable 'B->D^*lnu::Ftilde_L_CP_specific' forces option key 'U' to value 'c', overriding user-provided value 'c'\n",
      "Observable 'B->D^*lnu::Ftilde_L_CP_specific' forces option key 'I' to value '1/2', overriding user-provided value '1/2'\n",
      "@1642455635: [ERROR [ConcreteCacheableObservableEntry.make]] ERROR:EOS:[ConcreteCacheableObservableEntry.make] Observable 'B->D^*lnu::Ftilde_L_CP_specific' forces option key 'I' to value '1/2', overriding user-provided value '1/2'\n",
      "Observable 'B->D^*lnu::Ftilde_L_CP_specific' forces option key 'U' to value 'c', overriding user-provided value 'c'\n",
      "@1642455635: [ERROR [ConcreteCacheableObservableEntry.make]] ERROR:EOS:[ConcreteCacheableObservableEntry.make] Observable 'B->D^*lnu::Ftilde_L_CP_specific' forces option key 'U' to value 'c', overriding user-provided value 'c'\n",
      "Observable 'B->D^*lnu::Ftilde_L_CP_specific' forces option key 'I' to value '1/2', overriding user-provided value '1/2'\n",
      "@1642455635: [ERROR [ConcreteCacheableObservableEntry.make]] ERROR:EOS:[ConcreteCacheableObservableEntry.make] Observable 'B->D^*lnu::Ftilde_L_CP_specific' forces option key 'I' to value '1/2', overriding user-provided value '1/2'\n",
      "Observable 'B->D^*lnu::Ftilde_L_CP_specific' forces option key 'U' to value 'c', overriding user-provided value 'c'\n",
      "@1642455635: [ERROR [ConcreteCacheableObservableEntry.make]] ERROR:EOS:[ConcreteCacheableObservableEntry.make] Observable 'B->D^*lnu::Ftilde_L_CP_specific' forces option key 'U' to value 'c', overriding user-provided value 'c'\n",
      "Observable 'B->D^*lnu::Ftilde_L_CP_specific' forces option key 'I' to value '1/2', overriding user-provided value '1/2'ERROR:EOS:[ConcreteCacheableObservableEntry.make] Observable 'B->D^*lnu::Ftilde_L_CP_specific' forces option key 'I' to value '1/2', overriding user-provided value '1/2'\n",
      "\n",
      "@1642455635: [ERROR [ConcreteCacheableObservableEntry.make]] Observable 'B->D^*lnu::Ftilde_L_CP_specific' forces option key 'U' to value 'c', overriding user-provided value 'c'\n",
      "@1642455635: [ERROR [ConcreteCacheableObservableEntry.make]] ERROR:EOS:[ConcreteCacheableObservableEntry.make] Observable 'B->D^*lnu::Ftilde_L_CP_specific' forces option key 'U' to value 'c', overriding user-provided value 'c'\n",
      "Observable 'B->D^*lnu::Ftilde_L_CP_specific' forces option key 'I' to value '1/2', overriding user-provided value '1/2'ERROR:EOS:[ConcreteCacheableObservableEntry.make] Observable 'B->D^*lnu::J_3' forces option key 'I' to value '1/2', overriding user-provided value '1/2'\n",
      "\n",
      "@1642455635: [ERROR [ConcreteCacheableObservableEntry.make]] Observable 'B->D^*lnu::Ftilde_L_CP_specific' forces option key 'U' to value 'c', overriding user-provided value 'c'\n",
      "@1642455635: [ERROR [ConcreteCacheableObservableEntry.make]] ERROR:EOS:[ConcreteCacheableObservableEntry.make] Observable 'B->D^*lnu::J_3' forces option key 'U' to value 'c', overriding user-provided value 'c'\n",
      "Observable 'B->D^*lnu::J_3' forces option key 'I' to value '1/2', overriding user-provided value '1/2'\n",
      "@1642455635: [ERROR [ConcreteCacheableObservableEntry.make]] ERROR:EOS:[ConcreteCacheableObservableEntry.make] Observable 'B->D^*lnu::J_3' forces option key 'I' to value '1/2', overriding user-provided value '1/2'\n",
      "Observable 'B->D^*lnu::J_3' forces option key 'U' to value 'c', overriding user-provided value 'c'\n",
      "@1642455635: [ERROR [ConcreteCacheableObservableEntry.make]] ERROR:EOS:[ConcreteCacheableObservableEntry.make] Observable 'B->D^*lnu::J_3' forces option key 'U' to value 'c', overriding user-provided value 'c'\n",
      "Observable 'B->D^*lnu::J_3' forces option key 'I' to value '1/2', overriding user-provided value '1/2'\n",
      "@1642455635: [ERROR [ConcreteCacheableObservableEntry.make]] ERROR:EOS:[ConcreteCacheableObservableEntry.make] Observable 'B->D^*lnu::J_3' forces option key 'I' to value '1/2', overriding user-provided value '1/2'\n",
      "Observable 'B->D^*lnu::J_3' forces option key 'U' to value 'c', overriding user-provided value 'c'\n",
      "@1642455635: [ERROR [ConcreteCacheableObservableEntry.make]] ERROR:EOS:[ConcreteCacheableObservableEntry.make] Observable 'B->D^*lnu::J_3' forces option key 'U' to value 'c', overriding user-provided value 'c'\n",
      "Observable 'B->D^*lnu::J_3' forces option key 'I' to value '1/2', overriding user-provided value '1/2'\n",
      "@1642455635: [ERROR [ConcreteCacheableObservableEntry.make]] ERROR:EOS:[ConcreteCacheableObservableEntry.make] Observable 'B->D^*lnu::J_3' forces option key 'I' to value '1/2', overriding user-provided value '1/2'\n",
      "Observable 'B->D^*lnu::J_3' forces option key 'U' to value 'c', overriding user-provided value 'c'\n",
      "@1642455635: [ERROR [ConcreteCacheableObservableEntry.make]] ERROR:EOS:[ConcreteCacheableObservableEntry.make] Observable 'B->D^*lnu::J_3' forces option key 'U' to value 'c', overriding user-provided value 'c'\n",
      "Observable 'B->D^*lnu::J_3' forces option key 'I' to value '1/2', overriding user-provided value '1/2'\n",
      "@1642455635: [ERROR [ConcreteCacheableObservableEntry.make]] Observable 'B->D^*lnu::J_3' forces option key 'U' to value 'c', overriding user-provided value 'c'ERROR:EOS:[ConcreteObservableEntry.make] Observable 'B->D^*lnu::BR_CP_specific' forces option key 'I' to value '1/2', overriding user-provided value '1/2'\n",
      "\n",
      "@1642455635: [ERROR [ConcreteObservableEntry.make]] ERROR:EOS:[ConcreteObservableEntry.make] Observable 'B->D^*lnu::BR_CP_specific' forces option key 'U' to value 'c', overriding user-provided value 'c'\n",
      "Observable 'B->D^*lnu::BR_CP_specific' forces option key 'I' to value '1/2', overriding user-provided value '1/2'\n",
      "@1642455635: [ERROR [ConcreteObservableEntry.make]] ERROR:EOS:[ConcreteObservableEntry.make] Observable 'B->D^*lnu::BR_CP_specific' forces option key 'I' to value '1/2', overriding user-provided value '1/2'\n",
      "Observable 'B->D^*lnu::BR_CP_specific' forces option key 'U' to value 'c', overriding user-provided value 'c'\n",
      "@1642455635: [ERROR [ConcreteObservableEntry.make]] ERROR:EOS:[ConcreteObservableEntry.make] Observable 'B->D^*lnu::BR_CP_specific' forces option key 'U' to value 'c', overriding user-provided value 'c'\n",
      "Observable 'B->D^*lnu::BR_CP_specific' forces option key 'I' to value '1/2', overriding user-provided value '1/2'\n",
      "@1642455635: [ERROR [ConcreteObservableEntry.make]] ERROR:EOS:[ConcreteObservableEntry.make] Observable 'B->D^*lnu::BR_CP_specific' forces option key 'I' to value '1/2', overriding user-provided value '1/2'\n",
      "Observable 'B->D^*lnu::BR_CP_specific' forces option key 'U' to value 'c', overriding user-provided value 'c'\n",
      "ERROR:EOS:[ConcreteObservableEntry.make] Observable 'B->D^*lnu::BR_CP_specific' forces option key 'U' to value 'c', overriding user-provided value 'c'\n",
      "@1642455635: [ERROR [ConcreteObservableEntry.make]] Observable 'B->D^*lnu::BR_CP_specific' forces option key 'I' to value '1/2', overriding user-provided value '1/2'\n",
      "@1642455635: [ERROR [ConcreteObservableEntry.make]] ERROR:EOS:[ConcreteObservableEntry.make] Observable 'B->D^*lnu::BR_CP_specific' forces option key 'I' to value '1/2', overriding user-provided value '1/2'\n",
      "Observable 'B->D^*lnu::BR_CP_specific' forces option key 'U' to value 'c', overriding user-provided value 'c'\n",
      "@1642455635: [ERROR [ConcreteObservableEntry.make]] ERROR:EOS:[ConcreteObservableEntry.make] Observable 'B->D^*lnu::BR_CP_specific' forces option key 'U' to value 'c', overriding user-provided value 'c'\n",
      "Observable 'B->D^*lnu::BR_CP_specific' forces option key 'I' to value '1/2', overriding user-provided value '1/2'\n",
      "@1642455635: [ERROR [ConcreteObservableEntry.make]] ERROR:EOS:[ConcreteCacheableObservableEntry.make] Observable 'B->D^*lnu::F_L_CP_specific' forces option key 'I' to value '1/2', overriding user-provided value '1/2'\n",
      "Observable 'B->D^*lnu::BR_CP_specific' forces option key 'U' to value 'c', overriding user-provided value 'c'\n",
      "@1642455635: [ERROR [ConcreteCacheableObservableEntry.make]] ERROR:EOS:[ConcreteCacheableObservableEntry.make] Observable 'B->D^*lnu::F_L_CP_specific' forces option key 'U' to value 'c', overriding user-provided value 'c'\n",
      "Observable 'B->D^*lnu::F_L_CP_specific' forces option key 'I' to value '1/2', overriding user-provided value '1/2'\n",
      "@1642455635: [ERROR [ConcreteCacheableObservableEntry.make]] ERROR:EOS:[ConcreteCacheableObservableEntry.make] Observable 'B->D^*lnu::F_L_CP_specific' forces option key 'I' to value '1/2', overriding user-provided value '1/2'\n",
      "Observable 'B->D^*lnu::F_L_CP_specific' forces option key 'U' to value 'c', overriding user-provided value 'c'\n",
      "@1642455635: [ERROR [ConcreteCacheableObservableEntry.make]] ERROR:EOS:[ConcreteCacheableObservableEntry.make] Observable 'B->D^*lnu::F_L_CP_specific' forces option key 'U' to value 'c', overriding user-provided value 'c'\n",
      "Observable 'B->D^*lnu::F_L_CP_specific' forces option key 'I' to value '1/2', overriding user-provided value '1/2'\n",
      "@1642455635: [ERROR [ConcreteCacheableObservableEntry.make]] ERROR:EOS:[ConcreteCacheableObservableEntry.make] Observable 'B->D^*lnu::F_L_CP_specific' forces option key 'I' to value '1/2', overriding user-provided value '1/2'\n",
      "Observable 'B->D^*lnu::F_L_CP_specific' forces option key 'U' to value 'c', overriding user-provided value 'c'\n",
      "@1642455635: [ERROR [ConcreteCacheableObservableEntry.make]] ERROR:EOS:[ConcreteCacheableObservableEntry.make] Observable 'B->D^*lnu::F_L_CP_specific' forces option key 'U' to value 'c', overriding user-provided value 'c'\n",
      "Observable 'B->D^*lnu::F_L_CP_specific' forces option key 'I' to value '1/2', overriding user-provided value '1/2'\n",
      "ERROR:EOS:[ConcreteCacheableObservableEntry.make] Observable 'B->D^*lnu::F_L_CP_specific' forces option key 'I' to value '1/2', overriding user-provided value '1/2'\n",
      "@1642455635: [ERROR [ConcreteCacheableObservableEntry.make]] Observable 'B->D^*lnu::F_L_CP_specific' forces option key 'U' to value 'c', overriding user-provided value 'c'\n",
      "@1642455635: [ERROR [ConcreteCacheableObservableEntry.make]] ERROR:EOS:[ConcreteCacheableObservableEntry.make] Observable 'B->D^*lnu::F_L_CP_specific' forces option key 'U' to value 'c', overriding user-provided value 'c'\n",
      "Observable 'B->D^*lnu::F_L_CP_specific' forces option key 'I' to value '1/2', overriding user-provided value '1/2'\n",
      "@1642455635: [ERROR [ConcreteCacheableObservableEntry.make]] ERROR:EOS:[ConcreteCacheableObservableEntry.make] Observable 'B->D^*lnu::A_FB_CP_specific' forces option key 'I' to value '1/2', overriding user-provided value '1/2'\n",
      "Observable 'B->D^*lnu::F_L_CP_specific' forces option key 'U' to value 'c', overriding user-provided value 'c'ERROR:EOS:[ConcreteCacheableObservableEntry.make] Observable 'B->D^*lnu::A_FB_CP_specific' forces option key 'U' to value 'c', overriding user-provided value 'c'\n",
      "\n",
      "@1642455635: [ERROR [ConcreteCacheableObservableEntry.make]] ERROR:EOS:[ConcreteCacheableObservableEntry.make] Observable 'B->D^*lnu::A_FB_CP_specific' forces option key 'I' to value '1/2', overriding user-provided value '1/2'\n",
      "Observable 'B->D^*lnu::A_FB_CP_specific' forces option key 'I' to value '1/2', overriding user-provided value '1/2'\n",
      "@1642455635: [ERROR [ConcreteCacheableObservableEntry.make]] ERROR:EOS:[ConcreteCacheableObservableEntry.make] Observable 'B->D^*lnu::A_FB_CP_specific' forces option key 'U' to value 'c', overriding user-provided value 'c'\n",
      "Observable 'B->D^*lnu::A_FB_CP_specific' forces option key 'U' to value 'c', overriding user-provided value 'c'\n",
      "@1642455635: [ERROR [ConcreteCacheableObservableEntry.make]] Observable 'B->D^*lnu::A_FB_CP_specific' forces option key 'I' to value '1/2', overriding user-provided value '1/2'\n",
      "@1642455635: [ERROR [ConcreteCacheableObservableEntry.make]] ERROR:EOS:[ConcreteCacheableObservableEntry.make] Observable 'B->D^*lnu::A_FB_CP_specific' forces option key 'I' to value '1/2', overriding user-provided value '1/2'\n",
      "ERROR:EOS:[ConcreteCacheableObservableEntry.make] Observable 'B->D^*lnu::A_FB_CP_specific' forces option key 'U' to value 'c', overriding user-provided value 'c'\n",
      "Observable 'B->D^*lnu::A_FB_CP_specific' forces option key 'U' to value 'c', overriding user-provided value 'c'\n",
      "@1642455635: [ERROR [ConcreteCacheableObservableEntry.make]] Observable 'B->D^*lnu::A_FB_CP_specific' forces option key 'I' to value '1/2', overriding user-provided value '1/2'\n",
      "@1642455635: [ERROR [ConcreteCacheableObservableEntry.make]] ERROR:EOS:[ConcreteCacheableObservableEntry.make] Observable 'B->D^*lnu::A_FB_CP_specific' forces option key 'I' to value '1/2', overriding user-provided value '1/2'\n",
      "Observable 'B->D^*lnu::A_FB_CP_specific' forces option key 'U' to value 'c', overriding user-provided value 'c'ERROR:EOS:[ConcreteCacheableObservableEntry.make] Observable 'B->D^*lnu::A_FB_CP_specific' forces option key 'U' to value 'c', overriding user-provided value 'c'\n",
      "\n",
      "@1642455635: [ERROR [ConcreteCacheableObservableEntry.make]] Observable 'B->D^*lnu::A_FB_CP_specific' forces option key 'I' to value '1/2', overriding user-provided value '1/2'\n",
      "@1642455635: [ERROR [ConcreteCacheableObservableEntry.make]] Observable 'B->D^*lnu::A_FB_CP_specific' forces option key 'U' to value 'c', overriding user-provided value 'c'\n",
      "@1642455635: [ERROR [ConcreteCacheableObservableEntry.make]] ERROR:EOS:[ConcreteCacheableObservableEntry.make] Observable 'B->D^*lnu::Ftilde_L_CP_specific' forces option key 'I' to value '1/2', overriding user-provided value '1/2'\n",
      "ERROR:EOS:[ConcreteCacheableObservableEntry.make] Observable 'B->D^*lnu::Ftilde_L_CP_specific' forces option key 'U' to value 'c', overriding user-provided value 'c'\n",
      "Observable 'B->D^*lnu::Ftilde_L_CP_specific' forces option key 'I' to value '1/2', overriding user-provided value '1/2'\n",
      "@1642455635: [ERROR [ConcreteCacheableObservableEntry.make]] ERROR:EOS:[ConcreteCacheableObservableEntry.make] Observable 'B->D^*lnu::Ftilde_L_CP_specific' forces option key 'I' to value '1/2', overriding user-provided value '1/2'\n",
      "Observable 'B->D^*lnu::Ftilde_L_CP_specific' forces option key 'U' to value 'c', overriding user-provided value 'c'\n",
      "ERROR:EOS:[ConcreteCacheableObservableEntry.make] Observable 'B->D^*lnu::Ftilde_L_CP_specific' forces option key 'U' to value 'c', overriding user-provided value 'c'\n",
      "@1642455635: [ERROR [ConcreteCacheableObservableEntry.make]] Observable 'B->D^*lnu::Ftilde_L_CP_specific' forces option key 'I' to value '1/2', overriding user-provided value '1/2'\n",
      "@1642455635: [ERROR [ConcreteCacheableObservableEntry.make]] ERROR:EOS:[ConcreteCacheableObservableEntry.make] Observable 'B->D^*lnu::Ftilde_L_CP_specific' forces option key 'I' to value '1/2', overriding user-provided value '1/2'\n",
      "Observable 'B->D^*lnu::Ftilde_L_CP_specific' forces option key 'U' to value 'c', overriding user-provided value 'c'\n",
      "@1642455635: [ERROR [ConcreteCacheableObservableEntry.make]] ERROR:EOS:[ConcreteCacheableObservableEntry.make] Observable 'B->D^*lnu::Ftilde_L_CP_specific' forces option key 'U' to value 'c', overriding user-provided value 'c'\n",
      "Observable 'B->D^*lnu::Ftilde_L_CP_specific' forces option key 'I' to value '1/2', overriding user-provided value '1/2'\n",
      "@1642455635: [ERROR [ConcreteCacheableObservableEntry.make]] ERROR:EOS:[ConcreteCacheableObservableEntry.make] Observable 'B->D^*lnu::Ftilde_L_CP_specific' forces option key 'I' to value '1/2', overriding user-provided value '1/2'\n",
      "Observable 'B->D^*lnu::Ftilde_L_CP_specific' forces option key 'U' to value 'c', overriding user-provided value 'c'ERROR:EOS:[ConcreteCacheableObservableEntry.make] Observable 'B->D^*lnu::Ftilde_L_CP_specific' forces option key 'U' to value 'c', overriding user-provided value 'c'\n",
      "\n",
      "@1642455635: [ERROR [ConcreteCacheableObservableEntry.make]] Observable 'B->D^*lnu::Ftilde_L_CP_specific' forces option key 'I' to value '1/2', overriding user-provided value '1/2'\n",
      "@1642455635: [ERROR [ConcreteCacheableObservableEntry.make]] Observable 'B->D^*lnu::Ftilde_L_CP_specific' forces option key 'U' to value 'c', overriding user-provided value 'c'\n",
      "ERROR:EOS:[ConcreteCacheableObservableEntry.make] Observable 'B->D^*lnu::J_3' forces option key 'I' to value '1/2', overriding user-provided value '1/2'\n",
      "@1642455635: [ERROR [ConcreteCacheableObservableEntry.make]] ERROR:EOS:[ConcreteCacheableObservableEntry.make] Observable 'B->D^*lnu::J_3' forces option key 'U' to value 'c', overriding user-provided value 'c'\n",
      "Observable 'B->D^*lnu::J_3' forces option key 'I' to value '1/2', overriding user-provided value '1/2'\n",
      "@1642455635: [ERROR [ConcreteCacheableObservableEntry.make]] ERROR:EOS:[ConcreteCacheableObservableEntry.make] Observable 'B->D^*lnu::J_3' forces option key 'I' to value '1/2', overriding user-provided value '1/2'\n",
      "Observable 'B->D^*lnu::J_3' forces option key 'U' to value 'c', overriding user-provided value 'c'\n",
      "@1642455635: [ERROR [ConcreteCacheableObservableEntry.make]] ERROR:EOS:[ConcreteCacheableObservableEntry.make] Observable 'B->D^*lnu::J_3' forces option key 'U' to value 'c', overriding user-provided value 'c'\n",
      "Observable 'B->D^*lnu::J_3' forces option key 'I' to value '1/2', overriding user-provided value '1/2'\n",
      "@1642455635: [ERROR [ConcreteCacheableObservableEntry.make]] ERROR:EOS:[ConcreteCacheableObservableEntry.make] Observable 'B->D^*lnu::J_3' forces option key 'I' to value '1/2', overriding user-provided value '1/2'\n",
      "Observable 'B->D^*lnu::J_3' forces option key 'U' to value 'c', overriding user-provided value 'c'\n",
      "@1642455635: [ERROR [ConcreteCacheableObservableEntry.make]] ERROR:EOS:[ConcreteCacheableObservableEntry.make] Observable 'B->D^*lnu::J_3' forces option key 'U' to value 'c', overriding user-provided value 'c'\n",
      "Observable 'B->D^*lnu::J_3' forces option key 'I' to value '1/2', overriding user-provided value '1/2'\n",
      "ERROR:EOS:[ConcreteCacheableObservableEntry.make] Observable 'B->D^*lnu::J_3' forces option key 'I' to value '1/2', overriding user-provided value '1/2'\n",
      "@1642455635: [ERROR [ConcreteCacheableObservableEntry.make]] Observable 'B->D^*lnu::J_3' forces option key 'U' to value 'c', overriding user-provided value 'c'\n",
      "@1642455635: [ERROR [ConcreteCacheableObservableEntry.make]] ERROR:EOS:[ConcreteCacheableObservableEntry.make] Observable 'B->D^*lnu::J_3' forces option key 'U' to value 'c', overriding user-provided value 'c'\n",
      "Observable 'B->D^*lnu::J_3' forces option key 'I' to value '1/2', overriding user-provided value '1/2'\n",
      "@1642455635: [ERROR [ConcreteCacheableObservableEntry.make]] Observable 'B->D^*lnu::J_3' forces option key 'U' to value 'c', overriding user-provided value 'c'\n",
      "INFO:EOS:likelihood probably depends on 179 parameter(s) that do not appear in the prior; check prior?\n"
     ]
    }
   ],
   "source": [
    "analysis_args['likelihood'].append('B^0->(Dpi)^+l^-nubar::KinematicDistributionsAngularObservables@BBGJvD:2021A')\n",
    "analysis_args['priors'].extend([\n",
    "    # Wilson coefficients for the electron mode\n",
    "    { 'parameter':         \"cbenue::Re{cSR}\",   'min':  -1.40,   'max':  +1.40,   'type': 'uniform' },\n",
    "    { 'parameter':         \"cbenue::Im{cSR}\",   'min':  -1.40,   'max':  +1.40,   'type': 'uniform' },\n",
    "    { 'parameter':         \"cbenue::Re{cT}\",    'min':  -0.80,   'max':  +0.80,   'type': 'uniform' },\n",
    "    # Wilson coefficients for the muon mode\n",
    "    { 'parameter':         \"cbmunumu::Re{cSR}\", 'min':  -1.40,   'max':  +1.40,   'type': 'uniform' },\n",
    "    { 'parameter':         \"cbmunumu::Im{cSR}\", 'min':  -1.40,   'max':  +1.40,   'type': 'uniform' },\n",
    "    { 'parameter':         \"cbmunumu::Re{cT}\",  'min':  -0.80,   'max':  +0.80,   'type': 'uniform' },\n",
    "    { 'parameter':         \"cbmunumu::Im{cT}\",  'min':  -0.80,   'max':  +0.80,   'type': 'uniform' },\n",
    "])\n",
    "\n",
    "exp_analysis = eos.Analysis(**analysis_args)\n",
    "##\n",
    "exp_analysis.parameters['CKM::abs(V_cb)'].set(40.0e-3)\n",
    "exp_analysis.parameters['CKM::arg(V_cb)'].set(0.0)\n",
    "##\n",
    "exp_analysis.parameters[  \"cbenue::Re{cSR}\"].set(0.0)\n",
    "exp_analysis.parameters[  \"cbenue::Im{cSR}\"].set(0.0)\n",
    "exp_analysis.parameters[  \"cbenue::Re{cT}\" ].set(0.0)\n",
    "##\n",
    "exp_analysis.parameters[\"cbmunumu::Re{cSR}\"].set(0.0)\n",
    "exp_analysis.parameters[\"cbmunumu::Im{cSR}\"].set(0.0)\n",
    "exp_analysis.parameters[\"cbmunumu::Re{cT}\" ].set(0.0)\n",
    "exp_analysis.parameters[\"cbmunumu::Im{cT}\" ].set(0.0)"
   ]
  },
  {
   "cell_type": "markdown",
   "metadata": {},
   "source": [
    "## Goodness-of-fit (GOF) without Markov Chains\n",
    "\n",
    "Only from theory constraints:"
   ]
  },
  {
   "cell_type": "code",
   "execution_count": 5,
   "metadata": {
    "scrolled": false
   },
   "outputs": [
    {
     "name": "stderr",
     "output_type": "stream",
     "text": [
      "WARNING:EOS:Optimization did not succeed\n",
      "WARNING:EOS:  optimizer message reas: STOP: TOTAL NO. of f AND g EVALUATIONS EXCEEDS LIMIT\n"
     ]
    },
    {
     "name": "stdout",
     "output_type": "stream",
     "text": [
      "CPU times: user 9.25 s, sys: 8.63 s, total: 17.9 s\n",
      "Wall time: 6.59 s\n",
      "CPU times: user 619 µs, sys: 521 µs, total: 1.14 ms\n",
      "Wall time: 330 µs\n"
     ]
    },
    {
     "data": {
      "text/html": [
       "<table>\n",
       "<tr><th>constraint</th><th>&chi;<sup>2</sup></th><th>d.o.f.</th></tr>\n",
       "<tr><td><tt>B(*)->D(*)::chi_2'(1)</tt></td><td>0.0000</td><td>1</td></tr>\n",
       "<tr><td><tt>B(*)->D(*)::chi_2(1)</tt></td><td>0.0000</td><td>1</td></tr>\n",
       "<tr><td><tt>B(*)->D(*)::chi_3'(1)</tt></td><td>0.0000</td><td>1</td></tr>\n",
       "<tr><td><tt>B(*)->D(*)::eta'(1)</tt></td><td>0.0213</td><td>1</td></tr>\n",
       "<tr><td><tt>B(*)->D(*)::eta(1)</tt></td><td>0.0492</td><td>1</td></tr>\n",
       "<tr><td><tt>B->D::f_++f_0@FNAL+MILC:2015B</tt></td><td>3.6995</td><td>7</td></tr>\n",
       "<tr><td><tt>B->D::f_++f_0@HPQCD:2015A</tt></td><td>3.1833</td><td>5</td></tr>\n",
       "<tr><td><tt>B->D::f_T/f_+</tt></td><td>0.0031</td><td>1</td></tr>\n",
       "<tr><td><tt>B->D^(*)::FormFactors[f_+,f_0,A_0,A_1,A_2,V,T_1,T_2,T_23]@GKvD:2018A</tt></td><td>2.9590</td><td>33</td></tr>\n",
       "<tr><td><tt>B->D^*::A_1[s_max]@HFLAV:2019A</tt></td><td>0.0104</td><td>1</td></tr>\n",
       "</table><br/>\n",
       "<table>\n",
       "<tr><th>total &chi;<sup>2</sup></th><td>9.9256</td></tr>\n",
       "<tr><th>total degrees of freedom</th><td>29</td></tr>\n",
       "<tr><th>p-value</th><td>99.9628%</td></tr>\n",
       "</table>\n"
      ],
      "text/plain": [
       "<_eos.GoodnessOfFit at 0x7f938f122c20>"
      ]
     },
     "execution_count": 5,
     "metadata": {},
     "output_type": "execute_result"
    }
   ],
   "source": [
    "%time th_analysis.optimize()\n",
    "%time th_analysis.goodness_of_fit()"
   ]
  },
  {
   "cell_type": "markdown",
   "metadata": {},
   "source": [
    "initialize experimental analysis with **best-fit point** (BFP) from theory-only FF fit:"
   ]
  },
  {
   "cell_type": "code",
   "execution_count": 6,
   "metadata": {
    "scrolled": false
   },
   "outputs": [
    {
     "data": {
      "text/html": [
       "<table>\n",
       "<tr><th>constraint</th><th>&chi;<sup>2</sup></th><th>d.o.f.</th></tr>\n",
       "<tr><td><tt>B(*)->D(*)::chi_2'(1)</tt></td><td>0.0000</td><td>1</td></tr>\n",
       "<tr><td><tt>B(*)->D(*)::chi_2(1)</tt></td><td>0.0000</td><td>1</td></tr>\n",
       "<tr><td><tt>B(*)->D(*)::chi_3'(1)</tt></td><td>0.0000</td><td>1</td></tr>\n",
       "<tr><td><tt>B(*)->D(*)::eta'(1)</tt></td><td>0.0213</td><td>1</td></tr>\n",
       "<tr><td><tt>B(*)->D(*)::eta(1)</tt></td><td>0.0492</td><td>1</td></tr>\n",
       "<tr><td><tt>B->D::f_++f_0@FNAL+MILC:2015B</tt></td><td>3.6995</td><td>7</td></tr>\n",
       "<tr><td><tt>B->D::f_++f_0@HPQCD:2015A</tt></td><td>3.1833</td><td>5</td></tr>\n",
       "<tr><td><tt>B->D::f_T/f_+</tt></td><td>0.0031</td><td>1</td></tr>\n",
       "<tr><td><tt>B->D^(*)::FormFactors[f_+,f_0,A_0,A_1,A_2,V,T_1,T_2,T_23]@GKvD:2018A</tt></td><td>2.9590</td><td>33</td></tr>\n",
       "<tr><td><tt>B->D^*::A_1[s_max]@HFLAV:2019A</tt></td><td>0.0104</td><td>1</td></tr>\n",
       "<tr><td><tt>B^0->(Dpi)^+l^-nubar::KinematicDistributionsAngularObservables@BBGJvD:2021A</tt></td><td>120.3077</td><td>28</td></tr>\n",
       "</table><br/>\n",
       "<table>\n",
       "<tr><th>total &chi;<sup>2</sup></th><td>130.2334</td></tr>\n",
       "<tr><th>total degrees of freedom</th><td>50</td></tr>\n",
       "<tr><th>p-value</th><td>0.0000%</td></tr>\n",
       "</table>\n"
      ],
      "text/plain": [
       "<_eos.GoodnessOfFit at 0x7f938f11a770>"
      ]
     },
     "metadata": {},
     "output_type": "display_data"
    },
    {
     "name": "stdout",
     "output_type": "stream",
     "text": [
      "CPU times: user 355 ms, sys: 0 ns, total: 355 ms\n",
      "Wall time: 39.1 ms\n"
     ]
    }
   ],
   "source": [
    "for p in th_analysis.parameters:\n",
    "    exp_analysis.parameters[p.name()].set(p.evaluate())\n",
    "%time display(exp_analysis.goodness_of_fit())"
   ]
  },
  {
   "cell_type": "code",
   "execution_count": 7,
   "metadata": {
    "scrolled": true
   },
   "outputs": [
    {
     "name": "stderr",
     "output_type": "stream",
     "text": [
      "WARNING:EOS:Optimization did not succeed\n",
      "WARNING:EOS:  optimizer message reas: STOP: TOTAL NO. of f AND g EVALUATIONS EXCEEDS LIMIT\n"
     ]
    },
    {
     "name": "stdout",
     "output_type": "stream",
     "text": [
      "CPU times: user 2h 16min 35s, sys: 18.8 s, total: 2h 16min 53s\n",
      "Wall time: 11min 35s\n",
      "CPU times: user 521 ms, sys: 67 µs, total: 521 ms\n",
      "Wall time: 45.7 ms\n"
     ]
    },
    {
     "data": {
      "text/html": [
       "<table>\n",
       "<tr><th>constraint</th><th>&chi;<sup>2</sup></th><th>d.o.f.</th></tr>\n",
       "<tr><td><tt>B(*)->D(*)::chi_2'(1)</tt></td><td>0.0000</td><td>1</td></tr>\n",
       "<tr><td><tt>B(*)->D(*)::chi_2(1)</tt></td><td>0.0002</td><td>1</td></tr>\n",
       "<tr><td><tt>B(*)->D(*)::chi_3'(1)</tt></td><td>0.0000</td><td>1</td></tr>\n",
       "<tr><td><tt>B(*)->D(*)::eta'(1)</tt></td><td>0.0058</td><td>1</td></tr>\n",
       "<tr><td><tt>B(*)->D(*)::eta(1)</tt></td><td>0.0302</td><td>1</td></tr>\n",
       "<tr><td><tt>B->D::f_++f_0@FNAL+MILC:2015B</tt></td><td>3.7304</td><td>7</td></tr>\n",
       "<tr><td><tt>B->D::f_++f_0@HPQCD:2015A</tt></td><td>3.3272</td><td>5</td></tr>\n",
       "<tr><td><tt>B->D::f_T/f_+</tt></td><td>0.0049</td><td>1</td></tr>\n",
       "<tr><td><tt>B->D^(*)::FormFactors[f_+,f_0,A_0,A_1,A_2,V,T_1,T_2,T_23]@GKvD:2018A</tt></td><td>4.3290</td><td>33</td></tr>\n",
       "<tr><td><tt>B->D^*::A_1[s_max]@HFLAV:2019A</tt></td><td>0.1598</td><td>1</td></tr>\n",
       "<tr><td><tt>B^0->(Dpi)^+l^-nubar::KinematicDistributionsAngularObservables@BBGJvD:2021A</tt></td><td>44.6035</td><td>28</td></tr>\n",
       "</table><br/>\n",
       "<table>\n",
       "<tr><th>total &chi;<sup>2</sup></th><td>56.1911</td></tr>\n",
       "<tr><th>total degrees of freedom</th><td>50</td></tr>\n",
       "<tr><th>p-value</th><td>25.4201%</td></tr>\n",
       "</table>\n"
      ],
      "text/plain": [
       "<_eos.GoodnessOfFit at 0x7f6e945bab80>"
      ]
     },
     "execution_count": 7,
     "metadata": {},
     "output_type": "execute_result"
    }
   ],
   "source": [
    "%time exp_analysis.optimize()\n",
    "%time exp_analysis.goodness_of_fit()"
   ]
  },
  {
   "cell_type": "markdown",
   "metadata": {},
   "source": [
    "# Fit with Markov Chains"
   ]
  },
  {
   "cell_type": "code",
   "execution_count": 8,
   "metadata": {
    "scrolled": true
   },
   "outputs": [
    {
     "name": "stdout",
     "output_type": "stream",
     "text": [
      "Chain :  1\n"
     ]
    },
    {
     "name": "stderr",
     "output_type": "stream",
     "text": [
      "Pre-runs:   0%|          | 0/14 [00:00<?, ?it/s]INFO:EOS:Prerun 0 out of 14\n",
      "INFO:EOS:Prerun 0: acceptance rate is   1%\n",
      "Pre-runs:   7%|▋         | 1/14 [01:02<13:29, 62.25s/it]INFO:EOS:Prerun 1 out of 14\n"
     ]
    },
    {
     "name": "stdout",
     "output_type": "stream",
     "text": [
      "WARNING: Markov chain self adaptation failed; trying diagonalization ... success\n"
     ]
    },
    {
     "name": "stderr",
     "output_type": "stream",
     "text": [
      "INFO:EOS:Prerun 1: acceptance rate is   1%\n",
      "Pre-runs:  14%|█▍        | 2/14 [03:08<19:56, 99.69s/it]INFO:EOS:Prerun 2 out of 14\n",
      "INFO:EOS:Prerun 2: acceptance rate is   1%\n",
      "Pre-runs:  21%|██▏       | 3/14 [05:51<23:34, 128.62s/it]INFO:EOS:Prerun 3 out of 14\n",
      "INFO:EOS:Prerun 3: acceptance rate is   3%\n",
      "Pre-runs:  29%|██▊       | 4/14 [08:33<23:40, 142.06s/it]INFO:EOS:Prerun 4 out of 14\n",
      "INFO:EOS:Prerun 4: acceptance rate is  10%\n",
      "Pre-runs:  36%|███▌      | 5/14 [11:15<22:23, 149.26s/it]INFO:EOS:Prerun 5 out of 14\n",
      "INFO:EOS:Prerun 5: acceptance rate is  26%\n",
      "Pre-runs:  43%|████▎     | 6/14 [14:06<20:52, 156.57s/it]INFO:EOS:Prerun 6 out of 14\n",
      "INFO:EOS:Prerun 6: acceptance rate is  37%\n",
      "Pre-runs:  50%|█████     | 7/14 [17:04<19:05, 163.67s/it]INFO:EOS:Prerun 7 out of 14\n",
      "INFO:EOS:Prerun 7: acceptance rate is  37%\n",
      "Pre-runs:  57%|█████▋    | 8/14 [19:55<16:35, 165.87s/it]INFO:EOS:Prerun 8 out of 14\n",
      "INFO:EOS:Prerun 8: acceptance rate is  35%\n",
      "Pre-runs:  64%|██████▍   | 9/14 [22:45<13:56, 167.22s/it]INFO:EOS:Prerun 9 out of 14\n",
      "INFO:EOS:Prerun 9: acceptance rate is  29%\n",
      "Pre-runs:  71%|███████▏  | 10/14 [25:38<11:15, 168.87s/it]INFO:EOS:Prerun 10 out of 14\n",
      "INFO:EOS:Prerun 10: acceptance rate is  31%\n",
      "Pre-runs:  79%|███████▊  | 11/14 [28:42<08:40, 173.55s/it]INFO:EOS:Prerun 11 out of 14\n",
      "INFO:EOS:Prerun 11: acceptance rate is  35%\n",
      "Pre-runs:  86%|████████▌ | 12/14 [31:33<05:45, 172.65s/it]INFO:EOS:Prerun 12 out of 14\n",
      "INFO:EOS:Prerun 12: acceptance rate is  26%\n",
      "Pre-runs:  93%|█████████▎| 13/14 [34:22<02:51, 171.57s/it]INFO:EOS:Prerun 13 out of 14\n",
      "INFO:EOS:Prerun 13: acceptance rate is  26%\n",
      "INFO:EOS:Main run: started ...                            \n",
      "INFO:EOS:Main run: acceptance rate is  28%                 \n"
     ]
    },
    {
     "name": "stdout",
     "output_type": "stream",
     "text": [
      "Chain :  2\n"
     ]
    },
    {
     "name": "stderr",
     "output_type": "stream",
     "text": [
      "Pre-runs:   0%|          | 0/14 [00:00<?, ?it/s]INFO:EOS:Prerun 0 out of 14\n",
      "INFO:EOS:Prerun 0: acceptance rate is   1%\n",
      "Pre-runs:   7%|▋         | 1/14 [00:37<08:06, 37.43s/it]INFO:EOS:Prerun 1 out of 14\n"
     ]
    },
    {
     "name": "stdout",
     "output_type": "stream",
     "text": [
      "WARNING: Markov chain self adaptation failed; trying diagonalization ... success\n"
     ]
    },
    {
     "name": "stderr",
     "output_type": "stream",
     "text": [
      "INFO:EOS:Prerun 1: acceptance rate is   1%\n",
      "Pre-runs:  14%|█▍        | 2/14 [02:33<16:46, 83.87s/it]INFO:EOS:Prerun 2 out of 14\n",
      "INFO:EOS:Prerun 2: acceptance rate is   1%\n",
      "Pre-runs:  21%|██▏       | 3/14 [04:49<19:41, 107.41s/it]INFO:EOS:Prerun 3 out of 14\n",
      "INFO:EOS:Prerun 3: acceptance rate is   5%\n",
      "Pre-runs:  29%|██▊       | 4/14 [07:14<20:22, 122.20s/it]INFO:EOS:Prerun 4 out of 14\n",
      "INFO:EOS:Prerun 4: acceptance rate is  19%\n",
      "Pre-runs:  36%|███▌      | 5/14 [09:39<19:33, 130.39s/it]INFO:EOS:Prerun 5 out of 14\n",
      "INFO:EOS:Prerun 5: acceptance rate is  29%\n",
      "Pre-runs:  43%|████▎     | 6/14 [12:03<18:02, 135.30s/it]INFO:EOS:Prerun 6 out of 14\n",
      "INFO:EOS:Prerun 6: acceptance rate is  39%\n",
      "Pre-runs:  50%|█████     | 7/14 [14:31<16:16, 139.48s/it]INFO:EOS:Prerun 7 out of 14\n",
      "INFO:EOS:Prerun 7: acceptance rate is  36%\n",
      "Pre-runs:  57%|█████▋    | 8/14 [16:57<14:09, 141.56s/it]INFO:EOS:Prerun 8 out of 14\n",
      "INFO:EOS:Prerun 8: acceptance rate is  28%\n",
      "Pre-runs:  64%|██████▍   | 9/14 [19:23<11:53, 142.79s/it]INFO:EOS:Prerun 9 out of 14\n",
      "INFO:EOS:Prerun 9: acceptance rate is  30%\n",
      "Pre-runs:  71%|███████▏  | 10/14 [21:48<09:34, 143.50s/it]INFO:EOS:Prerun 10 out of 14\n",
      "INFO:EOS:Prerun 10: acceptance rate is  34%\n",
      "Pre-runs:  79%|███████▊  | 11/14 [24:13<07:12, 144.00s/it]INFO:EOS:Prerun 11 out of 14\n",
      "INFO:EOS:Prerun 11: acceptance rate is  31%\n",
      "Pre-runs:  86%|████████▌ | 12/14 [26:38<04:48, 144.35s/it]INFO:EOS:Prerun 12 out of 14\n",
      "INFO:EOS:Prerun 12: acceptance rate is  35%\n",
      "Pre-runs:  93%|█████████▎| 13/14 [29:04<02:24, 144.61s/it]INFO:EOS:Prerun 13 out of 14\n",
      "INFO:EOS:Prerun 13: acceptance rate is  34%\n",
      "INFO:EOS:Main run: started ...                            \n",
      "INFO:EOS:Main run: acceptance rate is  38%                 \n"
     ]
    },
    {
     "name": "stdout",
     "output_type": "stream",
     "text": [
      "Chain :  3\n"
     ]
    },
    {
     "name": "stderr",
     "output_type": "stream",
     "text": [
      "Pre-runs:   0%|          | 0/14 [00:00<?, ?it/s]INFO:EOS:Prerun 0 out of 14\n",
      "INFO:EOS:Prerun 0: acceptance rate is   1%\n",
      "Pre-runs:   7%|▋         | 1/14 [01:17<16:49, 77.69s/it]INFO:EOS:Prerun 1 out of 14\n"
     ]
    },
    {
     "name": "stdout",
     "output_type": "stream",
     "text": [
      "WARNING: Markov chain self adaptation failed; trying diagonalization ... success\n"
     ]
    },
    {
     "name": "stderr",
     "output_type": "stream",
     "text": [
      "INFO:EOS:Prerun 1: acceptance rate is   0%\n",
      "Pre-runs:  14%|█▍        | 2/14 [03:42<23:24, 117.05s/it]INFO:EOS:Prerun 2 out of 14\n",
      "INFO:EOS:Prerun 2: acceptance rate is   1%\n",
      "Pre-runs:  21%|██▏       | 3/14 [06:07<23:48, 129.86s/it]INFO:EOS:Prerun 3 out of 14\n",
      "INFO:EOS:Prerun 3: acceptance rate is   5%\n",
      "Pre-runs:  29%|██▊       | 4/14 [08:32<22:39, 135.90s/it]INFO:EOS:Prerun 4 out of 14\n",
      "INFO:EOS:Prerun 4: acceptance rate is  17%\n",
      "Pre-runs:  36%|███▌      | 5/14 [11:00<21:03, 140.34s/it]INFO:EOS:Prerun 5 out of 14\n",
      "INFO:EOS:Prerun 5: acceptance rate is  30%\n",
      "Pre-runs:  43%|████▎     | 6/14 [13:30<19:08, 143.55s/it]INFO:EOS:Prerun 6 out of 14\n",
      "INFO:EOS:Prerun 6: acceptance rate is  38%\n",
      "Pre-runs:  50%|█████     | 7/14 [15:58<16:54, 144.91s/it]INFO:EOS:Prerun 7 out of 14\n",
      "INFO:EOS:Prerun 7: acceptance rate is  36%\n",
      "Pre-runs:  57%|█████▋    | 8/14 [18:24<14:31, 145.26s/it]INFO:EOS:Prerun 8 out of 14\n",
      "INFO:EOS:Prerun 8: acceptance rate is  30%\n",
      "Pre-runs:  64%|██████▍   | 9/14 [20:51<12:09, 145.82s/it]INFO:EOS:Prerun 9 out of 14\n",
      "INFO:EOS:Prerun 9: acceptance rate is  34%\n",
      "Pre-runs:  71%|███████▏  | 10/14 [23:17<09:43, 145.94s/it]INFO:EOS:Prerun 10 out of 14\n",
      "INFO:EOS:Prerun 10: acceptance rate is  35%\n",
      "Pre-runs:  79%|███████▊  | 11/14 [25:45<07:19, 146.42s/it]INFO:EOS:Prerun 11 out of 14\n",
      "INFO:EOS:Prerun 11: acceptance rate is  38%\n",
      "Pre-runs:  86%|████████▌ | 12/14 [28:12<04:53, 146.87s/it]INFO:EOS:Prerun 12 out of 14\n",
      "INFO:EOS:Prerun 12: acceptance rate is  29%\n",
      "Pre-runs:  93%|█████████▎| 13/14 [30:40<02:27, 147.09s/it]INFO:EOS:Prerun 13 out of 14\n",
      "INFO:EOS:Prerun 13: acceptance rate is  29%\n",
      "INFO:EOS:Main run: started ...                            \n",
      "INFO:EOS:Main run: acceptance rate is  31%                 \n"
     ]
    },
    {
     "name": "stdout",
     "output_type": "stream",
     "text": [
      "Chain :  4\n"
     ]
    },
    {
     "name": "stderr",
     "output_type": "stream",
     "text": [
      "Pre-runs:   0%|          | 0/14 [00:00<?, ?it/s]INFO:EOS:Prerun 0 out of 14\n",
      "INFO:EOS:Prerun 0: acceptance rate is   1%\n",
      "Pre-runs:   7%|▋         | 1/14 [01:05<14:15, 65.80s/it]INFO:EOS:Prerun 1 out of 14\n"
     ]
    },
    {
     "name": "stdout",
     "output_type": "stream",
     "text": [
      "WARNING: Markov chain self adaptation failed; trying diagonalization ... success\n"
     ]
    },
    {
     "name": "stderr",
     "output_type": "stream",
     "text": [
      "INFO:EOS:Prerun 1: acceptance rate is   1%\n",
      "Pre-runs:  14%|█▍        | 2/14 [03:43<24:00, 120.08s/it]INFO:EOS:Prerun 2 out of 14\n",
      "INFO:EOS:Prerun 2: acceptance rate is   2%\n",
      "Pre-runs:  21%|██▏       | 3/14 [06:27<25:39, 139.96s/it]INFO:EOS:Prerun 3 out of 14\n",
      "INFO:EOS:Prerun 3: acceptance rate is  11%\n",
      "Pre-runs:  29%|██▊       | 4/14 [09:03<24:21, 146.12s/it]INFO:EOS:Prerun 4 out of 14\n",
      "INFO:EOS:Prerun 4: acceptance rate is  30%\n",
      "Pre-runs:  36%|███▌      | 5/14 [11:43<22:41, 151.22s/it]INFO:EOS:Prerun 5 out of 14\n",
      "INFO:EOS:Prerun 5: acceptance rate is  40%\n",
      "Pre-runs:  43%|████▎     | 6/14 [14:19<20:23, 152.89s/it]INFO:EOS:Prerun 6 out of 14\n",
      "INFO:EOS:Prerun 6: acceptance rate is  36%\n",
      "Pre-runs:  50%|█████     | 7/14 [16:57<18:01, 154.55s/it]INFO:EOS:Prerun 7 out of 14\n",
      "INFO:EOS:Prerun 7: acceptance rate is  29%\n",
      "Pre-runs:  57%|█████▋    | 8/14 [19:34<15:32, 155.36s/it]INFO:EOS:Prerun 8 out of 14\n",
      "INFO:EOS:Prerun 8: acceptance rate is  37%\n",
      "Pre-runs:  64%|██████▍   | 9/14 [22:14<13:04, 156.91s/it]INFO:EOS:Prerun 9 out of 14\n",
      "INFO:EOS:Prerun 9: acceptance rate is  32%\n",
      "Pre-runs:  71%|███████▏  | 10/14 [24:57<10:35, 158.76s/it]INFO:EOS:Prerun 10 out of 14\n",
      "INFO:EOS:Prerun 10: acceptance rate is  31%\n",
      "Pre-runs:  79%|███████▊  | 11/14 [27:32<07:52, 157.65s/it]INFO:EOS:Prerun 11 out of 14\n",
      "INFO:EOS:Prerun 11: acceptance rate is  29%\n",
      "Pre-runs:  86%|████████▌ | 12/14 [29:57<05:07, 153.83s/it]INFO:EOS:Prerun 12 out of 14\n",
      "INFO:EOS:Prerun 12: acceptance rate is  30%\n",
      "Pre-runs:  93%|█████████▎| 13/14 [32:27<02:32, 152.60s/it]INFO:EOS:Prerun 13 out of 14\n",
      "INFO:EOS:Prerun 13: acceptance rate is  28%\n",
      "INFO:EOS:Main run: started ...                            \n",
      "INFO:EOS:Main run: acceptance rate is  32%                 \n"
     ]
    },
    {
     "name": "stdout",
     "output_type": "stream",
     "text": [
      "Chain :  5\n"
     ]
    },
    {
     "name": "stderr",
     "output_type": "stream",
     "text": [
      "Pre-runs:   0%|          | 0/14 [00:00<?, ?it/s]INFO:EOS:Prerun 0 out of 14\n",
      "INFO:EOS:Prerun 0: acceptance rate is   0%\n",
      "Pre-runs:   7%|▋         | 1/14 [00:27<05:51, 27.06s/it]INFO:EOS:Prerun 1 out of 14\n"
     ]
    },
    {
     "name": "stdout",
     "output_type": "stream",
     "text": [
      "WARNING: Markov chain self adaptation failed; trying diagonalization ... success\n"
     ]
    },
    {
     "name": "stderr",
     "output_type": "stream",
     "text": [
      "INFO:EOS:Prerun 1: acceptance rate is   1%\n",
      "Pre-runs:  14%|█▍        | 2/14 [02:49<19:00, 95.06s/it]INFO:EOS:Prerun 2 out of 14\n",
      "INFO:EOS:Prerun 2: acceptance rate is   2%\n",
      "Pre-runs:  21%|██▏       | 3/14 [05:14<21:35, 117.77s/it]INFO:EOS:Prerun 3 out of 14\n",
      "INFO:EOS:Prerun 3: acceptance rate is  11%\n",
      "Pre-runs:  29%|██▊       | 4/14 [07:39<21:24, 128.49s/it]INFO:EOS:Prerun 4 out of 14\n",
      "INFO:EOS:Prerun 4: acceptance rate is  30%\n",
      "Pre-runs:  36%|███▌      | 5/14 [10:04<20:09, 134.39s/it]INFO:EOS:Prerun 5 out of 14\n",
      "INFO:EOS:Prerun 5: acceptance rate is  39%\n",
      "Pre-runs:  43%|████▎     | 6/14 [12:29<18:23, 137.96s/it]INFO:EOS:Prerun 6 out of 14\n",
      "INFO:EOS:Prerun 6: acceptance rate is  36%\n",
      "Pre-runs:  50%|█████     | 7/14 [14:54<16:21, 140.25s/it]INFO:EOS:Prerun 7 out of 14\n",
      "INFO:EOS:Prerun 7: acceptance rate is  28%\n",
      "Pre-runs:  57%|█████▋    | 8/14 [17:19<14:10, 141.75s/it]INFO:EOS:Prerun 8 out of 14\n",
      "INFO:EOS:Prerun 8: acceptance rate is  34%\n",
      "Pre-runs:  64%|██████▍   | 9/14 [19:43<11:53, 142.69s/it]INFO:EOS:Prerun 9 out of 14\n",
      "INFO:EOS:Prerun 9: acceptance rate is  36%\n",
      "Pre-runs:  71%|███████▏  | 10/14 [22:08<09:33, 143.37s/it]INFO:EOS:Prerun 10 out of 14\n",
      "INFO:EOS:Prerun 10: acceptance rate is  30%\n",
      "Pre-runs:  79%|███████▊  | 11/14 [24:33<07:11, 143.84s/it]INFO:EOS:Prerun 11 out of 14\n",
      "INFO:EOS:Prerun 11: acceptance rate is  29%\n",
      "Pre-runs:  86%|████████▌ | 12/14 [26:58<04:48, 144.16s/it]INFO:EOS:Prerun 12 out of 14\n",
      "INFO:EOS:Prerun 12: acceptance rate is  29%\n",
      "Pre-runs:  93%|█████████▎| 13/14 [29:23<02:24, 144.40s/it]INFO:EOS:Prerun 13 out of 14\n",
      "INFO:EOS:Prerun 13: acceptance rate is  28%\n",
      "INFO:EOS:Main run: started ...                            \n",
      "INFO:EOS:Main run: acceptance rate is  29%                 \n"
     ]
    },
    {
     "name": "stdout",
     "output_type": "stream",
     "text": [
      "Chain :  6\n"
     ]
    },
    {
     "name": "stderr",
     "output_type": "stream",
     "text": [
      "Pre-runs:   0%|          | 0/14 [00:00<?, ?it/s]INFO:EOS:Prerun 0 out of 14\n",
      "INFO:EOS:Prerun 0: acceptance rate is   1%\n",
      "Pre-runs:   7%|▋         | 1/14 [00:20<04:29, 20.72s/it]INFO:EOS:Prerun 1 out of 14\n"
     ]
    },
    {
     "name": "stdout",
     "output_type": "stream",
     "text": [
      "WARNING: Markov chain self adaptation failed; trying diagonalization ... success\n"
     ]
    },
    {
     "name": "stderr",
     "output_type": "stream",
     "text": [
      "INFO:EOS:Prerun 1: acceptance rate is   1%\n",
      "Pre-runs:  14%|█▍        | 2/14 [01:45<11:39, 58.32s/it]INFO:EOS:Prerun 2 out of 14\n",
      "INFO:EOS:Prerun 2: acceptance rate is   1%\n",
      "Pre-runs:  21%|██▏       | 3/14 [04:44<20:46, 113.35s/it]INFO:EOS:Prerun 3 out of 14\n",
      "INFO:EOS:Prerun 3: acceptance rate is   6%\n",
      "Pre-runs:  29%|██▊       | 4/14 [07:26<22:05, 132.58s/it]INFO:EOS:Prerun 4 out of 14\n",
      "INFO:EOS:Prerun 4: acceptance rate is  14%\n",
      "Pre-runs:  36%|███▌      | 5/14 [10:06<21:23, 142.58s/it]INFO:EOS:Prerun 5 out of 14\n",
      "INFO:EOS:Prerun 5: acceptance rate is  33%\n",
      "Pre-runs:  43%|████▎     | 6/14 [12:37<19:22, 145.32s/it]INFO:EOS:Prerun 6 out of 14\n",
      "INFO:EOS:Prerun 6: acceptance rate is  44%\n",
      "Pre-runs:  50%|█████     | 7/14 [15:02<16:57, 145.29s/it]INFO:EOS:Prerun 7 out of 14\n",
      "INFO:EOS:Prerun 7: acceptance rate is  42%\n",
      "Pre-runs:  57%|█████▋    | 8/14 [17:27<14:31, 145.23s/it]INFO:EOS:Prerun 8 out of 14\n",
      "INFO:EOS:Prerun 8: acceptance rate is  39%\n",
      "Pre-runs:  64%|██████▍   | 9/14 [19:54<12:08, 145.78s/it]INFO:EOS:Prerun 9 out of 14\n",
      "INFO:EOS:Prerun 9: acceptance rate is  39%\n",
      "Pre-runs:  71%|███████▏  | 10/14 [22:22<09:46, 146.58s/it]INFO:EOS:Prerun 10 out of 14\n",
      "INFO:EOS:Prerun 10: acceptance rate is  33%\n",
      "Pre-runs:  79%|███████▊  | 11/14 [24:52<07:22, 147.49s/it]INFO:EOS:Prerun 11 out of 14\n",
      "INFO:EOS:Prerun 11: acceptance rate is  31%\n",
      "Pre-runs:  86%|████████▌ | 12/14 [27:26<04:59, 149.61s/it]INFO:EOS:Prerun 12 out of 14\n",
      "INFO:EOS:Prerun 12: acceptance rate is  34%\n",
      "Pre-runs:  93%|█████████▎| 13/14 [30:05<02:32, 152.40s/it]INFO:EOS:Prerun 13 out of 14\n",
      "INFO:EOS:Prerun 13: acceptance rate is  31%\n",
      "INFO:EOS:Main run: started ...                            \n",
      "INFO:EOS:Main run: acceptance rate is  32%                 \n"
     ]
    },
    {
     "name": "stdout",
     "output_type": "stream",
     "text": [
      "Chain :  7\n"
     ]
    },
    {
     "name": "stderr",
     "output_type": "stream",
     "text": [
      "Pre-runs:   0%|          | 0/14 [00:00<?, ?it/s]INFO:EOS:Prerun 0 out of 14\n",
      "INFO:EOS:Prerun 0: acceptance rate is   1%\n",
      "Pre-runs:   7%|▋         | 1/14 [00:38<08:20, 38.47s/it]INFO:EOS:Prerun 1 out of 14\n"
     ]
    },
    {
     "name": "stdout",
     "output_type": "stream",
     "text": [
      "WARNING: Markov chain self adaptation failed; trying diagonalization ... success\n"
     ]
    },
    {
     "name": "stderr",
     "output_type": "stream",
     "text": [
      "INFO:EOS:Prerun 1: acceptance rate is   0%\n",
      "Pre-runs:  14%|█▍        | 2/14 [02:44<17:57, 89.79s/it]INFO:EOS:Prerun 2 out of 14\n",
      "INFO:EOS:Prerun 2: acceptance rate is   1%\n",
      "Pre-runs:  21%|██▏       | 3/14 [05:09<21:05, 115.07s/it]INFO:EOS:Prerun 3 out of 14\n",
      "INFO:EOS:Prerun 3: acceptance rate is   4%\n",
      "Pre-runs:  29%|██▊       | 4/14 [07:34<21:09, 126.94s/it]INFO:EOS:Prerun 4 out of 14\n",
      "INFO:EOS:Prerun 4: acceptance rate is  16%\n",
      "Pre-runs:  36%|███▌      | 5/14 [09:51<19:34, 130.48s/it]INFO:EOS:Prerun 5 out of 14\n",
      "INFO:EOS:Prerun 5: acceptance rate is  24%\n",
      "Pre-runs:  43%|████▎     | 6/14 [12:11<17:51, 133.93s/it]INFO:EOS:Prerun 6 out of 14\n",
      "INFO:EOS:Prerun 6: acceptance rate is  34%\n",
      "Pre-runs:  50%|█████     | 7/14 [14:37<16:03, 137.62s/it]INFO:EOS:Prerun 7 out of 14\n",
      "INFO:EOS:Prerun 7: acceptance rate is  39%\n",
      "Pre-runs:  57%|█████▋    | 8/14 [17:02<14:00, 140.02s/it]INFO:EOS:Prerun 8 out of 14\n",
      "INFO:EOS:Prerun 8: acceptance rate is  38%\n",
      "Pre-runs:  64%|██████▍   | 9/14 [19:27<11:48, 141.71s/it]INFO:EOS:Prerun 9 out of 14\n",
      "INFO:EOS:Prerun 9: acceptance rate is  34%\n",
      "Pre-runs:  71%|███████▏  | 10/14 [21:52<09:31, 142.76s/it]INFO:EOS:Prerun 10 out of 14\n",
      "INFO:EOS:Prerun 10: acceptance rate is  35%\n",
      "Pre-runs:  79%|███████▊  | 11/14 [24:18<07:10, 143.52s/it]INFO:EOS:Prerun 11 out of 14\n",
      "INFO:EOS:Prerun 11: acceptance rate is  29%\n",
      "Pre-runs:  86%|████████▌ | 12/14 [26:43<04:48, 144.02s/it]INFO:EOS:Prerun 12 out of 14\n",
      "INFO:EOS:Prerun 12: acceptance rate is  30%\n",
      "Pre-runs:  93%|█████████▎| 13/14 [29:08<02:24, 144.36s/it]INFO:EOS:Prerun 13 out of 14\n",
      "INFO:EOS:Prerun 13: acceptance rate is  33%\n",
      "INFO:EOS:Main run: started ...                            \n",
      "INFO:EOS:Main run: acceptance rate is  34%                 \n"
     ]
    },
    {
     "name": "stdout",
     "output_type": "stream",
     "text": [
      "Chain :  8\n"
     ]
    },
    {
     "name": "stderr",
     "output_type": "stream",
     "text": [
      "Pre-runs:   0%|          | 0/14 [00:00<?, ?it/s]INFO:EOS:Prerun 0 out of 14\n",
      "INFO:EOS:Prerun 0: acceptance rate is   0%\n",
      "Pre-runs:   7%|▋         | 1/14 [00:35<07:39, 35.38s/it]INFO:EOS:Prerun 1 out of 14\n"
     ]
    },
    {
     "name": "stdout",
     "output_type": "stream",
     "text": [
      "WARNING: Markov chain self adaptation failed; trying diagonalization ... success\n"
     ]
    },
    {
     "name": "stderr",
     "output_type": "stream",
     "text": [
      "INFO:EOS:Prerun 1: acceptance rate is   1%\n",
      "Pre-runs:  14%|█▍        | 2/14 [02:46<18:21, 91.77s/it]INFO:EOS:Prerun 2 out of 14\n",
      "INFO:EOS:Prerun 2: acceptance rate is   2%\n",
      "Pre-runs:  21%|██▏       | 3/14 [05:13<21:25, 116.86s/it]INFO:EOS:Prerun 3 out of 14\n",
      "INFO:EOS:Prerun 3: acceptance rate is  11%\n",
      "Pre-runs:  29%|██▊       | 4/14 [07:39<21:26, 128.61s/it]INFO:EOS:Prerun 4 out of 14\n",
      "INFO:EOS:Prerun 4: acceptance rate is  31%\n",
      "Pre-runs:  36%|███▌      | 5/14 [10:10<20:29, 136.60s/it]INFO:EOS:Prerun 5 out of 14\n",
      "INFO:EOS:Prerun 5: acceptance rate is  34%\n",
      "Pre-runs:  43%|████▎     | 6/14 [12:59<19:40, 147.53s/it]INFO:EOS:Prerun 6 out of 14\n",
      "INFO:EOS:Prerun 6: acceptance rate is  44%\n",
      "Pre-runs:  50%|█████     | 7/14 [15:49<18:03, 154.80s/it]INFO:EOS:Prerun 7 out of 14\n",
      "INFO:EOS:Prerun 7: acceptance rate is  41%\n",
      "Pre-runs:  57%|█████▋    | 8/14 [18:20<15:21, 153.60s/it]INFO:EOS:Prerun 8 out of 14\n",
      "INFO:EOS:Prerun 8: acceptance rate is  36%\n",
      "Pre-runs:  64%|██████▍   | 9/14 [20:58<12:54, 154.90s/it]INFO:EOS:Prerun 9 out of 14\n",
      "INFO:EOS:Prerun 9: acceptance rate is  28%\n",
      "Pre-runs:  71%|███████▏  | 10/14 [23:39<10:27, 156.95s/it]INFO:EOS:Prerun 10 out of 14\n",
      "INFO:EOS:Prerun 10: acceptance rate is  28%\n",
      "Pre-runs:  79%|███████▊  | 11/14 [26:15<07:50, 156.71s/it]INFO:EOS:Prerun 11 out of 14\n",
      "INFO:EOS:Prerun 11: acceptance rate is  26%\n",
      "Pre-runs:  86%|████████▌ | 12/14 [28:56<05:16, 158.02s/it]INFO:EOS:Prerun 12 out of 14\n",
      "INFO:EOS:Prerun 12: acceptance rate is  28%\n",
      "Pre-runs:  93%|█████████▎| 13/14 [31:31<02:37, 157.09s/it]INFO:EOS:Prerun 13 out of 14\n",
      "INFO:EOS:Prerun 13: acceptance rate is  27%\n",
      "INFO:EOS:Main run: started ...                            \n",
      "INFO:EOS:Main run: acceptance rate is  29%                 \n"
     ]
    },
    {
     "name": "stdout",
     "output_type": "stream",
     "text": [
      "Chain :  9\n"
     ]
    },
    {
     "name": "stderr",
     "output_type": "stream",
     "text": [
      "Pre-runs:   0%|          | 0/14 [00:00<?, ?it/s]INFO:EOS:Prerun 0 out of 14\n",
      "INFO:EOS:Prerun 0: acceptance rate is   1%\n",
      "Pre-runs:   7%|▋         | 1/14 [01:17<16:49, 77.63s/it]INFO:EOS:Prerun 1 out of 14\n"
     ]
    },
    {
     "name": "stdout",
     "output_type": "stream",
     "text": [
      "WARNING: Markov chain self adaptation failed; trying diagonalization ... success\n"
     ]
    },
    {
     "name": "stderr",
     "output_type": "stream",
     "text": [
      "INFO:EOS:Prerun 1: acceptance rate is   0%\n",
      "Pre-runs:  14%|█▍        | 2/14 [03:29<21:52, 109.36s/it]INFO:EOS:Prerun 2 out of 14\n",
      "INFO:EOS:Prerun 2: acceptance rate is   1%\n",
      "Pre-runs:  21%|██▏       | 3/14 [05:54<23:03, 125.73s/it]INFO:EOS:Prerun 3 out of 14\n",
      "INFO:EOS:Prerun 3: acceptance rate is   5%\n",
      "Pre-runs:  29%|██▊       | 4/14 [08:19<22:14, 133.47s/it]INFO:EOS:Prerun 4 out of 14\n",
      "INFO:EOS:Prerun 4: acceptance rate is  17%\n",
      "Pre-runs:  36%|███▌      | 5/14 [10:45<20:39, 137.73s/it]INFO:EOS:Prerun 5 out of 14\n",
      "INFO:EOS:Prerun 5: acceptance rate is  27%\n",
      "Pre-runs:  43%|████▎     | 6/14 [13:10<18:42, 140.28s/it]INFO:EOS:Prerun 6 out of 14\n",
      "INFO:EOS:Prerun 6: acceptance rate is  37%\n",
      "Pre-runs:  50%|█████     | 7/14 [15:35<16:33, 141.90s/it]INFO:EOS:Prerun 7 out of 14\n",
      "INFO:EOS:Prerun 7: acceptance rate is  32%\n",
      "Pre-runs:  57%|█████▋    | 8/14 [18:00<14:17, 142.98s/it]INFO:EOS:Prerun 8 out of 14\n",
      "INFO:EOS:Prerun 8: acceptance rate is  39%\n",
      "Pre-runs:  64%|██████▍   | 9/14 [20:26<11:58, 143.70s/it]INFO:EOS:Prerun 9 out of 14\n",
      "INFO:EOS:Prerun 9: acceptance rate is  31%\n",
      "Pre-runs:  71%|███████▏  | 10/14 [22:51<09:36, 144.18s/it]INFO:EOS:Prerun 10 out of 14\n",
      "INFO:EOS:Prerun 10: acceptance rate is  35%\n",
      "Pre-runs:  79%|███████▊  | 11/14 [25:16<07:13, 144.50s/it]INFO:EOS:Prerun 11 out of 14\n",
      "INFO:EOS:Prerun 11: acceptance rate is  35%\n",
      "Pre-runs:  86%|████████▌ | 12/14 [27:41<04:49, 144.74s/it]INFO:EOS:Prerun 12 out of 14\n",
      "INFO:EOS:Prerun 12: acceptance rate is  31%\n",
      "Pre-runs:  93%|█████████▎| 13/14 [30:07<02:24, 144.89s/it]INFO:EOS:Prerun 13 out of 14\n",
      "INFO:EOS:Prerun 13: acceptance rate is  33%\n",
      "INFO:EOS:Main run: started ...                            \n",
      "INFO:EOS:Main run: acceptance rate is  33%                 \n"
     ]
    },
    {
     "name": "stdout",
     "output_type": "stream",
     "text": [
      "Chain :  10\n"
     ]
    },
    {
     "name": "stderr",
     "output_type": "stream",
     "text": [
      "Pre-runs:   0%|          | 0/14 [00:00<?, ?it/s]INFO:EOS:Prerun 0 out of 14\n",
      "INFO:EOS:Prerun 0: acceptance rate is   1%\n",
      "Pre-runs:   7%|▋         | 1/14 [00:46<10:00, 46.20s/it]INFO:EOS:Prerun 1 out of 14\n"
     ]
    },
    {
     "name": "stdout",
     "output_type": "stream",
     "text": [
      "WARNING: Markov chain self adaptation failed; trying diagonalization ... success\n"
     ]
    },
    {
     "name": "stderr",
     "output_type": "stream",
     "text": [
      "INFO:EOS:Prerun 1: acceptance rate is   1%\n",
      "Pre-runs:  14%|█▍        | 2/14 [03:08<20:30, 102.53s/it]INFO:EOS:Prerun 2 out of 14\n",
      "INFO:EOS:Prerun 2: acceptance rate is   1%\n",
      "Pre-runs:  21%|██▏       | 3/14 [05:39<22:51, 124.72s/it]INFO:EOS:Prerun 3 out of 14\n",
      "INFO:EOS:Prerun 3: acceptance rate is  10%\n",
      "Pre-runs:  29%|██▊       | 4/14 [08:27<23:37, 141.76s/it]INFO:EOS:Prerun 4 out of 14\n",
      "INFO:EOS:Prerun 4: acceptance rate is  26%\n",
      "Pre-runs:  36%|███▌      | 5/14 [11:28<23:22, 155.86s/it]INFO:EOS:Prerun 5 out of 14\n",
      "INFO:EOS:Prerun 5: acceptance rate is  36%\n",
      "Pre-runs:  43%|████▎     | 6/14 [14:31<22:02, 165.30s/it]INFO:EOS:Prerun 6 out of 14\n",
      "INFO:EOS:Prerun 6: acceptance rate is  35%\n",
      "Pre-runs:  50%|█████     | 7/14 [17:33<19:55, 170.78s/it]INFO:EOS:Prerun 7 out of 14\n",
      "INFO:EOS:Prerun 7: acceptance rate is  33%\n",
      "Pre-runs:  57%|█████▋    | 8/14 [20:47<17:48, 178.09s/it]INFO:EOS:Prerun 8 out of 14\n",
      "INFO:EOS:Prerun 8: acceptance rate is  34%\n",
      "Pre-runs:  64%|██████▍   | 9/14 [23:51<14:59, 179.88s/it]INFO:EOS:Prerun 9 out of 14\n",
      "INFO:EOS:Prerun 9: acceptance rate is  34%\n",
      "Pre-runs:  71%|███████▏  | 10/14 [26:52<12:01, 180.30s/it]INFO:EOS:Prerun 10 out of 14\n",
      "INFO:EOS:Prerun 10: acceptance rate is  35%\n",
      "Pre-runs:  79%|███████▊  | 11/14 [29:55<09:03, 181.14s/it]INFO:EOS:Prerun 11 out of 14\n",
      "INFO:EOS:Prerun 11: acceptance rate is  36%\n",
      "Pre-runs:  86%|████████▌ | 12/14 [32:57<06:02, 181.37s/it]INFO:EOS:Prerun 12 out of 14\n",
      "INFO:EOS:Prerun 12: acceptance rate is  28%\n",
      "Pre-runs:  93%|█████████▎| 13/14 [35:58<03:01, 181.35s/it]INFO:EOS:Prerun 13 out of 14\n",
      "INFO:EOS:Prerun 13: acceptance rate is  27%\n",
      "INFO:EOS:Main run: started ...                            \n",
      "INFO:EOS:Main run: acceptance rate is  29%                 \n"
     ]
    },
    {
     "name": "stdout",
     "output_type": "stream",
     "text": [
      "Chain :  11\n"
     ]
    },
    {
     "name": "stderr",
     "output_type": "stream",
     "text": [
      "Pre-runs:   0%|          | 0/14 [00:00<?, ?it/s]INFO:EOS:Prerun 0 out of 14\n",
      "INFO:EOS:Prerun 0: acceptance rate is   1%\n",
      "Pre-runs:   7%|▋         | 1/14 [00:52<11:25, 52.69s/it]INFO:EOS:Prerun 1 out of 14\n"
     ]
    },
    {
     "name": "stdout",
     "output_type": "stream",
     "text": [
      "WARNING: Markov chain self adaptation failed; trying diagonalization ... success\n"
     ]
    },
    {
     "name": "stderr",
     "output_type": "stream",
     "text": [
      "INFO:EOS:Prerun 1: acceptance rate is   1%\n",
      "Pre-runs:  14%|█▍        | 2/14 [03:10<20:34, 102.89s/it]INFO:EOS:Prerun 2 out of 14\n",
      "INFO:EOS:Prerun 2: acceptance rate is   1%\n",
      "Pre-runs:  21%|██▏       | 3/14 [06:11<25:21, 138.33s/it]INFO:EOS:Prerun 3 out of 14\n",
      "INFO:EOS:Prerun 3: acceptance rate is   5%\n",
      "Pre-runs:  29%|██▊       | 4/14 [09:11<25:50, 155.09s/it]INFO:EOS:Prerun 4 out of 14\n",
      "INFO:EOS:Prerun 4: acceptance rate is  21%\n",
      "Pre-runs:  36%|███▌      | 5/14 [12:12<24:38, 164.30s/it]INFO:EOS:Prerun 5 out of 14\n",
      "INFO:EOS:Prerun 5: acceptance rate is  32%\n",
      "Pre-runs:  43%|████▎     | 6/14 [15:12<22:37, 169.75s/it]INFO:EOS:Prerun 6 out of 14\n",
      "INFO:EOS:Prerun 6: acceptance rate is  38%\n",
      "Pre-runs:  50%|█████     | 7/14 [18:13<20:12, 173.25s/it]INFO:EOS:Prerun 7 out of 14\n",
      "INFO:EOS:Prerun 7: acceptance rate is  31%\n",
      "Pre-runs:  57%|█████▋    | 8/14 [21:13<17:33, 175.57s/it]INFO:EOS:Prerun 8 out of 14\n",
      "INFO:EOS:Prerun 8: acceptance rate is  37%\n",
      "Pre-runs:  64%|██████▍   | 9/14 [24:13<14:44, 176.87s/it]INFO:EOS:Prerun 9 out of 14\n",
      "INFO:EOS:Prerun 9: acceptance rate is  37%\n",
      "Pre-runs:  71%|███████▏  | 10/14 [27:14<11:52, 178.01s/it]INFO:EOS:Prerun 10 out of 14\n",
      "INFO:EOS:Prerun 10: acceptance rate is  31%\n",
      "Pre-runs:  79%|███████▊  | 11/14 [30:14<08:56, 178.78s/it]INFO:EOS:Prerun 11 out of 14\n",
      "INFO:EOS:Prerun 11: acceptance rate is  32%\n",
      "Pre-runs:  86%|████████▌ | 12/14 [33:15<05:58, 179.35s/it]INFO:EOS:Prerun 12 out of 14\n",
      "INFO:EOS:Prerun 12: acceptance rate is  31%\n",
      "Pre-runs:  93%|█████████▎| 13/14 [36:16<02:59, 179.77s/it]INFO:EOS:Prerun 13 out of 14\n",
      "INFO:EOS:Prerun 13: acceptance rate is  31%\n",
      "INFO:EOS:Main run: started ...                            \n",
      "INFO:EOS:Main run: acceptance rate is  31%                 \n"
     ]
    },
    {
     "name": "stdout",
     "output_type": "stream",
     "text": [
      "Chain :  12\n"
     ]
    },
    {
     "name": "stderr",
     "output_type": "stream",
     "text": [
      "Pre-runs:   0%|          | 0/14 [00:00<?, ?it/s]INFO:EOS:Prerun 0 out of 14\n",
      "INFO:EOS:Prerun 0: acceptance rate is   1%\n",
      "Pre-runs:   7%|▋         | 1/14 [00:32<07:02, 32.53s/it]INFO:EOS:Prerun 1 out of 14\n"
     ]
    },
    {
     "name": "stdout",
     "output_type": "stream",
     "text": [
      "WARNING: Markov chain self adaptation failed; trying diagonalization ... success\n"
     ]
    },
    {
     "name": "stderr",
     "output_type": "stream",
     "text": [
      "INFO:EOS:Prerun 1: acceptance rate is   0%\n",
      "Pre-runs:  14%|█▍        | 2/14 [02:44<18:12, 91.00s/it]INFO:EOS:Prerun 2 out of 14\n",
      "INFO:EOS:Prerun 2: acceptance rate is   1%\n",
      "Pre-runs:  21%|██▏       | 3/14 [05:31<23:00, 125.52s/it]INFO:EOS:Prerun 3 out of 14\n",
      "INFO:EOS:Prerun 3: acceptance rate is   1%\n",
      "Pre-runs:  29%|██▊       | 4/14 [08:28<24:21, 146.12s/it]INFO:EOS:Prerun 4 out of 14\n",
      "INFO:EOS:Prerun 4: acceptance rate is   3%\n",
      "Pre-runs:  36%|███▌      | 5/14 [11:06<22:31, 150.17s/it]INFO:EOS:Prerun 5 out of 14\n",
      "INFO:EOS:Prerun 5: acceptance rate is  13%\n",
      "Pre-runs:  43%|████▎     | 6/14 [13:52<20:45, 155.64s/it]INFO:EOS:Prerun 6 out of 14\n",
      "INFO:EOS:Prerun 6: acceptance rate is  22%\n",
      "Pre-runs:  50%|█████     | 7/14 [16:37<18:31, 158.82s/it]INFO:EOS:Prerun 7 out of 14\n",
      "INFO:EOS:Prerun 7: acceptance rate is  31%\n",
      "Pre-runs:  57%|█████▋    | 8/14 [19:25<16:10, 161.81s/it]INFO:EOS:Prerun 8 out of 14\n",
      "INFO:EOS:Prerun 8: acceptance rate is  39%\n",
      "Pre-runs:  64%|██████▍   | 9/14 [22:18<13:45, 165.06s/it]INFO:EOS:Prerun 9 out of 14\n",
      "INFO:EOS:Prerun 9: acceptance rate is  34%\n",
      "Pre-runs:  71%|███████▏  | 10/14 [25:16<11:16, 169.15s/it]INFO:EOS:Prerun 10 out of 14\n",
      "INFO:EOS:Prerun 10: acceptance rate is  43%\n",
      "Pre-runs:  79%|███████▊  | 11/14 [28:14<08:35, 171.99s/it]INFO:EOS:Prerun 11 out of 14\n",
      "INFO:EOS:Prerun 11: acceptance rate is  38%\n",
      "Pre-runs:  86%|████████▌ | 12/14 [31:13<05:47, 173.94s/it]INFO:EOS:Prerun 12 out of 14\n",
      "INFO:EOS:Prerun 12: acceptance rate is  32%\n",
      "Pre-runs:  93%|█████████▎| 13/14 [33:58<02:51, 171.35s/it]INFO:EOS:Prerun 13 out of 14\n",
      "INFO:EOS:Prerun 13: acceptance rate is  38%\n",
      "INFO:EOS:Main run: started ...                            \n",
      "INFO:EOS:Main run: acceptance rate is  38%                 \n"
     ]
    },
    {
     "name": "stdout",
     "output_type": "stream",
     "text": [
      "Chain :  13\n"
     ]
    },
    {
     "name": "stderr",
     "output_type": "stream",
     "text": [
      "Pre-runs:   0%|          | 0/14 [00:00<?, ?it/s]INFO:EOS:Prerun 0 out of 14\n",
      "INFO:EOS:Prerun 0: acceptance rate is   1%\n",
      "Pre-runs:   7%|▋         | 1/14 [00:43<09:23, 43.37s/it]INFO:EOS:Prerun 1 out of 14\n"
     ]
    },
    {
     "name": "stdout",
     "output_type": "stream",
     "text": [
      "WARNING: Markov chain self adaptation failed; trying diagonalization ... success\n"
     ]
    },
    {
     "name": "stderr",
     "output_type": "stream",
     "text": [
      "INFO:EOS:Prerun 1: acceptance rate is   0%\n",
      "Pre-runs:  14%|█▍        | 2/14 [03:05<20:14, 101.20s/it]INFO:EOS:Prerun 2 out of 14\n",
      "INFO:EOS:Prerun 2: acceptance rate is   1%\n",
      "Pre-runs:  21%|██▏       | 3/14 [05:57<24:30, 133.67s/it]INFO:EOS:Prerun 3 out of 14\n",
      "INFO:EOS:Prerun 3: acceptance rate is   4%\n",
      "Pre-runs:  29%|██▊       | 4/14 [08:46<24:38, 147.87s/it]INFO:EOS:Prerun 4 out of 14\n",
      "INFO:EOS:Prerun 4: acceptance rate is  16%\n",
      "Pre-runs:  36%|███▌      | 5/14 [11:39<23:29, 156.66s/it]INFO:EOS:Prerun 5 out of 14\n",
      "INFO:EOS:Prerun 5: acceptance rate is  26%\n",
      "Pre-runs:  43%|████▎     | 6/14 [14:32<21:39, 162.43s/it]INFO:EOS:Prerun 6 out of 14\n",
      "INFO:EOS:Prerun 6: acceptance rate is  33%\n",
      "Pre-runs:  50%|█████     | 7/14 [17:13<18:52, 161.84s/it]INFO:EOS:Prerun 7 out of 14\n",
      "INFO:EOS:Prerun 7: acceptance rate is  40%\n",
      "Pre-runs:  57%|█████▋    | 8/14 [19:58<16:16, 162.77s/it]INFO:EOS:Prerun 8 out of 14\n",
      "INFO:EOS:Prerun 8: acceptance rate is  38%\n",
      "Pre-runs:  64%|██████▍   | 9/14 [22:27<13:13, 158.63s/it]INFO:EOS:Prerun 9 out of 14\n",
      "INFO:EOS:Prerun 9: acceptance rate is  36%\n",
      "Pre-runs:  71%|███████▏  | 10/14 [25:03<10:30, 157.70s/it]INFO:EOS:Prerun 10 out of 14\n",
      "INFO:EOS:Prerun 10: acceptance rate is  27%\n",
      "Pre-runs:  79%|███████▊  | 11/14 [27:28<07:41, 153.90s/it]INFO:EOS:Prerun 11 out of 14\n",
      "INFO:EOS:Prerun 11: acceptance rate is  29%\n",
      "Pre-runs:  86%|████████▌ | 12/14 [29:53<05:02, 151.15s/it]INFO:EOS:Prerun 12 out of 14\n",
      "INFO:EOS:Prerun 12: acceptance rate is  29%\n",
      "Pre-runs:  93%|█████████▎| 13/14 [32:18<02:29, 149.24s/it]INFO:EOS:Prerun 13 out of 14\n",
      "INFO:EOS:Prerun 13: acceptance rate is  29%\n",
      "INFO:EOS:Main run: started ...                            \n",
      "INFO:EOS:Main run: acceptance rate is  32%                 \n"
     ]
    },
    {
     "name": "stdout",
     "output_type": "stream",
     "text": [
      "Chain :  14\n"
     ]
    },
    {
     "name": "stderr",
     "output_type": "stream",
     "text": [
      "Pre-runs:   0%|          | 0/14 [00:00<?, ?it/s]INFO:EOS:Prerun 0 out of 14\n",
      "INFO:EOS:Prerun 0: acceptance rate is   0%\n",
      "Pre-runs:   7%|▋         | 1/14 [00:53<11:32, 53.26s/it]INFO:EOS:Prerun 1 out of 14\n"
     ]
    },
    {
     "name": "stdout",
     "output_type": "stream",
     "text": [
      "WARNING: Markov chain self adaptation failed; trying diagonalization ... success\n"
     ]
    },
    {
     "name": "stderr",
     "output_type": "stream",
     "text": [
      "INFO:EOS:Prerun 1: acceptance rate is   1%\n",
      "Pre-runs:  14%|█▍        | 2/14 [03:02<19:37, 98.16s/it]INFO:EOS:Prerun 2 out of 14\n",
      "INFO:EOS:Prerun 2: acceptance rate is   2%\n",
      "Pre-runs:  21%|██▏       | 3/14 [05:27<21:54, 119.47s/it]INFO:EOS:Prerun 3 out of 14\n",
      "INFO:EOS:Prerun 3: acceptance rate is  16%\n",
      "Pre-runs:  29%|██▊       | 4/14 [07:52<21:34, 129.47s/it]INFO:EOS:Prerun 4 out of 14\n",
      "INFO:EOS:Prerun 4: acceptance rate is  20%\n",
      "Pre-runs:  36%|███▌      | 5/14 [10:17<20:15, 135.02s/it]INFO:EOS:Prerun 5 out of 14\n",
      "INFO:EOS:Prerun 5: acceptance rate is  31%\n",
      "Pre-runs:  43%|████▎     | 6/14 [12:42<18:26, 138.36s/it]INFO:EOS:Prerun 6 out of 14\n",
      "INFO:EOS:Prerun 6: acceptance rate is  37%\n",
      "Pre-runs:  50%|█████     | 7/14 [15:07<16:23, 140.48s/it]INFO:EOS:Prerun 7 out of 14\n",
      "INFO:EOS:Prerun 7: acceptance rate is  33%\n",
      "Pre-runs:  57%|█████▋    | 8/14 [17:31<14:11, 141.86s/it]INFO:EOS:Prerun 8 out of 14\n",
      "INFO:EOS:Prerun 8: acceptance rate is  39%\n",
      "Pre-runs:  64%|██████▍   | 9/14 [19:56<11:53, 142.80s/it]INFO:EOS:Prerun 9 out of 14\n",
      "INFO:EOS:Prerun 9: acceptance rate is  31%\n",
      "Pre-runs:  71%|███████▏  | 10/14 [22:21<09:33, 143.42s/it]INFO:EOS:Prerun 10 out of 14\n",
      "INFO:EOS:Prerun 10: acceptance rate is  26%\n",
      "Pre-runs:  79%|███████▊  | 11/14 [24:46<07:11, 143.88s/it]INFO:EOS:Prerun 11 out of 14\n",
      "INFO:EOS:Prerun 11: acceptance rate is  24%\n",
      "Pre-runs:  86%|████████▌ | 12/14 [27:11<04:48, 144.17s/it]INFO:EOS:Prerun 12 out of 14\n",
      "INFO:EOS:Prerun 12: acceptance rate is  25%\n",
      "Pre-runs:  93%|█████████▎| 13/14 [29:36<02:24, 144.39s/it]INFO:EOS:Prerun 13 out of 14\n",
      "INFO:EOS:Prerun 13: acceptance rate is  27%\n",
      "INFO:EOS:Main run: started ...                            \n",
      "INFO:EOS:Main run: acceptance rate is  27%                 \n"
     ]
    },
    {
     "name": "stdout",
     "output_type": "stream",
     "text": [
      "Chain :  15\n"
     ]
    },
    {
     "name": "stderr",
     "output_type": "stream",
     "text": [
      "Pre-runs:   0%|          | 0/14 [00:00<?, ?it/s]INFO:EOS:Prerun 0 out of 14\n",
      "INFO:EOS:Prerun 0: acceptance rate is   1%\n",
      "Pre-runs:   7%|▋         | 1/14 [01:07<14:39, 67.67s/it]INFO:EOS:Prerun 1 out of 14\n"
     ]
    },
    {
     "name": "stdout",
     "output_type": "stream",
     "text": [
      "WARNING: Markov chain self adaptation failed; trying diagonalization ... success\n"
     ]
    },
    {
     "name": "stderr",
     "output_type": "stream",
     "text": [
      "INFO:EOS:Prerun 1: acceptance rate is   1%\n",
      "Pre-runs:  14%|█▍        | 2/14 [03:18<20:55, 104.61s/it]INFO:EOS:Prerun 2 out of 14\n",
      "INFO:EOS:Prerun 2: acceptance rate is   1%\n",
      "Pre-runs:  21%|██▏       | 3/14 [05:43<22:33, 123.02s/it]INFO:EOS:Prerun 3 out of 14\n",
      "INFO:EOS:Prerun 3: acceptance rate is   6%\n",
      "Pre-runs:  29%|██▊       | 4/14 [08:07<21:56, 131.63s/it]INFO:EOS:Prerun 4 out of 14\n",
      "INFO:EOS:Prerun 4: acceptance rate is  18%\n",
      "Pre-runs:  36%|███▌      | 5/14 [10:31<20:22, 135.84s/it]INFO:EOS:Prerun 5 out of 14\n",
      "INFO:EOS:Prerun 5: acceptance rate is  28%\n",
      "Pre-runs:  43%|████▎     | 6/14 [12:56<18:31, 138.90s/it]INFO:EOS:Prerun 6 out of 14\n",
      "INFO:EOS:Prerun 6: acceptance rate is  30%\n",
      "Pre-runs:  50%|█████     | 7/14 [15:20<16:26, 140.86s/it]INFO:EOS:Prerun 7 out of 14\n",
      "INFO:EOS:Prerun 7: acceptance rate is  36%\n",
      "Pre-runs:  57%|█████▋    | 8/14 [17:45<14:12, 142.14s/it]INFO:EOS:Prerun 8 out of 14\n",
      "INFO:EOS:Prerun 8: acceptance rate is  36%\n",
      "Pre-runs:  64%|██████▍   | 9/14 [20:10<11:55, 143.02s/it]INFO:EOS:Prerun 9 out of 14\n",
      "INFO:EOS:Prerun 9: acceptance rate is  30%\n",
      "Pre-runs:  71%|███████▏  | 10/14 [22:35<09:34, 143.58s/it]INFO:EOS:Prerun 10 out of 14\n",
      "INFO:EOS:Prerun 10: acceptance rate is  32%\n",
      "Pre-runs:  79%|███████▊  | 11/14 [25:00<07:11, 143.98s/it]INFO:EOS:Prerun 11 out of 14\n",
      "INFO:EOS:Prerun 11: acceptance rate is  34%\n",
      "Pre-runs:  86%|████████▌ | 12/14 [27:25<04:48, 144.24s/it]INFO:EOS:Prerun 12 out of 14\n",
      "INFO:EOS:Prerun 12: acceptance rate is  35%\n",
      "Pre-runs:  93%|█████████▎| 13/14 [29:50<02:24, 144.44s/it]INFO:EOS:Prerun 13 out of 14\n",
      "INFO:EOS:Prerun 13: acceptance rate is  37%\n",
      "INFO:EOS:Main run: started ...                            \n",
      "INFO:EOS:Main run: acceptance rate is  29%                 \n"
     ]
    },
    {
     "name": "stdout",
     "output_type": "stream",
     "text": [
      "Chain :  16\n"
     ]
    },
    {
     "name": "stderr",
     "output_type": "stream",
     "text": [
      "Pre-runs:   0%|          | 0/14 [00:00<?, ?it/s]INFO:EOS:Prerun 0 out of 14\n",
      "INFO:EOS:Prerun 0: acceptance rate is   1%\n",
      "Pre-runs:   7%|▋         | 1/14 [00:48<10:35, 48.89s/it]INFO:EOS:Prerun 1 out of 14\n",
      "INFO:EOS:Prerun 1: acceptance rate is   1%\n",
      "Pre-runs:  14%|█▍        | 2/14 [02:24<15:18, 76.53s/it]INFO:EOS:Prerun 2 out of 14\n",
      "INFO:EOS:Prerun 2: acceptance rate is   2%\n",
      "Pre-runs:  21%|██▏       | 3/14 [04:43<19:14, 105.00s/it]INFO:EOS:Prerun 3 out of 14\n",
      "INFO:EOS:Prerun 3: acceptance rate is   5%\n",
      "Pre-runs:  29%|██▊       | 4/14 [07:08<20:07, 120.75s/it]INFO:EOS:Prerun 4 out of 14\n",
      "INFO:EOS:Prerun 4: acceptance rate is  18%\n",
      "Pre-runs:  36%|███▌      | 5/14 [09:33<19:24, 129.42s/it]INFO:EOS:Prerun 5 out of 14\n",
      "INFO:EOS:Prerun 5: acceptance rate is  30%\n",
      "Pre-runs:  43%|████▎     | 6/14 [11:58<17:57, 134.67s/it]INFO:EOS:Prerun 6 out of 14\n",
      "INFO:EOS:Prerun 6: acceptance rate is  37%\n",
      "Pre-runs:  50%|█████     | 7/14 [14:23<16:06, 138.00s/it]INFO:EOS:Prerun 7 out of 14\n",
      "INFO:EOS:Prerun 7: acceptance rate is  39%\n",
      "Pre-runs:  57%|█████▋    | 8/14 [16:47<14:01, 140.20s/it]INFO:EOS:Prerun 8 out of 14\n",
      "INFO:EOS:Prerun 8: acceptance rate is  34%\n",
      "Pre-runs:  64%|██████▍   | 9/14 [19:12<11:48, 141.66s/it]INFO:EOS:Prerun 9 out of 14\n",
      "INFO:EOS:Prerun 9: acceptance rate is  37%\n",
      "Pre-runs:  71%|███████▏  | 10/14 [21:37<09:30, 142.64s/it]INFO:EOS:Prerun 10 out of 14\n",
      "INFO:EOS:Prerun 10: acceptance rate is  32%\n",
      "Pre-runs:  79%|███████▊  | 11/14 [24:02<07:09, 143.30s/it]INFO:EOS:Prerun 11 out of 14\n",
      "INFO:EOS:Prerun 11: acceptance rate is  32%\n",
      "Pre-runs:  86%|████████▌ | 12/14 [26:27<04:47, 143.79s/it]INFO:EOS:Prerun 12 out of 14\n",
      "INFO:EOS:Prerun 12: acceptance rate is  32%\n",
      "Pre-runs:  93%|█████████▎| 13/14 [28:52<02:24, 144.12s/it]INFO:EOS:Prerun 13 out of 14\n",
      "INFO:EOS:Prerun 13: acceptance rate is  30%\n",
      "INFO:EOS:Main run: started ...                            \n",
      "INFO:EOS:Main run: acceptance rate is  34%                 \n"
     ]
    },
    {
     "name": "stdout",
     "output_type": "stream",
     "text": [
      "Chain :  17\n"
     ]
    },
    {
     "name": "stderr",
     "output_type": "stream",
     "text": [
      "Pre-runs:   0%|          | 0/14 [00:00<?, ?it/s]INFO:EOS:Prerun 0 out of 14\n",
      "INFO:EOS:Prerun 0: acceptance rate is   1%\n",
      "Pre-runs:   7%|▋         | 1/14 [00:54<11:42, 54.05s/it]INFO:EOS:Prerun 1 out of 14\n"
     ]
    },
    {
     "name": "stdout",
     "output_type": "stream",
     "text": [
      "WARNING: Markov chain self adaptation failed; trying diagonalization ... success\n"
     ]
    },
    {
     "name": "stderr",
     "output_type": "stream",
     "text": [
      "INFO:EOS:Prerun 1: acceptance rate is   1%\n",
      "Pre-runs:  14%|█▍        | 2/14 [03:11<20:38, 103.20s/it]INFO:EOS:Prerun 2 out of 14\n",
      "INFO:EOS:Prerun 2: acceptance rate is   1%\n",
      "Pre-runs:  21%|██▏       | 3/14 [05:35<22:21, 121.97s/it]INFO:EOS:Prerun 3 out of 14\n",
      "INFO:EOS:Prerun 3: acceptance rate is   4%\n",
      "Pre-runs:  29%|██▊       | 4/14 [08:00<21:50, 131.01s/it]INFO:EOS:Prerun 4 out of 14\n",
      "INFO:EOS:Prerun 4: acceptance rate is  16%\n",
      "Pre-runs:  36%|███▌      | 5/14 [10:25<20:24, 136.00s/it]INFO:EOS:Prerun 5 out of 14\n",
      "INFO:EOS:Prerun 5: acceptance rate is  25%\n",
      "Pre-runs:  43%|████▎     | 6/14 [12:50<18:32, 139.02s/it]INFO:EOS:Prerun 6 out of 14\n",
      "INFO:EOS:Prerun 6: acceptance rate is  35%\n",
      "Pre-runs:  50%|█████     | 7/14 [15:15<16:26, 140.95s/it]INFO:EOS:Prerun 7 out of 14\n",
      "INFO:EOS:Prerun 7: acceptance rate is  32%\n",
      "Pre-runs:  57%|█████▋    | 8/14 [17:40<14:13, 142.19s/it]INFO:EOS:Prerun 8 out of 14\n",
      "INFO:EOS:Prerun 8: acceptance rate is  38%\n",
      "Pre-runs:  64%|██████▍   | 9/14 [20:05<11:55, 143.04s/it]INFO:EOS:Prerun 9 out of 14\n",
      "INFO:EOS:Prerun 9: acceptance rate is  30%\n",
      "Pre-runs:  71%|███████▏  | 10/14 [22:30<09:34, 143.61s/it]INFO:EOS:Prerun 10 out of 14\n",
      "INFO:EOS:Prerun 10: acceptance rate is  34%\n",
      "Pre-runs:  79%|███████▊  | 11/14 [24:51<07:09, 143.04s/it]INFO:EOS:Prerun 11 out of 14\n",
      "INFO:EOS:Prerun 11: acceptance rate is  36%\n",
      "Pre-runs:  86%|████████▌ | 12/14 [27:16<04:47, 143.60s/it]INFO:EOS:Prerun 12 out of 14\n",
      "INFO:EOS:Prerun 12: acceptance rate is  29%\n",
      "Pre-runs:  93%|█████████▎| 13/14 [29:41<02:24, 144.00s/it]INFO:EOS:Prerun 13 out of 14\n",
      "INFO:EOS:Prerun 13: acceptance rate is  30%\n",
      "INFO:EOS:Main run: started ...                            \n",
      "INFO:EOS:Main run: acceptance rate is  31%                 \n"
     ]
    },
    {
     "name": "stdout",
     "output_type": "stream",
     "text": [
      "Chain :  18\n"
     ]
    },
    {
     "name": "stderr",
     "output_type": "stream",
     "text": [
      "Pre-runs:   0%|          | 0/14 [00:00<?, ?it/s]INFO:EOS:Prerun 0 out of 14\n",
      "INFO:EOS:Prerun 0: acceptance rate is   1%\n",
      "Pre-runs:   7%|▋         | 1/14 [00:48<10:36, 48.95s/it]INFO:EOS:Prerun 1 out of 14\n"
     ]
    },
    {
     "name": "stdout",
     "output_type": "stream",
     "text": [
      "WARNING: Markov chain self adaptation failed; trying diagonalization ... success\n"
     ]
    },
    {
     "name": "stderr",
     "output_type": "stream",
     "text": [
      "INFO:EOS:Prerun 1: acceptance rate is   0%\n",
      "Pre-runs:  14%|█▍        | 2/14 [02:21<14:55, 74.66s/it]INFO:EOS:Prerun 2 out of 14\n",
      "INFO:EOS:Prerun 2: acceptance rate is   2%\n",
      "Pre-runs:  21%|██▏       | 3/14 [04:46<19:33, 106.69s/it]INFO:EOS:Prerun 3 out of 14\n",
      "INFO:EOS:Prerun 3: acceptance rate is   4%\n",
      "Pre-runs:  29%|██▊       | 4/14 [07:11<20:17, 121.75s/it]INFO:EOS:Prerun 4 out of 14\n",
      "INFO:EOS:Prerun 4: acceptance rate is  18%\n",
      "Pre-runs:  36%|███▌      | 5/14 [09:36<19:30, 130.08s/it]INFO:EOS:Prerun 5 out of 14\n",
      "INFO:EOS:Prerun 5: acceptance rate is  25%\n",
      "Pre-runs:  43%|████▎     | 6/14 [12:01<18:01, 135.14s/it]INFO:EOS:Prerun 6 out of 14\n",
      "INFO:EOS:Prerun 6: acceptance rate is  38%\n",
      "Pre-runs:  50%|█████     | 7/14 [14:25<16:08, 138.31s/it]INFO:EOS:Prerun 7 out of 14\n",
      "INFO:EOS:Prerun 7: acceptance rate is  38%\n",
      "Pre-runs:  57%|█████▋    | 8/14 [16:50<14:02, 140.40s/it]INFO:EOS:Prerun 8 out of 14\n",
      "INFO:EOS:Prerun 8: acceptance rate is  33%\n",
      "Pre-runs:  64%|██████▍   | 9/14 [19:15<11:48, 141.79s/it]INFO:EOS:Prerun 9 out of 14\n",
      "INFO:EOS:Prerun 9: acceptance rate is  35%\n",
      "Pre-runs:  71%|███████▏  | 10/14 [21:40<09:31, 142.76s/it]INFO:EOS:Prerun 10 out of 14\n",
      "INFO:EOS:Prerun 10: acceptance rate is  29%\n",
      "Pre-runs:  79%|███████▊  | 11/14 [24:05<07:10, 143.41s/it]INFO:EOS:Prerun 11 out of 14\n",
      "INFO:EOS:Prerun 11: acceptance rate is  33%\n",
      "Pre-runs:  86%|████████▌ | 12/14 [26:30<04:47, 143.84s/it]INFO:EOS:Prerun 12 out of 14\n",
      "INFO:EOS:Prerun 12: acceptance rate is  31%\n",
      "Pre-runs:  93%|█████████▎| 13/14 [28:55<02:24, 144.18s/it]INFO:EOS:Prerun 13 out of 14\n",
      "INFO:EOS:Prerun 13: acceptance rate is  28%\n",
      "INFO:EOS:Main run: started ...                            \n",
      "INFO:EOS:Main run: acceptance rate is  37%                 \n"
     ]
    },
    {
     "name": "stdout",
     "output_type": "stream",
     "text": [
      "Chain :  19\n"
     ]
    },
    {
     "name": "stderr",
     "output_type": "stream",
     "text": [
      "Pre-runs:   0%|          | 0/14 [00:00<?, ?it/s]INFO:EOS:Prerun 0 out of 14\n",
      "INFO:EOS:Prerun 0: acceptance rate is   1%\n",
      "Pre-runs:   7%|▋         | 1/14 [01:18<17:05, 78.91s/it]INFO:EOS:Prerun 1 out of 14\n"
     ]
    },
    {
     "name": "stdout",
     "output_type": "stream",
     "text": [
      "WARNING: Markov chain self adaptation failed; trying diagonalization ... success\n"
     ]
    },
    {
     "name": "stderr",
     "output_type": "stream",
     "text": [
      "INFO:EOS:Prerun 1: acceptance rate is   0%\n",
      "Pre-runs:  14%|█▍        | 2/14 [03:37<22:48, 114.03s/it]INFO:EOS:Prerun 2 out of 14\n",
      "INFO:EOS:Prerun 2: acceptance rate is   1%\n",
      "Pre-runs:  21%|██▏       | 3/14 [05:56<23:02, 125.64s/it]INFO:EOS:Prerun 3 out of 14\n",
      "INFO:EOS:Prerun 3: acceptance rate is   6%\n",
      "Pre-runs:  29%|██▊       | 4/14 [08:21<22:12, 133.22s/it]INFO:EOS:Prerun 4 out of 14\n",
      "INFO:EOS:Prerun 4: acceptance rate is  20%\n",
      "Pre-runs:  36%|███▌      | 5/14 [10:46<20:36, 137.44s/it]INFO:EOS:Prerun 5 out of 14\n",
      "INFO:EOS:Prerun 5: acceptance rate is  32%\n",
      "Pre-runs:  43%|████▎     | 6/14 [13:11<18:39, 139.94s/it]INFO:EOS:Prerun 6 out of 14\n",
      "INFO:EOS:Prerun 6: acceptance rate is  41%\n",
      "Pre-runs:  50%|█████     | 7/14 [15:36<16:31, 141.57s/it]INFO:EOS:Prerun 7 out of 14\n",
      "INFO:EOS:Prerun 7: acceptance rate is  37%\n",
      "Pre-runs:  57%|█████▋    | 8/14 [18:01<14:15, 142.62s/it]INFO:EOS:Prerun 8 out of 14\n",
      "INFO:EOS:Prerun 8: acceptance rate is  34%\n",
      "Pre-runs:  64%|██████▍   | 9/14 [20:26<11:56, 143.34s/it]INFO:EOS:Prerun 9 out of 14\n",
      "INFO:EOS:Prerun 9: acceptance rate is  35%\n",
      "Pre-runs:  71%|███████▏  | 10/14 [22:51<09:35, 143.79s/it]INFO:EOS:Prerun 10 out of 14\n",
      "INFO:EOS:Prerun 10: acceptance rate is  26%\n",
      "Pre-runs:  79%|███████▊  | 11/14 [25:15<07:12, 144.12s/it]INFO:EOS:Prerun 11 out of 14\n",
      "INFO:EOS:Prerun 11: acceptance rate is  27%\n",
      "Pre-runs:  86%|████████▌ | 12/14 [27:40<04:48, 144.34s/it]INFO:EOS:Prerun 12 out of 14\n",
      "INFO:EOS:Prerun 12: acceptance rate is  26%\n",
      "Pre-runs:  93%|█████████▎| 13/14 [30:05<02:24, 144.51s/it]INFO:EOS:Prerun 13 out of 14\n",
      "INFO:EOS:Prerun 13: acceptance rate is  31%\n",
      "INFO:EOS:Main run: started ...                            \n",
      "INFO:EOS:Main run: acceptance rate is  31%                 \n"
     ]
    },
    {
     "name": "stdout",
     "output_type": "stream",
     "text": [
      "Chain :  20\n"
     ]
    },
    {
     "name": "stderr",
     "output_type": "stream",
     "text": [
      "Pre-runs:   0%|          | 0/14 [00:00<?, ?it/s]INFO:EOS:Prerun 0 out of 14\n",
      "INFO:EOS:Prerun 0: acceptance rate is   1%\n",
      "Pre-runs:   7%|▋         | 1/14 [01:04<13:54, 64.20s/it]INFO:EOS:Prerun 1 out of 14\n",
      "INFO:EOS:Prerun 1: acceptance rate is   1%\n",
      "Pre-runs:  14%|█▍        | 2/14 [02:57<18:35, 92.93s/it]INFO:EOS:Prerun 2 out of 14\n",
      "INFO:EOS:Prerun 2: acceptance rate is   1%\n",
      "Pre-runs:  21%|██▏       | 3/14 [05:21<21:19, 116.34s/it]INFO:EOS:Prerun 3 out of 14\n",
      "INFO:EOS:Prerun 3: acceptance rate is   3%\n",
      "Pre-runs:  29%|██▊       | 4/14 [07:46<21:15, 127.60s/it]INFO:EOS:Prerun 4 out of 14\n",
      "INFO:EOS:Prerun 4: acceptance rate is  17%\n",
      "Pre-runs:  36%|███▌      | 5/14 [10:11<20:04, 133.84s/it]INFO:EOS:Prerun 5 out of 14\n",
      "INFO:EOS:Prerun 5: acceptance rate is  31%\n",
      "Pre-runs:  43%|████▎     | 6/14 [12:36<18:20, 137.59s/it]INFO:EOS:Prerun 6 out of 14\n",
      "INFO:EOS:Prerun 6: acceptance rate is  38%\n",
      "Pre-runs:  50%|█████     | 7/14 [15:00<16:19, 139.98s/it]INFO:EOS:Prerun 7 out of 14\n",
      "INFO:EOS:Prerun 7: acceptance rate is  35%\n",
      "Pre-runs:  57%|█████▋    | 8/14 [17:25<14:09, 141.52s/it]INFO:EOS:Prerun 8 out of 14\n",
      "INFO:EOS:Prerun 8: acceptance rate is  34%\n",
      "Pre-runs:  64%|██████▍   | 9/14 [19:50<11:52, 142.56s/it]INFO:EOS:Prerun 9 out of 14\n",
      "INFO:EOS:Prerun 9: acceptance rate is  40%\n",
      "Pre-runs:  71%|███████▏  | 10/14 [22:15<09:33, 143.29s/it]INFO:EOS:Prerun 10 out of 14\n",
      "INFO:EOS:Prerun 10: acceptance rate is  31%\n",
      "Pre-runs:  79%|███████▊  | 11/14 [24:40<07:11, 143.76s/it]INFO:EOS:Prerun 11 out of 14\n",
      "INFO:EOS:Prerun 11: acceptance rate is  34%\n",
      "Pre-runs:  86%|████████▌ | 12/14 [27:05<04:48, 144.11s/it]INFO:EOS:Prerun 12 out of 14\n",
      "INFO:EOS:Prerun 12: acceptance rate is  29%\n",
      "Pre-runs:  93%|█████████▎| 13/14 [29:30<02:24, 144.33s/it]INFO:EOS:Prerun 13 out of 14\n",
      "INFO:EOS:Prerun 13: acceptance rate is  29%\n",
      "INFO:EOS:Main run: started ...                            \n",
      "INFO:EOS:Main run: acceptance rate is  30%                 \n"
     ]
    },
    {
     "name": "stdout",
     "output_type": "stream",
     "text": [
      "CPU times: user 11d 11h 45min 51s, sys: 41min 2s, total: 11d 12h 26min 53s\n",
      "Wall time: 22h 43min 34s\n"
     ]
    }
   ],
   "source": [
    "%%time\n",
    "\n",
    "chains = []\n",
    "log_posterior = []\n",
    "for i in range(mcmc_N_chains):\n",
    "    print('Chain : ', i+1)\n",
    "    rng = np.random.mtrand.RandomState(seed=12345 + i)\n",
    "    start_point = [rng.uniform(low=b[0], high=b[1]) for b in exp_analysis.bounds]\n",
    "    samples, log_weights = exp_analysis.sample(\n",
    "        preruns = mcmc_preruns,\n",
    "        pre_N = mcmc_pre_N,\n",
    "        N = mcmc_N,\n",
    "        stride = mcmc_stride, \n",
    "        start_point=start_point, rng=rng) #, cov_scale = 1e-11)\n",
    "    chains.extend(samples)\n",
    "    log_posterior.extend(log_weights)\n",
    "\n",
    "chains = np.array(chains)\n",
    "log_posterior = np.array(log_posterior)"
   ]
  },
  {
   "cell_type": "markdown",
   "metadata": {},
   "source": [
    "### Save MCMC results"
   ]
  },
  {
   "cell_type": "code",
   "execution_count": 9,
   "metadata": {},
   "outputs": [],
   "source": [
    "parameter_names = [p.name() for p in exp_analysis.varied_parameters]\n",
    "\n",
    "import pandas as pd\n",
    "\n",
    "df_mcmc = pd.DataFrame(chains, columns=parameter_names)\n",
    "df_mcmc['posterior'] = np.exp(log_posterior)\n",
    "df_mcmc['log_posterior'] = log_posterior"
   ]
  },
  {
   "cell_type": "code",
   "execution_count": 10,
   "metadata": {},
   "outputs": [],
   "source": [
    "import os\n",
    "\n",
    "fn = os.path.join(proj_path, data_path, data_mcmc_file_name)\n",
    "df_mcmc.to_csv(fn, index=False)"
   ]
  },
  {
   "cell_type": "markdown",
   "metadata": {},
   "source": [
    "### Reload MCMC results"
   ]
  },
  {
   "cell_type": "code",
   "execution_count": 7,
   "metadata": {},
   "outputs": [
    {
     "name": "stdout",
     "output_type": "stream",
     "text": [
      "<class 'pandas.core.frame.DataFrame'>\n",
      "RangeIndex: 240000 entries, 0 to 239999\n",
      "Data columns (total 32 columns):\n",
      " #   Column                       Non-Null Count   Dtype  \n",
      "---  ------                       --------------   -----  \n",
      " 0   B(*)->D(*)::xi'(1)@HQET      240000 non-null  float64\n",
      " 1   B(*)->D(*)::xi''(1)@HQET     240000 non-null  float64\n",
      " 2   B(*)->D(*)::xi'''(1)@HQET    240000 non-null  float64\n",
      " 3   B(*)->D(*)::chi_2(1)@HQET    240000 non-null  float64\n",
      " 4   B(*)->D(*)::chi_2'(1)@HQET   240000 non-null  float64\n",
      " 5   B(*)->D(*)::chi_2''(1)@HQET  240000 non-null  float64\n",
      " 6   B(*)->D(*)::chi_3'(1)@HQET   240000 non-null  float64\n",
      " 7   B(*)->D(*)::chi_3''(1)@HQET  240000 non-null  float64\n",
      " 8   B(*)->D(*)::eta(1)@HQET      240000 non-null  float64\n",
      " 9   B(*)->D(*)::eta'(1)@HQET     240000 non-null  float64\n",
      " 10  B(*)->D(*)::eta''(1)@HQET    240000 non-null  float64\n",
      " 11  B(*)->D(*)::l_1(1)@HQET      240000 non-null  float64\n",
      " 12  B(*)->D(*)::l_1'(1)@HQET     240000 non-null  float64\n",
      " 13  B(*)->D(*)::l_2(1)@HQET      240000 non-null  float64\n",
      " 14  B(*)->D(*)::l_2'(1)@HQET     240000 non-null  float64\n",
      " 15  B(*)->D(*)::l_3(1)@HQET      240000 non-null  float64\n",
      " 16  B(*)->D(*)::l_3'(1)@HQET     240000 non-null  float64\n",
      " 17  B(*)->D(*)::l_4(1)@HQET      240000 non-null  float64\n",
      " 18  B(*)->D(*)::l_4'(1)@HQET     240000 non-null  float64\n",
      " 19  B(*)->D(*)::l_5(1)@HQET      240000 non-null  float64\n",
      " 20  B(*)->D(*)::l_5'(1)@HQET     240000 non-null  float64\n",
      " 21  B(*)->D(*)::l_6(1)@HQET      240000 non-null  float64\n",
      " 22  B(*)->D(*)::l_6'(1)@HQET     240000 non-null  float64\n",
      " 23  cbenue::Re{cSR}              240000 non-null  float64\n",
      " 24  cbenue::Im{cSR}              240000 non-null  float64\n",
      " 25  cbenue::Re{cT}               240000 non-null  float64\n",
      " 26  cbmunumu::Re{cSR}            240000 non-null  float64\n",
      " 27  cbmunumu::Im{cSR}            240000 non-null  float64\n",
      " 28  cbmunumu::Re{cT}             240000 non-null  float64\n",
      " 29  cbmunumu::Im{cT}             240000 non-null  float64\n",
      " 30  posterior                    240000 non-null  float64\n",
      " 31  log_posterior                240000 non-null  float64\n",
      "dtypes: float64(32)\n",
      "memory usage: 58.6 MB\n"
     ]
    }
   ],
   "source": [
    "import pandas as pd\n",
    "import os\n",
    "\n",
    "fn = os.path.join(proj_path, data_path, data_mcmc_file_name)\n",
    "df_mcmc = pd.read_csv(fn, sep=\",\", header=0)\n",
    "df_mcmc.info()"
   ]
  },
  {
   "cell_type": "code",
   "execution_count": 8,
   "metadata": {},
   "outputs": [
    {
     "data": {
      "text/plain": [
       "240000"
      ]
     },
     "execution_count": 8,
     "metadata": {},
     "output_type": "execute_result"
    }
   ],
   "source": [
    "log_posterior = df_mcmc['log_posterior'].to_numpy()\n",
    "len(log_posterior)"
   ]
  },
  {
   "cell_type": "code",
   "execution_count": 9,
   "metadata": {},
   "outputs": [
    {
     "data": {
      "text/plain": [
       "(240000, 30)"
      ]
     },
     "execution_count": 9,
     "metadata": {},
     "output_type": "execute_result"
    }
   ],
   "source": [
    "chains = df_mcmc.drop(columns=['posterior', 'log_posterior']).to_numpy()\n",
    "chains.shape"
   ]
  },
  {
   "cell_type": "markdown",
   "metadata": {},
   "source": [
    "### Inspect and group Markov chains (MC)"
   ]
  },
  {
   "cell_type": "code",
   "execution_count": 10,
   "metadata": {},
   "outputs": [
    {
     "name": "stdout",
     "output_type": "stream",
     "text": [
      "Chain =  1,   Log-posterior max = 146.76, min = 120.16,      Indices of samples with max-Posterior: (array([11416, 11417, 11418]),)\n",
      "Chain =  2,   Log-posterior max = 146.28, min = 120.83,      Indices of samples with max-Posterior: (array([6939, 6940]),)\n",
      "Chain =  3,   Log-posterior max = 146.93, min = 123.92,      Indices of samples with max-Posterior: (array([6911]),)\n",
      "Chain =  4,   Log-posterior max = 146.93, min = 119.19,      Indices of samples with max-Posterior: (array([6722, 6723]),)\n",
      "Chain =  5,   Log-posterior max = 147.16, min = 120.41,      Indices of samples with max-Posterior: (array([6717, 6718, 6719, 6720]),)\n",
      "Chain =  6,   Log-posterior max = 147.36, min = 117.46,      Indices of samples with max-Posterior: (array([8744]),)\n",
      "Chain =  7,   Log-posterior max = 146.54, min = 117.89,      Indices of samples with max-Posterior: (array([9511]),)\n",
      "Chain =  8,   Log-posterior max = 146.52, min = 116.11,      Indices of samples with max-Posterior: (array([8533, 8534]),)\n",
      "Chain =  9,   Log-posterior max = 146.75, min = 120.20,      Indices of samples with max-Posterior: (array([10912]),)\n",
      "Chain = 10,   Log-posterior max = 146.76, min = 120.99,      Indices of samples with max-Posterior: (array([11917, 11918]),)\n",
      "Chain = 11,   Log-posterior max = 146.31, min = 122.16,      Indices of samples with max-Posterior: (array([3354, 3355, 3356, 3357]),)\n",
      "Chain = 12,   Log-posterior max = 120.86, min = 90.64,      Indices of samples with max-Posterior: (array([11974]),)\n",
      "Chain = 13,   Log-posterior max = 147.13, min = 124.15,      Indices of samples with max-Posterior: (array([2228]),)\n",
      "Chain = 14,   Log-posterior max = 146.85, min = 122.13,      Indices of samples with max-Posterior: (array([4401, 4402]),)\n",
      "Chain = 15,   Log-posterior max = 146.82, min = 120.94,      Indices of samples with max-Posterior: (array([7178, 7179]),)\n",
      "Chain = 16,   Log-posterior max = 146.44, min = 122.70,      Indices of samples with max-Posterior: (array([1713]),)\n",
      "Chain = 17,   Log-posterior max = 146.48, min = 122.26,      Indices of samples with max-Posterior: (array([6364]),)\n",
      "Chain = 18,   Log-posterior max = 146.43, min = 115.38,      Indices of samples with max-Posterior: (array([10059]),)\n",
      "Chain = 19,   Log-posterior max = 146.07, min = 120.81,      Indices of samples with max-Posterior: (array([8645]),)\n",
      "Chain = 20,   Log-posterior max = 147.13, min = 121.47,      Indices of samples with max-Posterior: (array([10483]),)\n"
     ]
    }
   ],
   "source": [
    "mc_chains = []\n",
    "mc_posterior = []\n",
    "for i in range(0, len(chains), mcmc_N):\n",
    "        mc_chains.append(chains[i:i + mcmc_N])\n",
    "        mc_posterior.append(log_posterior[i:i + mcmc_N])\n",
    "\n",
    "chains_sum = np.sum(chains)\n",
    "poster_sum = np.sum(log_posterior)\n",
    "np.isnan(chains_sum), np.isinf(chains_sum), np.isnan(poster_sum), np.isinf(poster_sum),\n",
    "        \n",
    "for i, p in enumerate(mc_posterior):\n",
    "    res = np.where(p == np.max(p))\n",
    "    print(f\"Chain = {i+1:2d},   \"\\\n",
    "          f\"Log-posterior max = {p.max():5.2f}, min = {p.min():5.2f},   \"\\\n",
    "          f\"   Indices of samples with max-Posterior: {res}\")"
   ]
  },
  {
   "cell_type": "code",
   "execution_count": 11,
   "metadata": {},
   "outputs": [
    {
     "data": {
      "text/plain": [
       "(12000, 12000)"
      ]
     },
     "execution_count": 11,
     "metadata": {},
     "output_type": "execute_result"
    }
   ],
   "source": [
    "len(mc_chains[0]), len(mc_posterior[0])"
   ]
  },
  {
   "cell_type": "code",
   "execution_count": 12,
   "metadata": {},
   "outputs": [
    {
     "name": "stdout",
     "output_type": "stream",
     "text": [
      "Number of groups = 4 for critical_r = 1.3 \n",
      "Groups\n",
      " 1: [0, 1, 3, 7, 8, 13, 15, 17, 18, 19]\n",
      " 2: [2]\n",
      " 3: [4, 5, 6, 9, 10, 12, 14, 16]\n",
      " 4: [11]\n"
     ]
    }
   ],
   "source": [
    "from pypmc.mix_adapt.r_value import r_group\n",
    "\n",
    "indices = np.arange(mc_chains[0].shape[1])\n",
    "res = r_group([np.mean(chain_values.T[indices], axis=1) for chain_values in mc_chains],\n",
    "              [np.var (chain_values.T[indices], axis=1, ddof=1) for chain_values in mc_chains],\n",
    "              n=mcmc_N, critical_r=hc_r_crit, approx=False)\n",
    "print(f\"Number of groups = {len(res)} for critical_r = {hc_r_crit} \\nGroups\")\n",
    "for g_ix, g in enumerate(res):\n",
    "    print(f\"{g_ix+1:2d}: {g}\")"
   ]
  },
  {
   "cell_type": "markdown",
   "metadata": {},
   "source": [
    "## Plots"
   ]
  },
  {
   "cell_type": "code",
   "execution_count": 13,
   "metadata": {},
   "outputs": [
    {
     "data": {
      "text/plain": [
       "30"
      ]
     },
     "execution_count": 13,
     "metadata": {},
     "output_type": "execute_result"
    }
   ],
   "source": [
    "len(exp_analysis.varied_parameters)"
   ]
  },
  {
   "cell_type": "code",
   "execution_count": 14,
   "metadata": {},
   "outputs": [
    {
     "name": "stderr",
     "output_type": "stream",
     "text": [
      "WARNING:EOS:Argument plot:x:format is only used when plot:x:scale is used\n"
     ]
    },
    {
     "data": {
      "image/png": "[encoded data removed]",
      "text/plain": [
       "<Figure size 432x288 with 1 Axes>"
      ]
     },
     "metadata": {
      "needs_background": "light"
     },
     "output_type": "display_data"
    }
   ],
   "source": [
    "plot_args = {\n",
    "    'plot': {\n",
    "        'x': { 'label': r'$C_i$', 'range': [-1.4,  1.4], 'format': '${x:.2f}$' },\n",
    "        'legend': { 'location': 'upper center' }\n",
    "    },\n",
    "    'contents': [\n",
    "        { 'label': r'${\\rm Re}(C_P^e)$',\n",
    "          'type': 'histogram', 'bins': 80,\n",
    "          'data': { 'samples': chains[:, 24-1], 'log_weights': log_posterior }},\n",
    "        { 'label': r'${\\rm Im}(C_P^e)$',\n",
    "          'type': 'histogram', 'bins': 80,\n",
    "          'data': { 'samples': chains[:, 25-1], 'log_weights': log_posterior }},\n",
    "    ]\n",
    "}\n",
    "eos.plot.Plotter(plot_args).plot()"
   ]
  },
  {
   "cell_type": "code",
   "execution_count": 15,
   "metadata": {},
   "outputs": [
    {
     "name": "stderr",
     "output_type": "stream",
     "text": [
      "WARNING:EOS:Argument plot:x:format is only used when plot:x:scale is used\n"
     ]
    },
    {
     "data": {
      "image/png": "[encoded data removed]",
      "text/plain": [
       "<Figure size 432x288 with 1 Axes>"
      ]
     },
     "metadata": {
      "needs_background": "light"
     },
     "output_type": "display_data"
    }
   ],
   "source": [
    "plot_args = {\n",
    "    'plot': {\n",
    "        'x': { 'label': r'$C_i$', 'range': [-1.0,  1.0], 'format': '${x:.2f}$' },\n",
    "        'legend': { 'location': 'upper center' }\n",
    "    },\n",
    "    'contents': [\n",
    "        { 'label': r'${\\rm Re}(C_P^\\mu)$',\n",
    "          'type': 'histogram', 'bins': 80,\n",
    "          'data': { 'samples': chains[:, 27-1], 'log_weights': log_posterior }},\n",
    "        { 'label': r'${\\rm Im}(C_P^\\mu)$',\n",
    "          'type': 'histogram', 'bins': 80,\n",
    "          'data': { 'samples': chains[:, 28-1], 'log_weights': log_posterior }},\n",
    "    \n",
    "    ]\n",
    "}\n",
    "eos.plot.Plotter(plot_args).plot()"
   ]
  },
  {
   "cell_type": "code",
   "execution_count": 16,
   "metadata": {},
   "outputs": [
    {
     "name": "stderr",
     "output_type": "stream",
     "text": [
      "WARNING:EOS:Argument plot:x:format is only used when plot:x:scale is used\n"
     ]
    },
    {
     "data": {
      "image/png": "[encoded data removed]",
      "text/plain": [
       "<Figure size 432x288 with 1 Axes>"
      ]
     },
     "metadata": {
      "needs_background": "light"
     },
     "output_type": "display_data"
    }
   ],
   "source": [
    "plot_args = {\n",
    "    'plot': {\n",
    "        'x': { 'label': r'$C_i$', 'range': [-0.06,  0.06], 'format': '${x:.2f}$' },\n",
    "        'legend': { 'location': 'upper center' }\n",
    "    },\n",
    "    'contents': [\n",
    "        { 'label': r'${\\rm Re}(C_T^e)$',\n",
    "          'type': 'histogram', 'bins': 100,\n",
    "          'data': { 'samples': chains[:, 26-1], 'log_weights': log_posterior }},\n",
    "        { 'label': r'${\\rm Re}(C_T^\\mu)$',\n",
    "          'type': 'histogram', 'bins': 100,\n",
    "          'data': { 'samples': chains[:, 29-1], 'log_weights': log_posterior }},\n",
    "        { 'label': r'${\\rm Im}(C_T^\\mu)$',\n",
    "          'type': 'histogram', 'bins': 80,\n",
    "          'data': { 'samples': chains[:, 30-1], 'log_weights': log_posterior }},\n",
    "    ]\n",
    "}\n",
    "eos.plot.Plotter(plot_args).plot()"
   ]
  },
  {
   "cell_type": "code",
   "execution_count": 19,
   "metadata": {},
   "outputs": [
    {
     "name": "stderr",
     "output_type": "stream",
     "text": [
      "WARNING:EOS:Argument plot:x:format is only used when plot:x:scale is used\n",
      "WARNING:EOS:Argument plot:y:format is only used when plot:y:scale is used\n"
     ]
    },
    {
     "data": {
      "image/png": "[encoded data removed]",
      "text/plain": [
       "<Figure size 432x288 with 1 Axes>"
      ]
     },
     "metadata": {
      "needs_background": "light"
     },
     "output_type": "display_data"
    }
   ],
   "source": [
    "plot_args = {\n",
    "    'plot': {\n",
    "        'x': { 'label': r'${\\rm Re}\\,C_P^e$', 'range': [-1.8,  +1.6],  'format': '${x:.2f}$' },\n",
    "        'y': { 'label': r'${\\rm Re}\\,C_T^e$', 'range': [-0.12, +0.12], 'format': '${x:.2f}$' },\n",
    "    },\n",
    "    'contents': [\n",
    "        {\n",
    "            'type': 'kde2D', 'color': 'C1', 'label': 'posterior',\n",
    "            'range': [-2.0, +2.0], 'levels': [68, 95, 99], 'bandwidth': 3,\n",
    "            'data': { 'samples': chains[:, (24-1, 26-1)], 'log_weights': log_posterior }\n",
    "        }\n",
    "    ]\n",
    "}\n",
    "eos.plot.Plotter(plot_args).plot()"
   ]
  },
  {
   "cell_type": "code",
   "execution_count": 20,
   "metadata": {},
   "outputs": [
    {
     "name": "stderr",
     "output_type": "stream",
     "text": [
      "WARNING:EOS:Argument plot:x:format is only used when plot:x:scale is used\n",
      "WARNING:EOS:Argument plot:y:format is only used when plot:y:scale is used\n"
     ]
    },
    {
     "data": {
      "image/png": "[encoded data removed]",
      "text/plain": [
       "<Figure size 432x288 with 1 Axes>"
      ]
     },
     "metadata": {
      "needs_background": "light"
     },
     "output_type": "display_data"
    }
   ],
   "source": [
    "plot_args = {\n",
    "    'plot': {\n",
    "        'x': { 'label': r'${\\rm Re}\\,C_P^\\mu$', 'range': [-1.3, 0.8], 'format': '${x:.2f}$' },\n",
    "        'y': { 'label': r'${\\rm Re}\\,C_T^\\mu$', 'range': [-0.08, 0.08], 'format': '${x:.2f}$' },\n",
    "    },\n",
    "    'contents': [\n",
    "        {\n",
    "            'type': 'kde2D', 'color': 'C1', 'label': 'posterior',\n",
    "            'range': [-1.8, 1.8], 'levels': [68, 95, 99], 'bandwidth': 3,\n",
    "            'data': { 'samples': chains[:, (27-1, 29-1)], 'log_weights': log_posterior }\n",
    "        }\n",
    "    ]\n",
    "}\n",
    "eos.plot.Plotter(plot_args).plot()"
   ]
  },
  {
   "cell_type": "code",
   "execution_count": 21,
   "metadata": {},
   "outputs": [
    {
     "name": "stderr",
     "output_type": "stream",
     "text": [
      "WARNING:EOS:Argument plot:x:format is only used when plot:x:scale is used\n",
      "WARNING:EOS:Argument plot:y:format is only used when plot:y:scale is used\n"
     ]
    },
    {
     "data": {
      "image/png": "[encoded data removed]",
      "text/plain": [
       "<Figure size 432x288 with 1 Axes>"
      ]
     },
     "metadata": {
      "needs_background": "light"
     },
     "output_type": "display_data"
    }
   ],
   "source": [
    "plot_args = {\n",
    "    'plot': {\n",
    "        'x': { 'label': r'${\\rm Re}\\,C_P^e$', 'range': [-1.8, 1.6], 'format': '${x:.2f}$' },\n",
    "        'y': { 'label': r'${\\rm Im}\\,C_P^e$', 'range': [-1.4, 1.4], 'format': '${x:.2f}$' },\n",
    "    },\n",
    "    'contents': [\n",
    "        {\n",
    "            'type': 'kde2D', 'color': 'C1', 'label': 'posterior',\n",
    "            'range': [-1.8, 1.8], 'levels': [68, 95, 99], 'bandwidth': 3,\n",
    "            'data': { 'samples': chains[:, (24-1, 25-1)], 'log_weights': log_posterior }\n",
    "        }\n",
    "    ]\n",
    "}\n",
    "eos.plot.Plotter(plot_args).plot()"
   ]
  },
  {
   "cell_type": "code",
   "execution_count": 22,
   "metadata": {},
   "outputs": [
    {
     "name": "stderr",
     "output_type": "stream",
     "text": [
      "WARNING:EOS:Argument plot:x:format is only used when plot:x:scale is used\n",
      "WARNING:EOS:Argument plot:y:format is only used when plot:y:scale is used\n"
     ]
    },
    {
     "data": {
      "image/png": "[encoded data removed]",
      "text/plain": [
       "<Figure size 432x288 with 1 Axes>"
      ]
     },
     "metadata": {
      "needs_background": "light"
     },
     "output_type": "display_data"
    }
   ],
   "source": [
    "plot_args = {\n",
    "    'plot': {\n",
    "        'x': { 'label': r'${\\rm Re}\\,C_P^e$',   'range': [-1.8, 1.6], 'format': '${x:.2f}$' },\n",
    "        'y': { 'label': r'${\\rm Re}\\,C_P^\\mu$', 'range': [-1.4, 0.8], 'format': '${x:.2f}$' },\n",
    "    },\n",
    "    'contents': [\n",
    "        {\n",
    "            'type': 'kde2D', 'color': 'C1', 'label': 'posterior',\n",
    "            'range': [-1.1, 0.0], 'levels': [68, 95, 99], 'bandwidth': 3,\n",
    "            'data': { 'samples': chains[:, (24-1, 27-1)], 'log_weights': log_posterior }\n",
    "        }\n",
    "    ]\n",
    "}\n",
    "eos.plot.Plotter(plot_args).plot()"
   ]
  },
  {
   "cell_type": "code",
   "execution_count": 23,
   "metadata": {},
   "outputs": [
    {
     "name": "stderr",
     "output_type": "stream",
     "text": [
      "WARNING:EOS:Argument plot:x:format is only used when plot:x:scale is used\n",
      "WARNING:EOS:Argument plot:y:format is only used when plot:y:scale is used\n"
     ]
    },
    {
     "data": {
      "image/png": "[encoded data removed]",
      "text/plain": [
       "<Figure size 432x288 with 1 Axes>"
      ]
     },
     "metadata": {
      "needs_background": "light"
     },
     "output_type": "display_data"
    }
   ],
   "source": [
    "plot_args = {\n",
    "    'plot': {\n",
    "        'x': { 'label': r'${\\rm Re}\\,C_T^e$',   'range': [-0.15, 0.10],  'format': '${x:.2f}$' },\n",
    "        'y': { 'label': r'${\\rm Re}\\,C_T^\\mu$', 'range': [-0.08, 0.08], 'format': '${x:.2f}$' },\n",
    "    },\n",
    "    'contents': [\n",
    "        {\n",
    "            'type': 'kde2D', 'color': 'C1', 'label': 'posterior',\n",
    "            'range': [+0.01, 0.07], 'levels': [68, 95, 99], 'bandwidth': 3,\n",
    "            'data': { 'samples': chains[:, (26-1, 30-1)], 'log_weights': log_posterior }\n",
    "        }\n",
    "    ]\n",
    "}\n",
    "eos.plot.Plotter(plot_args).plot()"
   ]
  },
  {
   "cell_type": "code",
   "execution_count": 24,
   "metadata": {},
   "outputs": [
    {
     "name": "stderr",
     "output_type": "stream",
     "text": [
      "WARNING:EOS:Argument plot:x:format is only used when plot:x:scale is used\n",
      "WARNING:EOS:Argument plot:y:format is only used when plot:y:scale is used\n"
     ]
    },
    {
     "data": {
      "image/png": "[encoded data removed]",
      "text/plain": [
       "<Figure size 432x288 with 1 Axes>"
      ]
     },
     "metadata": {
      "needs_background": "light"
     },
     "output_type": "display_data"
    }
   ],
   "source": [
    "plot_args = {\n",
    "    'plot': {\n",
    "        'x': { 'label': r'${\\rm Re}\\,C_T^\\mu$', 'range': [-0.07, 0.06], 'format': '${x:.2f}$' },\n",
    "        'y': { 'label': r'${\\rm Im}\\,C_T^\\mu$', 'range': [-0.08, 0.08], 'format': '${x:.2f}$' },\n",
    "    },\n",
    "    'contents': [\n",
    "        {\n",
    "            'type' : 'kde2D' , 'color': 'C1', 'label': 'posterior',\n",
    "            'range': [-0.07, 0.11], 'levels': [68, 95, 99], 'bandwidth': 3,\n",
    "            'data': { 'samples': chains[:, (29-1, 30-1)], 'log_weights': log_posterior }\n",
    "        }\n",
    "    ]\n",
    "}\n",
    "eos.plot.Plotter(plot_args).plot()"
   ]
  },
  {
   "cell_type": "markdown",
   "metadata": {},
   "source": [
    "# PMC run"
   ]
  },
  {
   "cell_type": "code",
   "execution_count": 17,
   "metadata": {},
   "outputs": [
    {
     "name": "stdout",
     "output_type": "stream",
     "text": [
      "Number of components  = 24 for r_crit = 1.3 and K_g = 6\n",
      "Weights of components = [0.04166667 0.04166667 0.04166667 0.04166667 0.04166667 0.04166667\n",
      " 0.04166667 0.04166667 0.04166667 0.04166667 0.04166667 0.04166667\n",
      " 0.04166667 0.04166667 0.04166667 0.04166667 0.04166667 0.04166667\n",
      " 0.04166667 0.04166667 0.04166667 0.04166667 0.04166667 0.04166667]\n"
     ]
    }
   ],
   "source": [
    "from pypmc.mix_adapt.r_value import make_r_gaussmix\n",
    "\n",
    "proposal_density = make_r_gaussmix(mc_chains, K_g=hc_K_g, critical_r=hc_r_crit)\n",
    "print(f\"Number of components  = {len(proposal_density.components)} for r_crit = {hc_r_crit} and K_g = {hc_K_g}\")\n",
    "print(f\"Weights of components = {proposal_density.weights}\")"
   ]
  },
  {
   "cell_type": "code",
   "execution_count": 18,
   "metadata": {},
   "outputs": [
    {
     "name": "stderr",
     "output_type": "stream",
     "text": [
      "Adaptions:   0%|          | 0/20 [00:00<?, ?it/s]INFO:EOS:Perplexity of the last samples after sampling in step 0: 0.11476027351660477\n",
      "INFO:EOS:Perplexity of all previous samples after sampling in step 0: 0.11476027351660477\n",
      "Adaptions:   5%|▌         | 1/20 [45:32<14:25:20, 2732.63s/it]INFO:EOS:Perplexity of the last samples after sampling in step 1: 0.11712104352238124\n",
      "INFO:EOS:Perplexity of all previous samples after sampling in step 1: 0.11594020909049256\n",
      "Adaptions:  10%|█         | 2/20 [1:10:02<9:57:01, 1990.06s/it]INFO:EOS:Perplexity of the last samples after sampling in step 2: 0.11365937308305216\n",
      "INFO:EOS:Perplexity of all previous samples after sampling in step 2: 0.11508466248755482\n",
      "Adaptions:  15%|█▌        | 3/20 [1:35:25<8:23:19, 1776.44s/it]INFO:EOS:Perplexity of the last samples after sampling in step 3: 0.04837259502205863\n",
      "WARNING:EOS:Last step's perplexity is very low. This could possibly be improved by running the markov chains that are used to form the initial PDF for a bit longer\n",
      "INFO:EOS:Perplexity of all previous samples after sampling in step 3: 0.09105081990505873\n",
      "Adaptions:  20%|██        | 4/20 [2:02:28<7:37:33, 1715.87s/it]INFO:EOS:Perplexity of the last samples after sampling in step 4: 0.12385374347132141\n",
      "INFO:EOS:Perplexity of all previous samples after sampling in step 4: 0.09672875860657096\n",
      "Adaptions:  25%|██▌       | 5/20 [2:29:12<6:58:57, 1675.81s/it]INFO:EOS:Perplexity of the last samples after sampling in step 5: 0.1340678675580078\n",
      "INFO:EOS:Perplexity of all previous samples after sampling in step 5: 0.10217461917773157\n",
      "Adaptions:  30%|███       | 6/20 [2:54:24<6:17:57, 1619.86s/it]"
     ]
    },
    {
     "name": "stdout",
     "output_type": "stream",
     "text": [
      "Could not update component 13 --> weight is set to zero.\n"
     ]
    },
    {
     "name": "stderr",
     "output_type": "stream",
     "text": [
      "INFO:EOS:Perplexity of the last samples after sampling in step 6: 0.15290194912422797\n",
      "INFO:EOS:Perplexity of all previous samples after sampling in step 6: 0.1082021367675138\n",
      "Adaptions:  35%|███▌      | 7/20 [3:22:52<5:57:14, 1648.77s/it]"
     ]
    },
    {
     "name": "stdout",
     "output_type": "stream",
     "text": [
      "Could not update component 14 --> weight is set to zero.\n"
     ]
    },
    {
     "name": "stderr",
     "output_type": "stream",
     "text": [
      "INFO:EOS:Perplexity of the last samples after sampling in step 7: 0.18476544158466707\n",
      "INFO:EOS:Perplexity of all previous samples after sampling in step 7: 0.11534857549846596\n",
      "Adaptions:  40%|████      | 8/20 [3:49:44<5:27:23, 1636.93s/it]"
     ]
    },
    {
     "name": "stdout",
     "output_type": "stream",
     "text": [
      "Could not update component 14 --> weight is set to zero.\n"
     ]
    },
    {
     "name": "stderr",
     "output_type": "stream",
     "text": [
      "INFO:EOS:Perplexity of the last samples after sampling in step 8: 0.15614069926704888\n",
      "INFO:EOS:Perplexity of all previous samples after sampling in step 8: 0.11918506181207894\n",
      "Adaptions:  45%|████▌     | 9/20 [4:16:07<4:57:00, 1620.08s/it]"
     ]
    },
    {
     "name": "stdout",
     "output_type": "stream",
     "text": [
      "Could not update component 8 --> weight is set to zero.\n"
     ]
    },
    {
     "name": "stderr",
     "output_type": "stream",
     "text": [
      "INFO:EOS:Perplexity of the last samples after sampling in step 9: 0.08096615584715626\n",
      "INFO:EOS:Perplexity of all previous samples after sampling in step 9: 0.11427891089454448\n",
      "Adaptions:  50%|█████     | 10/20 [4:41:43<4:25:41, 1594.12s/it]INFO:EOS:Perplexity of the last samples after sampling in step 10: 0.16753021094235646\n",
      "INFO:EOS:Perplexity of all previous samples after sampling in step 10: 0.11825184358226594\n",
      "Adaptions:  55%|█████▌    | 11/20 [5:07:01<3:55:38, 1570.99s/it]"
     ]
    },
    {
     "name": "stdout",
     "output_type": "stream",
     "text": [
      "Could not update component 6 --> weight is set to zero.\n"
     ]
    },
    {
     "name": "stderr",
     "output_type": "stream",
     "text": [
      "INFO:EOS:Perplexity of the last samples after sampling in step 11: 0.1972014651861176\n",
      "INFO:EOS:Perplexity of all previous samples after sampling in step 11: 0.12312226786809331\n",
      "Adaptions:  60%|██████    | 12/20 [5:32:09<3:26:54, 1551.83s/it]INFO:EOS:Perplexity of the last samples after sampling in step 12: 0.19236786318986\n",
      "INFO:EOS:Perplexity of all previous samples after sampling in step 12: 0.127255261579881\n",
      "Adaptions:  65%|██████▌   | 13/20 [5:57:17<2:59:29, 1538.47s/it]"
     ]
    },
    {
     "name": "stdout",
     "output_type": "stream",
     "text": [
      "Could not update component 6 --> weight is set to zero.\n",
      "Could not update component 8 --> weight is set to zero.\n"
     ]
    },
    {
     "name": "stderr",
     "output_type": "stream",
     "text": [
      "INFO:EOS:Perplexity of the last samples after sampling in step 13: 0.0018286730629634108\n",
      "WARNING:EOS:Last step's perplexity is very low. This could possibly be improved by running the markov chains that are used to form the initial PDF for a bit longer\n",
      "INFO:EOS:Perplexity of all previous samples after sampling in step 13: 0.06396696868321924\n",
      "Adaptions:  70%|███████   | 14/20 [6:24:01<2:35:49, 1558.27s/it]"
     ]
    },
    {
     "name": "stdout",
     "output_type": "stream",
     "text": [
      "Could not update component 5 --> weight is set to zero.\n"
     ]
    },
    {
     "name": "stderr",
     "output_type": "stream",
     "text": [
      "INFO:EOS:Perplexity of the last samples after sampling in step 14: 0.2002324951867174\n",
      "INFO:EOS:Perplexity of all previous samples after sampling in step 14: 0.06837894809683262\n",
      "Adaptions:  75%|███████▌  | 15/20 [6:50:21<2:10:24, 1564.93s/it]"
     ]
    },
    {
     "name": "stdout",
     "output_type": "stream",
     "text": [
      "Could not update component 6 --> weight is set to zero.\n",
      "Could not update component 9 --> weight is set to zero.\n"
     ]
    },
    {
     "name": "stderr",
     "output_type": "stream",
     "text": [
      "INFO:EOS:Perplexity of the last samples after sampling in step 15: 0.22573747550651635\n",
      "INFO:EOS:Perplexity of all previous samples after sampling in step 15: 0.07293589178009773\n",
      "Adaptions:  80%|████████  | 16/20 [7:16:56<1:44:56, 1574.02s/it]"
     ]
    },
    {
     "name": "stdout",
     "output_type": "stream",
     "text": [
      "Could not update component 5 --> weight is set to zero.\n",
      "Could not update component 7 --> weight is set to zero.\n"
     ]
    },
    {
     "name": "stderr",
     "output_type": "stream",
     "text": [
      "INFO:EOS:Perplexity of the last samples after sampling in step 16: 0.2329083173286821\n",
      "INFO:EOS:Perplexity of all previous samples after sampling in step 16: 0.0774981037576088\n",
      "Adaptions:  85%|████████▌ | 17/20 [7:42:30<1:18:05, 1561.78s/it]INFO:EOS:Perplexity of the last samples after sampling in step 17: 0.16062491785372132\n",
      "INFO:EOS:Perplexity of all previous samples after sampling in step 17: 0.08015025866706536\n",
      "Adaptions:  90%|█████████ | 18/20 [8:07:08<51:13, 1536.72s/it]  INFO:EOS:Perplexity of the last samples after sampling in step 18: 0.16612745124856557\n",
      "INFO:EOS:Perplexity of all previous samples after sampling in step 18: 0.08287105953942159\n",
      "Adaptions:  95%|█████████▌| 19/20 [8:31:50<25:20, 1520.16s/it]"
     ]
    },
    {
     "name": "stdout",
     "output_type": "stream",
     "text": [
      "Could not update component 0 --> weight is set to zero.\n"
     ]
    },
    {
     "name": "stderr",
     "output_type": "stream",
     "text": [
      "INFO:EOS:Perplexity of the last samples after sampling in step 19: 0.1726252013260823\n",
      "INFO:EOS:Perplexity of all previous samples after sampling in step 19: 0.085640662117426\n",
      "INFO:EOS:Perplexity after final samples: 0.16126186545257257  \n"
     ]
    },
    {
     "name": "stdout",
     "output_type": "stream",
     "text": [
      "CPU times: user 7d 31min 38s, sys: 25min 14s, total: 7d 56min 53s\n",
      "Wall time: 14h 40min 20s\n"
     ]
    }
   ],
   "source": [
    "%%time\n",
    "\n",
    "res = exp_analysis.sample_pmc(proposal_density, step_N=pmc_step_N, steps=pmc_steps, final_N=pmc_final_N)"
   ]
  },
  {
   "cell_type": "code",
   "execution_count": 19,
   "metadata": {},
   "outputs": [
    {
     "data": {
      "text/plain": [
       "((400000, 30), (400000,), pypmc.density.mixture.MixtureDensity)"
      ]
     },
     "execution_count": 19,
     "metadata": {},
     "output_type": "execute_result"
    }
   ],
   "source": [
    "res[0].shape, res[1].shape, type(res[2])"
   ]
  },
  {
   "cell_type": "code",
   "execution_count": 28,
   "metadata": {},
   "outputs": [
    {
     "name": "stderr",
     "output_type": "stream",
     "text": [
      "Adaptions:   0%|          | 0/20 [00:00<?, ?it/s]INFO:EOS:Perplexity of the last samples after sampling in step 0: 0.172478452043113\n",
      "INFO:EOS:Perplexity of all previous samples after sampling in step 0: 0.172478452043113\n",
      "Adaptions:   5%|▌         | 1/20 [24:22<7:43:02, 1462.25s/it]INFO:EOS:Perplexity of the last samples after sampling in step 1: 0.164972260457483\n",
      "INFO:EOS:Perplexity of all previous samples after sampling in step 1: 0.16866179522132102\n",
      "Adaptions:  10%|█         | 2/20 [48:43<7:18:32, 1461.81s/it]INFO:EOS:Perplexity of the last samples after sampling in step 2: 0.21727293538455988\n",
      "INFO:EOS:Perplexity of all previous samples after sampling in step 2: 0.18290815896867274\n",
      "Adaptions:  15%|█▌        | 3/20 [1:13:03<6:53:56, 1460.95s/it]INFO:EOS:Perplexity of the last samples after sampling in step 3: 0.1944050748670689\n",
      "INFO:EOS:Perplexity of all previous samples after sampling in step 3: 0.18578160174749106\n",
      "Adaptions:  20%|██        | 4/20 [1:38:28<6:36:16, 1486.04s/it]INFO:EOS:Perplexity of the last samples after sampling in step 4: 0.22205514649111735\n",
      "INFO:EOS:Perplexity of all previous samples after sampling in step 4: 0.1926522082698183\n",
      "Adaptions:  25%|██▌       | 5/20 [2:06:13<6:27:39, 1550.62s/it]INFO:EOS:Perplexity of the last samples after sampling in step 5: 0.24160087986367357\n",
      "INFO:EOS:Perplexity of all previous samples after sampling in step 5: 0.20002335229647095\n",
      "Adaptions:  30%|███       | 6/20 [2:34:09<6:11:45, 1593.27s/it]INFO:EOS:Perplexity of the last samples after sampling in step 6: 0.2230589337495232\n",
      "INFO:EOS:Perplexity of all previous samples after sampling in step 6: 0.20322324850817533\n",
      "Adaptions:  35%|███▌      | 7/20 [3:00:13<5:43:07, 1583.64s/it]INFO:EOS:Perplexity of the last samples after sampling in step 7: 0.24741571315963848\n",
      "INFO:EOS:Perplexity of all previous samples after sampling in step 7: 0.2083282642875607\n",
      "Adaptions:  40%|████      | 8/20 [3:27:36<5:20:33, 1602.78s/it]"
     ]
    },
    {
     "name": "stdout",
     "output_type": "stream",
     "text": [
      "Could not update component 0 --> weight is set to zero.\n"
     ]
    },
    {
     "name": "stderr",
     "output_type": "stream",
     "text": [
      "INFO:EOS:Perplexity of the last samples after sampling in step 8: 0.24605700973907862\n",
      "INFO:EOS:Perplexity of all previous samples after sampling in step 8: 0.21224177710546074\n",
      "Adaptions:  45%|████▌     | 9/20 [3:55:27<4:57:43, 1623.94s/it]INFO:EOS:Perplexity of the last samples after sampling in step 9: 0.26048328711910257\n",
      "INFO:EOS:Perplexity of all previous samples after sampling in step 9: 0.2166090190068664\n",
      "Adaptions:  50%|█████     | 10/20 [4:23:39<4:34:09, 1644.91s/it]INFO:EOS:Perplexity of the last samples after sampling in step 10: 0.25340607569228873\n",
      "INFO:EOS:Perplexity of all previous samples after sampling in step 10: 0.21974158440713246\n",
      "Adaptions:  55%|█████▌    | 11/20 [4:55:16<4:18:18, 1722.11s/it]INFO:EOS:Perplexity of the last samples after sampling in step 11: 0.2534738192196961\n",
      "INFO:EOS:Perplexity of all previous samples after sampling in step 11: 0.22235104721171167\n",
      "Adaptions:  60%|██████    | 12/20 [5:26:33<3:55:53, 1769.14s/it]INFO:EOS:Perplexity of the last samples after sampling in step 12: 0.24154974566340998\n",
      "INFO:EOS:Perplexity of all previous samples after sampling in step 12: 0.2237947624209637\n",
      "Adaptions:  65%|██████▌   | 13/20 [5:54:20<3:22:47, 1738.18s/it]INFO:EOS:Perplexity of the last samples after sampling in step 13: 0.25648448972413856\n",
      "INFO:EOS:Perplexity of all previous samples after sampling in step 13: 0.22599232233264804\n",
      "Adaptions:  70%|███████   | 14/20 [6:20:20<2:48:27, 1684.51s/it]INFO:EOS:Perplexity of the last samples after sampling in step 14: 0.25225320943690954\n",
      "INFO:EOS:Perplexity of all previous samples after sampling in step 14: 0.22765351418234325\n",
      "Adaptions:  75%|███████▌  | 15/20 [6:45:03<2:15:18, 1623.67s/it]INFO:EOS:Perplexity of the last samples after sampling in step 15: 0.2677641558061677\n",
      "INFO:EOS:Perplexity of all previous samples after sampling in step 15: 0.22997516038485558\n",
      "Adaptions:  80%|████████  | 16/20 [7:13:22<1:49:45, 1646.43s/it]INFO:EOS:Perplexity of the last samples after sampling in step 16: 0.2414822877652308\n",
      "INFO:EOS:Perplexity of all previous samples after sampling in step 16: 0.2306373290892904\n",
      "Adaptions:  85%|████████▌ | 17/20 [7:45:27<1:26:30, 1730.09s/it]INFO:EOS:Perplexity of the last samples after sampling in step 17: 0.26353574938692387\n",
      "INFO:EOS:Perplexity of all previous samples after sampling in step 17: 0.23236368787273065\n",
      "Adaptions:  90%|█████████ | 18/20 [8:15:14<58:14, 1747.31s/it]  INFO:EOS:Perplexity of the last samples after sampling in step 18: 0.26694645619756635\n",
      "INFO:EOS:Perplexity of all previous samples after sampling in step 18: 0.23408033625473088\n",
      "Adaptions:  95%|█████████▌| 19/20 [8:42:04<28:26, 1706.13s/it]INFO:EOS:Perplexity of the last samples after sampling in step 19: 0.26593151684025035\n",
      "INFO:EOS:Perplexity of all previous samples after sampling in step 19: 0.23558789888465353\n",
      "INFO:EOS:Perplexity after final samples: 0.2667844385999382   \n"
     ]
    }
   ],
   "source": [
    "res2 = exp_analysis.sample_pmc(res[2], step_N=pmc_step_N, steps=pmc_steps, final_N=pmc_final_N)"
   ]
  },
  {
   "cell_type": "markdown",
   "metadata": {},
   "source": [
    "### Save proposal density"
   ]
  },
  {
   "cell_type": "code",
   "execution_count": 9,
   "metadata": {},
   "outputs": [],
   "source": [
    "import pickle\n",
    "\n",
    "prop_dens_file_name = 'fit_BSM_PT-pmc_prop_dens_3.pkl'\n",
    "fn = os.path.join(proj_path, data_path, prop_dens_file_name)\n",
    "\n",
    "with open(fn, 'wb') as outp:\n",
    "    pickle.dump(res3[2], outp, pickle.HIGHEST_PROTOCOL)"
   ]
  },
  {
   "cell_type": "markdown",
   "metadata": {},
   "source": [
    "### Load proposal density"
   ]
  },
  {
   "cell_type": "code",
   "execution_count": 7,
   "metadata": {},
   "outputs": [],
   "source": [
    "import os\n",
    "import pickle\n",
    "\n",
    "prop_dens_file_name = 'fit_BSM_PT-pmc_prop_dens.pkl'\n",
    "fn = os.path.join(proj_path, data_path, prop_dens_file_name)\n",
    "\n",
    "with open(fn, 'rb') as inp:\n",
    "    dens3 = pickle.load(inp)"
   ]
  },
  {
   "cell_type": "code",
   "execution_count": 8,
   "metadata": {},
   "outputs": [
    {
     "name": "stderr",
     "output_type": "stream",
     "text": [
      "Adaptions:   0%|          | 0/20 [00:00<?, ?it/s]INFO:EOS:Perplexity of the last samples after sampling in step 0: 0.28248115301898225\n",
      "INFO:EOS:Perplexity of all previous samples after sampling in step 0: 0.28248115301898225\n",
      "Adaptions:   5%|▌         | 1/20 [32:02<10:08:45, 1922.38s/it]INFO:EOS:Perplexity of the last samples after sampling in step 1: 0.23922859842177224\n",
      "INFO:EOS:Perplexity of all previous samples after sampling in step 1: 0.25970518086855215\n",
      "Adaptions:  10%|█         | 2/20 [1:02:20<9:18:18, 1861.03s/it]INFO:EOS:Perplexity of the last samples after sampling in step 2: 0.1556960797897534\n",
      "INFO:EOS:Perplexity of all previous samples after sampling in step 2: 0.21652902281584854\n",
      "Adaptions:  15%|█▌        | 3/20 [1:32:48<8:42:58, 1845.78s/it]INFO:EOS:Perplexity of the last samples after sampling in step 3: 0.2161771977864659\n",
      "INFO:EOS:Perplexity of all previous samples after sampling in step 3: 0.21640858763704424\n",
      "Adaptions:  20%|██        | 4/20 [2:03:13<8:10:05, 1837.85s/it]INFO:EOS:Perplexity of the last samples after sampling in step 4: 0.20973400728713387\n",
      "INFO:EOS:Perplexity of all previous samples after sampling in step 4: 0.21506135960958048\n",
      "Adaptions:  25%|██▌       | 5/20 [2:33:39<7:38:22, 1833.49s/it]INFO:EOS:Perplexity of the last samples after sampling in step 5: 0.2262038812357342\n",
      "INFO:EOS:Perplexity of all previous samples after sampling in step 5: 0.2168085774671412\n",
      "Adaptions:  30%|███       | 6/20 [3:04:06<7:07:16, 1831.20s/it]INFO:EOS:Perplexity of the last samples after sampling in step 6: 0.2417244418065419\n",
      "INFO:EOS:Perplexity of all previous samples after sampling in step 6: 0.22011329249835684\n",
      "Adaptions:  35%|███▌      | 7/20 [3:34:35<6:36:36, 1830.47s/it]INFO:EOS:Perplexity of the last samples after sampling in step 7: 0.24599203014074278\n",
      "INFO:EOS:Perplexity of all previous samples after sampling in step 7: 0.2231083693934628\n",
      "Adaptions:  40%|████      | 8/20 [4:05:06<6:06:06, 1830.57s/it]INFO:EOS:Perplexity of the last samples after sampling in step 8: 0.251504663621162\n",
      "INFO:EOS:Perplexity of all previous samples after sampling in step 8: 0.22607756743531557\n",
      "Adaptions:  45%|████▌     | 9/20 [4:35:34<5:35:30, 1830.05s/it]INFO:EOS:Perplexity of the last samples after sampling in step 9: 0.245837866681657\n",
      "INFO:EOS:Perplexity of all previous samples after sampling in step 9: 0.22796530568086953\n",
      "Adaptions:  50%|█████     | 10/20 [5:06:02<5:04:52, 1829.24s/it]INFO:EOS:Perplexity of the last samples after sampling in step 10: 0.22933176782032166\n",
      "INFO:EOS:Perplexity of all previous samples after sampling in step 10: 0.22808952470277785\n",
      "Adaptions:  55%|█████▌    | 11/20 [5:36:00<4:32:58, 1819.86s/it]INFO:EOS:Perplexity of the last samples after sampling in step 11: 0.2578885281510978\n",
      "INFO:EOS:Perplexity of all previous samples after sampling in step 11: 0.2303537927429951\n",
      "Adaptions:  60%|██████    | 12/20 [6:06:37<4:03:18, 1824.80s/it]INFO:EOS:Perplexity of the last samples after sampling in step 12: 0.25141440082589483\n",
      "INFO:EOS:Perplexity of all previous samples after sampling in step 12: 0.23188988218492174\n",
      "Adaptions:  65%|██████▌   | 13/20 [6:37:11<3:33:13, 1827.66s/it]INFO:EOS:Perplexity of the last samples after sampling in step 13: 0.23734380218421053\n",
      "INFO:EOS:Perplexity of all previous samples after sampling in step 13: 0.2322633183953146\n",
      "Adaptions:  70%|███████   | 14/20 [7:07:43<3:02:54, 1829.09s/it]INFO:EOS:Perplexity of the last samples after sampling in step 14: 0.24791505978722445\n",
      "INFO:EOS:Perplexity of all previous samples after sampling in step 14: 0.23324113506350064\n",
      "Adaptions:  75%|███████▌  | 15/20 [7:38:19<2:32:35, 1831.09s/it]INFO:EOS:Perplexity of the last samples after sampling in step 15: 0.25098466753181276\n",
      "INFO:EOS:Perplexity of all previous samples after sampling in step 15: 0.2342900498766994\n",
      "Adaptions:  80%|████████  | 16/20 [8:09:38<2:03:02, 1845.52s/it]INFO:EOS:Perplexity of the last samples after sampling in step 16: 0.25413038795756143\n",
      "INFO:EOS:Perplexity of all previous samples after sampling in step 16: 0.235408280657209\n",
      "Adaptions:  85%|████████▌ | 17/20 [8:41:50<1:33:34, 1871.50s/it]INFO:EOS:Perplexity of the last samples after sampling in step 17: 0.2442064240815398\n",
      "INFO:EOS:Perplexity of all previous samples after sampling in step 17: 0.23589523891932043\n",
      "Adaptions:  90%|█████████ | 18/20 [9:12:41<1:02:10, 1865.43s/it]INFO:EOS:Perplexity of the last samples after sampling in step 18: 0.2639352486282168\n",
      "INFO:EOS:Perplexity of all previous samples after sampling in step 18: 0.2372372515131387\n",
      "Adaptions:  95%|█████████▌| 19/20 [9:43:34<31:01, 1861.66s/it]  "
     ]
    },
    {
     "name": "stdout",
     "output_type": "stream",
     "text": [
      "Could not update component 0 --> weight is set to zero.\n"
     ]
    },
    {
     "name": "stderr",
     "output_type": "stream",
     "text": [
      "INFO:EOS:Perplexity of the last samples after sampling in step 19: 0.2601079004522378\n",
      "INFO:EOS:Perplexity of all previous samples after sampling in step 19: 0.23832329725815396\n",
      "INFO:EOS:Perplexity after final samples: 0.22290238536605356   \n"
     ]
    }
   ],
   "source": [
    "# increase samples per step, but leave final step for later\n",
    "pmc_step_N = 45000\n",
    "pmc_final_N = 1000\n",
    "res3 = exp_analysis.sample_pmc(dens3, step_N=pmc_step_N, steps=pmc_steps, final_N=pmc_final_N)"
   ]
  },
  {
   "cell_type": "code",
   "execution_count": 10,
   "metadata": {},
   "outputs": [
    {
     "name": "stderr",
     "output_type": "stream",
     "text": [
      "Adaptions:   0%|          | 0/20 [00:00<?, ?it/s]INFO:EOS:Perplexity of the last samples after sampling in step 0: 0.27253047307024864\n",
      "INFO:EOS:Perplexity of all previous samples after sampling in step 0: 0.27253047307024864\n",
      "Adaptions:   5%|▌         | 1/20 [07:28<2:22:07, 448.83s/it]INFO:EOS:Perplexity of the last samples after sampling in step 1: 0.18694914280473238\n",
      "INFO:EOS:Perplexity of all previous samples after sampling in step 1: 0.22736963435352686\n",
      "Adaptions:  10%|█         | 2/20 [16:25<2:30:13, 500.74s/it]INFO:EOS:Perplexity of the last samples after sampling in step 2: 0.1472504003666349\n",
      "INFO:EOS:Perplexity of all previous samples after sampling in step 2: 0.19341159248354955\n",
      "Adaptions:  15%|█▌        | 3/20 [25:06<2:24:22, 509.58s/it]INFO:EOS:Perplexity of the last samples after sampling in step 3: 0.14705774595130286\n",
      "INFO:EOS:Perplexity of all previous samples after sampling in step 3: 0.18022101505004948\n",
      "Adaptions:  20%|██        | 4/20 [33:56<2:18:05, 517.85s/it]INFO:EOS:Perplexity of the last samples after sampling in step 4: 0.13342805704452831\n",
      "INFO:EOS:Perplexity of all previous samples after sampling in step 4: 0.16925339536327563\n",
      "Adaptions:  25%|██▌       | 5/20 [40:48<1:59:56, 479.77s/it]INFO:EOS:Perplexity of the last samples after sampling in step 5: 0.17938750877569923\n",
      "INFO:EOS:Perplexity of all previous samples after sampling in step 5: 0.17083480996244904\n",
      "Adaptions:  30%|███       | 6/20 [47:49<1:47:13, 459.53s/it]INFO:EOS:Perplexity of the last samples after sampling in step 6: 0.11888367342862352\n",
      "INFO:EOS:Perplexity of all previous samples after sampling in step 6: 0.16147835876991987\n",
      "Adaptions:  35%|███▌      | 7/20 [54:35<1:35:49, 442.29s/it]INFO:EOS:Perplexity of the last samples after sampling in step 7: 0.17970002289280454\n",
      "INFO:EOS:Perplexity of all previous samples after sampling in step 7: 0.163550815506086\n",
      "Adaptions:  40%|████      | 8/20 [1:01:39<1:27:16, 436.41s/it]INFO:EOS:Perplexity of the last samples after sampling in step 8: 0.16225801752844443\n",
      "INFO:EOS:Perplexity of all previous samples after sampling in step 8: 0.16338965073395292\n",
      "Adaptions:  45%|████▌     | 9/20 [1:09:13<1:21:00, 441.85s/it]INFO:EOS:Perplexity of the last samples after sampling in step 9: 0.10545409828372462\n",
      "INFO:EOS:Perplexity of all previous samples after sampling in step 9: 0.15501101593072136\n",
      "Adaptions:  50%|█████     | 10/20 [1:16:02<1:11:58, 431.80s/it]INFO:EOS:Perplexity of the last samples after sampling in step 10: 0.17075071176145853\n",
      "INFO:EOS:Perplexity of all previous samples after sampling in step 10: 0.1563426615075246\n",
      "Adaptions:  55%|█████▌    | 11/20 [1:22:42<1:03:19, 422.12s/it]INFO:EOS:Perplexity of the last samples after sampling in step 11: 0.17712714799014861\n",
      "INFO:EOS:Perplexity of all previous samples after sampling in step 11: 0.15790746838252173\n",
      "Adaptions:  60%|██████    | 12/20 [1:29:31<55:43, 417.98s/it]  INFO:EOS:Perplexity of the last samples after sampling in step 12: 0.14112402180337655\n",
      "INFO:EOS:Perplexity of all previous samples after sampling in step 12: 0.15646073930051618\n",
      "Adaptions:  65%|██████▌   | 13/20 [1:36:10<48:06, 412.29s/it]INFO:EOS:Perplexity of the last samples after sampling in step 13: 0.21198294827066702\n",
      "INFO:EOS:Perplexity of all previous samples after sampling in step 13: 0.1596604179354244\n",
      "Adaptions:  70%|███████   | 14/20 [1:43:03<41:14, 412.35s/it]INFO:EOS:Perplexity of the last samples after sampling in step 14: 0.21150185268780847\n",
      "INFO:EOS:Perplexity of all previous samples after sampling in step 14: 0.16250151097975835\n",
      "Adaptions:  75%|███████▌  | 15/20 [1:49:55<34:21, 412.36s/it]INFO:EOS:Perplexity of the last samples after sampling in step 15: 0.20587187782057725\n",
      "INFO:EOS:Perplexity of all previous samples after sampling in step 15: 0.1648261556989835\n",
      "Adaptions:  80%|████████  | 16/20 [1:57:43<28:36, 429.10s/it]INFO:EOS:Perplexity of the last samples after sampling in step 16: 0.1614445464203452\n",
      "INFO:EOS:Perplexity of all previous samples after sampling in step 16: 0.16454967685221855\n",
      "Adaptions:  85%|████████▌ | 17/20 [2:06:52<23:15, 465.08s/it]INFO:EOS:Perplexity of the last samples after sampling in step 17: 0.20739450874764578\n",
      "INFO:EOS:Perplexity of all previous samples after sampling in step 17: 0.16664623729823058\n",
      "Adaptions:  90%|█████████ | 18/20 [2:16:19<16:31, 495.88s/it]INFO:EOS:Perplexity of the last samples after sampling in step 18: 0.23123730582825405\n",
      "INFO:EOS:Perplexity of all previous samples after sampling in step 18: 0.16937784320386812\n",
      "Adaptions:  95%|█████████▌| 19/20 [2:24:59<08:22, 502.98s/it]"
     ]
    },
    {
     "name": "stdout",
     "output_type": "stream",
     "text": [
      "Could not update component 0 --> weight is set to zero.\n"
     ]
    },
    {
     "name": "stderr",
     "output_type": "stream",
     "text": [
      "INFO:EOS:Perplexity of the last samples after sampling in step 19: 0.18458408182655556\n",
      "INFO:EOS:Perplexity of all previous samples after sampling in step 19: 0.1701359455732114\n",
      "INFO:EOS:Perplexity after final samples: 0.2154268486017588  \n"
     ]
    }
   ],
   "source": [
    "# increase samples per step, but leave final step for later\n",
    "pmc_step_N = 10000\n",
    "pmc_final_N = 1000\n",
    "res4 = exp_analysis.sample_pmc(res3[2], step_N=pmc_step_N, steps=pmc_steps, final_N=pmc_final_N)"
   ]
  },
  {
   "cell_type": "markdown",
   "metadata": {},
   "source": [
    "### Save PMC data"
   ]
  },
  {
   "cell_type": "code",
   "execution_count": 30,
   "metadata": {},
   "outputs": [
    {
     "name": "stderr",
     "output_type": "stream",
     "text": [
      "/tmp/ipykernel_166666/86027908.py:8: RuntimeWarning: divide by zero encountered in log\n",
      "  df_pmc['log_posterior'] = np.log(pmc_posterior)\n"
     ]
    }
   ],
   "source": [
    "parameter_names = [p.name() for p in exp_analysis.varied_parameters]\n",
    "\n",
    "pmc_data = res[0]\n",
    "pmc_posterior = res[1]\n",
    "\n",
    "df_pmc = pd.DataFrame(pmc_data, columns=parameter_names)\n",
    "df_pmc['posterior'] = pmc_posterior\n",
    "df_pmc['log_posterior'] = np.log(pmc_posterior)\n",
    "\n",
    "fn = os.path.join(proj_path, data_path, data_pmc_file_name)\n",
    "df_pmc.to_csv(fn, index=False)"
   ]
  },
  {
   "cell_type": "code",
   "execution_count": 31,
   "metadata": {},
   "outputs": [
    {
     "name": "stderr",
     "output_type": "stream",
     "text": [
      "WARNING:EOS:Argument plot:x:format is only used when plot:x:scale is used\n"
     ]
    },
    {
     "name": "stdout",
     "output_type": "stream",
     "text": [
      "i = 0, parameter = $\\xi^{(1)}(1)$\n",
      "    prior_min = -2.0, prior_max = -0.2\n",
      "    1-dim min = -1.44, 1-dim max = -0.62\n",
      "    1-dim min = -1.51, 1-dim max = -0.59\n"
     ]
    },
    {
     "name": "stderr",
     "output_type": "stream",
     "text": [
      "WARNING:EOS:Argument plot:x:format is only used when plot:x:scale is used\n"
     ]
    },
    {
     "name": "stdout",
     "output_type": "stream",
     "text": [
      "i = 1, parameter = $\\xi^{(2)}(1)$\n",
      "    prior_min = -0.2, prior_max = 4.0\n",
      "    1-dim min = 0.81, 1-dim max = 2.87\n",
      "    1-dim min = 0.77, 1-dim max = 3.01\n"
     ]
    },
    {
     "name": "stderr",
     "output_type": "stream",
     "text": [
      "WARNING:EOS:Argument plot:x:format is only used when plot:x:scale is used\n"
     ]
    },
    {
     "name": "stdout",
     "output_type": "stream",
     "text": [
      "i = 2, parameter = $\\xi^{(3)}(1)$\n",
      "    prior_min = -10.0, prior_max = 0.5\n",
      "    1-dim min = -6.28, 1-dim max = -0.57\n",
      "    1-dim min = -6.59, 1-dim max = -0.54\n"
     ]
    },
    {
     "name": "stderr",
     "output_type": "stream",
     "text": [
      "WARNING:EOS:Argument plot:x:format is only used when plot:x:scale is used\n"
     ]
    },
    {
     "name": "stdout",
     "output_type": "stream",
     "text": [
      "i = 3, parameter = $\\chi_2(1)$\n",
      "    prior_min = -0.26, prior_max = 0.14\n",
      "    1-dim min = -0.15, 1-dim max = 0.03\n",
      "    1-dim min = -0.16, 1-dim max = 0.03\n"
     ]
    },
    {
     "name": "stderr",
     "output_type": "stream",
     "text": [
      "WARNING:EOS:Argument plot:x:format is only used when plot:x:scale is used\n"
     ]
    },
    {
     "name": "stdout",
     "output_type": "stream",
     "text": [
      "i = 4, parameter = $\\chi^{(1)}_2(1)$\n",
      "    prior_min = -0.21, prior_max = 0.19\n",
      "    1-dim min = -0.09, 1-dim max = 0.09\n",
      "    1-dim min = -0.10, 1-dim max = 0.10\n",
      "i = 5, parameter = $\\chi^{(2)}_2(1)$\n",
      "    prior_min = -1.2, prior_max = 1.2\n"
     ]
    },
    {
     "name": "stderr",
     "output_type": "stream",
     "text": [
      "WARNING:EOS:Argument plot:x:format is only used when plot:x:scale is used\n"
     ]
    },
    {
     "name": "stdout",
     "output_type": "stream",
     "text": [
      "    1-dim min = -0.76, 1-dim max = 0.70\n",
      "    1-dim min = -0.80, 1-dim max = 0.73\n",
      "i = 6, parameter = $\\chi^{(1)}_3(1)$\n",
      "    prior_min = -0.16, prior_max = 0.24\n"
     ]
    },
    {
     "name": "stderr",
     "output_type": "stream",
     "text": [
      "WARNING:EOS:Argument plot:x:format is only used when plot:x:scale is used\n",
      "WARNING:EOS:Argument plot:x:format is only used when plot:x:scale is used\n"
     ]
    },
    {
     "name": "stdout",
     "output_type": "stream",
     "text": [
      "    1-dim min = -0.05, 1-dim max = 0.17\n",
      "    1-dim min = -0.06, 1-dim max = 0.18\n",
      "i = 7, parameter = $\\chi^{(2)}_3(1)$\n",
      "    prior_min = -0.5, prior_max = 0.3\n",
      "    1-dim min = -0.36, 1-dim max = 0.10\n",
      "    1-dim min = -0.38, 1-dim max = 0.11\n"
     ]
    },
    {
     "name": "stderr",
     "output_type": "stream",
     "text": [
      "WARNING:EOS:Argument plot:x:format is only used when plot:x:scale is used\n"
     ]
    },
    {
     "name": "stdout",
     "output_type": "stream",
     "text": [
      "i = 8, parameter = $\\eta(1)$\n",
      "    prior_min = -0.39, prior_max = 1.81\n",
      "    1-dim min = -0.18, 1-dim max = 1.37\n",
      "    1-dim min = -0.19, 1-dim max = 1.44\n"
     ]
    },
    {
     "name": "stderr",
     "output_type": "stream",
     "text": [
      "WARNING:EOS:Argument plot:x:format is only used when plot:x:scale is used\n"
     ]
    },
    {
     "name": "stdout",
     "output_type": "stream",
     "text": [
      "i = 9, parameter = $\\eta^{(1)}(1)$\n",
      "    prior_min = -1.76, prior_max = 1.64\n",
      "    1-dim min = -0.87, 1-dim max = 0.72\n",
      "    1-dim min = -0.92, 1-dim max = 0.75\n"
     ]
    },
    {
     "name": "stderr",
     "output_type": "stream",
     "text": [
      "WARNING:EOS:Argument plot:x:format is only used when plot:x:scale is used\n"
     ]
    },
    {
     "name": "stdout",
     "output_type": "stream",
     "text": [
      "i = 10, parameter = $\\eta^{(2)}(1)$\n",
      "    prior_min = -3.0, prior_max = 3.0\n",
      "    1-dim min = -2.50, 1-dim max = 2.37\n",
      "    1-dim min = -2.62, 1-dim max = 2.49\n"
     ]
    },
    {
     "name": "stderr",
     "output_type": "stream",
     "text": [
      "WARNING:EOS:Argument plot:x:format is only used when plot:x:scale is used\n"
     ]
    },
    {
     "name": "stdout",
     "output_type": "stream",
     "text": [
      "i = 11, parameter = $l_1(1)$\n",
      "    prior_min = -1.3, prior_max = 1.5\n",
      "    1-dim min = -0.88, 1-dim max = 1.22\n",
      "    1-dim min = -0.93, 1-dim max = 1.29\n",
      "i = 12, parameter = $l^{(1)}_1(1)$\n",
      "    prior_min = -45.0, prior_max = 22.0\n"
     ]
    },
    {
     "name": "stderr",
     "output_type": "stream",
     "text": [
      "WARNING:EOS:Argument plot:x:format is only used when plot:x:scale is used\n"
     ]
    },
    {
     "name": "stdout",
     "output_type": "stream",
     "text": [
      "    1-dim min = -22.39, 1-dim max = 3.00\n",
      "    1-dim min = -23.50, 1-dim max = 3.15\n",
      "i = 13, parameter = $l_2(1)$\n",
      "    prior_min = -4.0, prior_max = 0.0\n"
     ]
    },
    {
     "name": "stderr",
     "output_type": "stream",
     "text": [
      "WARNING:EOS:Argument plot:x:format is only used when plot:x:scale is used\n"
     ]
    },
    {
     "name": "stdout",
     "output_type": "stream",
     "text": [
      "    1-dim min = -3.27, 1-dim max = -0.71\n",
      "    1-dim min = -3.43, 1-dim max = -0.67\n",
      "i = 14, parameter = $l^{(1)}_2(1)$\n",
      "    prior_min = -35.0, prior_max = 25.0\n"
     ]
    },
    {
     "name": "stderr",
     "output_type": "stream",
     "text": [
      "WARNING:EOS:Argument plot:x:format is only used when plot:x:scale is used\n"
     ]
    },
    {
     "name": "stdout",
     "output_type": "stream",
     "text": [
      "    1-dim min = -17.74, 1-dim max = 2.27\n",
      "    1-dim min = -18.62, 1-dim max = 2.38\n",
      "i = 15, parameter = $l_3(1)$\n",
      "    prior_min = -20.0, prior_max = 20.0\n"
     ]
    },
    {
     "name": "stderr",
     "output_type": "stream",
     "text": [
      "WARNING:EOS:Argument plot:x:format is only used when plot:x:scale is used\n"
     ]
    },
    {
     "name": "stdout",
     "output_type": "stream",
     "text": [
      "    1-dim min = -26.97, 1-dim max = 27.91\n",
      "    1-dim min = -28.32, 1-dim max = 29.31\n",
      "i = 16, parameter = $l^{(1)}_3(1)$\n",
      "    prior_min = -30.0, prior_max = 40.0\n"
     ]
    },
    {
     "name": "stderr",
     "output_type": "stream",
     "text": [
      "WARNING:EOS:Argument plot:x:format is only used when plot:x:scale is used\n"
     ]
    },
    {
     "name": "stdout",
     "output_type": "stream",
     "text": [
      "    1-dim min = -26.32, 1-dim max = 28.39\n",
      "    1-dim min = -27.64, 1-dim max = 29.81\n",
      "i = 17, parameter = $l_4(1)$\n",
      "    prior_min = -10.0, prior_max = 7.0\n"
     ]
    },
    {
     "name": "stderr",
     "output_type": "stream",
     "text": [
      "WARNING:EOS:Argument plot:x:format is only used when plot:x:scale is used\n"
     ]
    },
    {
     "name": "stdout",
     "output_type": "stream",
     "text": [
      "    1-dim min = -8.19, 1-dim max = 4.61\n",
      "    1-dim min = -8.60, 1-dim max = 4.85\n",
      "i = 18, parameter = $l^{(1)}_4(1)$\n",
      "    prior_min = -12.0, prior_max = 12.0\n"
     ]
    },
    {
     "name": "stderr",
     "output_type": "stream",
     "text": [
      "WARNING:EOS:Argument plot:x:format is only used when plot:x:scale is used\n"
     ]
    },
    {
     "name": "stdout",
     "output_type": "stream",
     "text": [
      "    1-dim min = -6.55, 1-dim max = 8.44\n",
      "    1-dim min = -6.88, 1-dim max = 8.86\n",
      "i = 19, parameter = $l_5(1)$\n",
      "    prior_min = -10.0, prior_max = 16.0\n"
     ]
    },
    {
     "name": "stderr",
     "output_type": "stream",
     "text": [
      "WARNING:EOS:Argument plot:x:format is only used when plot:x:scale is used\n"
     ]
    },
    {
     "name": "stdout",
     "output_type": "stream",
     "text": [
      "    1-dim min = -2.09, 1-dim max = 8.06\n",
      "    1-dim min = -2.19, 1-dim max = 8.46\n",
      "i = 20, parameter = $l^{(1)}_5(1)$\n",
      "    prior_min = -13.0, prior_max = 16.0\n"
     ]
    },
    {
     "name": "stderr",
     "output_type": "stream",
     "text": [
      "/usr/local/lib/python3.8/site-packages/eos/plot/plotter.py:104: RuntimeWarning: More than 20 figures have been opened. Figures created through the pyplot interface (`matplotlib.pyplot.figure`) are retained until explicitly closed and may consume too much memory. (To control this warning, see the rcParam `figure.max_open_warning`).\n",
      "  self.fig, self.ax = plt.subplots()\n",
      "WARNING:EOS:Argument plot:x:format is only used when plot:x:scale is used\n"
     ]
    },
    {
     "name": "stdout",
     "output_type": "stream",
     "text": [
      "    1-dim min = -9.99, 1-dim max = 12.90\n",
      "    1-dim min = -10.49, 1-dim max = 13.55\n",
      "i = 21, parameter = $l_6(1)$\n",
      "    prior_min = -15.0, prior_max = 20.0\n"
     ]
    },
    {
     "name": "stderr",
     "output_type": "stream",
     "text": [
      "WARNING:EOS:Argument plot:x:format is only used when plot:x:scale is used\n"
     ]
    },
    {
     "name": "stdout",
     "output_type": "stream",
     "text": [
      "    1-dim min = -8.76, 1-dim max = 21.32\n",
      "    1-dim min = -9.20, 1-dim max = 22.39\n",
      "i = 22, parameter = $l^{(1)}_6(1)$\n",
      "    prior_min = -20.0, prior_max = 20.0\n"
     ]
    },
    {
     "name": "stderr",
     "output_type": "stream",
     "text": [
      "WARNING:EOS:Argument plot:x:format is only used when plot:x:scale is used\n"
     ]
    },
    {
     "name": "stdout",
     "output_type": "stream",
     "text": [
      "    1-dim min = -15.30, 1-dim max = 16.55\n",
      "    1-dim min = -16.07, 1-dim max = 17.38\n",
      "i = 23, parameter = $\\mathrm{Re}\\, \\mathcal{C}^{\\bar{c}b\\bar{e}\\nu_e}_{S_R}$\n",
      "    prior_min = -1.4, prior_max = 1.4\n"
     ]
    },
    {
     "name": "stderr",
     "output_type": "stream",
     "text": [
      "WARNING:EOS:Argument plot:x:format is only used when plot:x:scale is used\n",
      "WARNING:EOS:Argument plot:x:format is only used when plot:x:scale is used\n"
     ]
    },
    {
     "name": "stdout",
     "output_type": "stream",
     "text": [
      "    1-dim min = -1.25, 1-dim max = 1.64\n",
      "    1-dim min = -1.31, 1-dim max = 1.73\n",
      "i = 24, parameter = $\\mathrm{Im}\\, \\mathcal{C}^{\\bar{c}b\\bar{e}\\nu_e}_{S_R}$\n",
      "    prior_min = -1.4, prior_max = 1.4\n",
      "    1-dim min = -1.61, 1-dim max = 1.30\n",
      "    1-dim min = -1.69, 1-dim max = 1.36\n",
      "i = 25, parameter = $\\mathrm{Re}\\, \\mathcal{C}^{\\bar{c}b\\bar{e}\\nu_e}_{T}$\n",
      "    prior_min = -0.8, prior_max = 0.8\n"
     ]
    },
    {
     "name": "stderr",
     "output_type": "stream",
     "text": [
      "WARNING:EOS:Argument plot:x:format is only used when plot:x:scale is used\n"
     ]
    },
    {
     "name": "stdout",
     "output_type": "stream",
     "text": [
      "    1-dim min = -0.08, 1-dim max = 0.07\n",
      "    1-dim min = -0.08, 1-dim max = 0.08\n",
      "i = 26, parameter = $\\mathrm{Re}\\, \\mathcal{C}^{\\bar{c}b\\bar{\\mu}\\nu_\\mu}_{S_R}$\n",
      "    prior_min = -1.4, prior_max = 1.4\n"
     ]
    },
    {
     "name": "stderr",
     "output_type": "stream",
     "text": [
      "WARNING:EOS:Argument plot:x:format is only used when plot:x:scale is used\n"
     ]
    },
    {
     "name": "stdout",
     "output_type": "stream",
     "text": [
      "    1-dim min = -1.56, 1-dim max = 1.05\n",
      "    1-dim min = -1.64, 1-dim max = 1.11\n",
      "i = 27, parameter = $\\mathrm{Im}\\, \\mathcal{C}^{\\bar{c}b\\bar{\\mu}\\nu_\\mu}_{S_R}$\n",
      "    prior_min = -1.4, prior_max = 1.4\n"
     ]
    },
    {
     "name": "stderr",
     "output_type": "stream",
     "text": [
      "WARNING:EOS:Argument plot:x:format is only used when plot:x:scale is used\n"
     ]
    },
    {
     "name": "stdout",
     "output_type": "stream",
     "text": [
      "    1-dim min = -1.52, 1-dim max = 1.58\n",
      "    1-dim min = -1.60, 1-dim max = 1.66\n",
      "i = 28, parameter = $\\mathrm{Re}\\, \\mathcal{C}^{\\bar{c}b\\bar{\\mu}\\nu_\\mu}_{T}$\n",
      "    prior_min = -0.8, prior_max = 0.8\n"
     ]
    },
    {
     "name": "stderr",
     "output_type": "stream",
     "text": [
      "WARNING:EOS:Argument plot:x:format is only used when plot:x:scale is used\n"
     ]
    },
    {
     "name": "stdout",
     "output_type": "stream",
     "text": [
      "    1-dim min = -0.07, 1-dim max = 0.09\n",
      "    1-dim min = -0.08, 1-dim max = 0.09\n",
      "i = 29, parameter = $\\mathrm{Im}\\, \\mathcal{C}^{\\bar{c}b\\bar{\\mu}\\nu_\\mu}_{T}$\n",
      "    prior_min = -0.8, prior_max = 0.8\n"
     ]
    },
    {
     "name": "stderr",
     "output_type": "stream",
     "text": [
      "WARNING:EOS:Argument plot:x:format is only used when plot:x:scale is used\n"
     ]
    },
    {
     "name": "stdout",
     "output_type": "stream",
     "text": [
      "    1-dim min = -0.08, 1-dim max = 0.08\n",
      "    1-dim min = -0.08, 1-dim max = 0.08\n"
     ]
    },
    {
     "data": {
      "image/png": "[encoded data removed]",
      "text/plain": [
       "<Figure size 432x288 with 1 Axes>"
      ]
     },
     "metadata": {
      "needs_background": "light"
     },
     "output_type": "display_data"
    },
    {
     "data": {
      "image/png": "[encoded data removed]",
      "text/plain": [
       "<Figure size 432x288 with 1 Axes>"
      ]
     },
     "metadata": {
      "needs_background": "light"
     },
     "output_type": "display_data"
    },
    {
     "data": {
      "image/png": "[encoded data removed]",
      "text/plain": [
       "<Figure size 432x288 with 1 Axes>"
      ]
     },
     "metadata": {
      "needs_background": "light"
     },
     "output_type": "display_data"
    },
    {
     "data": {
      "image/png": "[encoded data removed]",
      "text/plain": [
       "<Figure size 432x288 with 1 Axes>"
      ]
     },
     "metadata": {
      "needs_background": "light"
     },
     "output_type": "display_data"
    },
    {
     "data": {
      "image/png": "[encoded data removed]",
      "text/plain": [
       "<Figure size 432x288 with 1 Axes>"
      ]
     },
     "metadata": {
      "needs_background": "light"
     },
     "output_type": "display_data"
    },
    {
     "data": {
      "image/png": "[encoded data removed]",
      "text/plain": [
       "<Figure size 432x288 with 1 Axes>"
      ]
     },
     "metadata": {
      "needs_background": "light"
     },
     "output_type": "display_data"
    },
    {
     "data": {
      "image/png": "[encoded data removed]",
      "text/plain": [
       "<Figure size 432x288 with 1 Axes>"
      ]
     },
     "metadata": {
      "needs_background": "light"
     },
     "output_type": "display_data"
    },
    {
     "data": {
      "image/png": "[encoded data removed]",
      "text/plain": [
       "<Figure size 432x288 with 1 Axes>"
      ]
     },
     "metadata": {
      "needs_background": "light"
     },
     "output_type": "display_data"
    },
    {
     "data": {
      "image/png": "[encoded data removed]",
      "text/plain": [
       "<Figure size 432x288 with 1 Axes>"
      ]
     },
     "metadata": {
      "needs_background": "light"
     },
     "output_type": "display_data"
    },
    {
     "data": {
      "image/png": "[encoded data removed]",
      "text/plain": [
       "<Figure size 432x288 with 1 Axes>"
      ]
     },
     "metadata": {
      "needs_background": "light"
     },
     "output_type": "display_data"
    },
    {
     "data": {
      "image/png": "[encoded data removed]",
      "text/plain": [
       "<Figure size 432x288 with 1 Axes>"
      ]
     },
     "metadata": {
      "needs_background": "light"
     },
     "output_type": "display_data"
    },
    {
     "data": {
      "image/png": "[encoded data removed]",
      "text/plain": [
       "<Figure size 432x288 with 1 Axes>"
      ]
     },
     "metadata": {
      "needs_background": "light"
     },
     "output_type": "display_data"
    },
    {
     "data": {
      "image/png": "[encoded data removed]",
      "text/plain": [
       "<Figure size 432x288 with 1 Axes>"
      ]
     },
     "metadata": {
      "needs_background": "light"
     },
     "output_type": "display_data"
    },
    {
     "data": {
      "image/png": "[encoded data removed]",
      "text/plain": [
       "<Figure size 432x288 with 1 Axes>"
      ]
     },
     "metadata": {
      "needs_background": "light"
     },
     "output_type": "display_data"
    },
    {
     "data": {
      "image/png": "[encoded data removed]",
      "text/plain": [
       "<Figure size 432x288 with 1 Axes>"
      ]
     },
     "metadata": {
      "needs_background": "light"
     },
     "output_type": "display_data"
    },
    {
     "data": {
      "image/png": "[encoded data removed]",
      "text/plain": [
       "<Figure size 432x288 with 1 Axes>"
      ]
     },
     "metadata": {
      "needs_background": "light"
     },
     "output_type": "display_data"
    },
    {
     "data": {
      "image/png": "[encoded data removed]",
      "text/plain": [
       "<Figure size 432x288 with 1 Axes>"
      ]
     },
     "metadata": {
      "needs_background": "light"
     },
     "output_type": "display_data"
    },
    {
     "data": {
      "image/png": "[encoded data removed]",
      "text/plain": [
       "<Figure size 432x288 with 1 Axes>"
      ]
     },
     "metadata": {
      "needs_background": "light"
     },
     "output_type": "display_data"
    },
    {
     "data": {
      "image/png": "[encoded data removed]",
      "text/plain": [
       "<Figure size 432x288 with 1 Axes>"
      ]
     },
     "metadata": {
      "needs_background": "light"
     },
     "output_type": "display_data"
    },
    {
     "data": {
      "image/png": "[encoded data removed]",
      "text/plain": [
       "<Figure size 432x288 with 1 Axes>"
      ]
     },
     "metadata": {
      "needs_background": "light"
     },
     "output_type": "display_data"
    },
    {
     "data": {
      "image/png": "[encoded data removed]",
      "text/plain": [
       "<Figure size 432x288 with 1 Axes>"
      ]
     },
     "metadata": {
      "needs_background": "light"
     },
     "output_type": "display_data"
    },
    {
     "data": {
      "image/png": "[encoded data removed]",
      "text/plain": [
       "<Figure size 432x288 with 1 Axes>"
      ]
     },
     "metadata": {
      "needs_background": "light"
     },
     "output_type": "display_data"
    },
    {
     "data": {
      "image/png": "[encoded data removed]",
      "text/plain": [
       "<Figure size 432x288 with 1 Axes>"
      ]
     },
     "metadata": {
      "needs_background": "light"
     },
     "output_type": "display_data"
    },
    {
     "data": {
      "image/png": "[encoded data removed]",
      "text/plain": [
       "<Figure size 432x288 with 1 Axes>"
      ]
     },
     "metadata": {
      "needs_background": "light"
     },
     "output_type": "display_data"
    },
    {
     "data": {
      "image/png": "[encoded data removed]",
      "text/plain": [
       "<Figure size 432x288 with 1 Axes>"
      ]
     },
     "metadata": {
      "needs_background": "light"
     },
     "output_type": "display_data"
    },
    {
     "data": {
      "image/png": "[encoded data removed]",
      "text/plain": [
       "<Figure size 432x288 with 1 Axes>"
      ]
     },
     "metadata": {
      "needs_background": "light"
     },
     "output_type": "display_data"
    },
    {
     "data": {
      "image/png": "[encoded data removed]",
      "text/plain": [
       "<Figure size 432x288 with 1 Axes>"
      ]
     },
     "metadata": {
      "needs_background": "light"
     },
     "output_type": "display_data"
    },
    {
     "data": {
      "image/png": "[encoded data removed]",
      "text/plain": [
       "<Figure size 432x288 with 1 Axes>"
      ]
     },
     "metadata": {
      "needs_background": "light"
     },
     "output_type": "display_data"
    },
    {
     "data": {
      "image/png": "[encoded data removed]",
      "text/plain": [
       "<Figure size 432x288 with 1 Axes>"
      ]
     },
     "metadata": {
      "needs_background": "light"
     },
     "output_type": "display_data"
    },
    {
     "data": {
      "image/png": "[encoded data removed]",
      "text/plain": [
       "<Figure size 432x288 with 1 Axes>"
      ]
     },
     "metadata": {
      "needs_background": "light"
     },
     "output_type": "display_data"
    }
   ],
   "source": [
    "n_bins = 120\n",
    "for i, p in enumerate(exp_analysis.varied_parameters[:]):\n",
    "    print(f\"i = {i}, parameter = {p.latex()}\")\n",
    "    print(f\"    prior_min = {p.min()}, prior_max = {p.max()}\")\n",
    "    post_min = min(pmc_data[:, i])\n",
    "    post_max = max(pmc_data[:, i])\n",
    "    print(f\"    1-dim min = {post_min:3.2f}, 1-dim max = {post_max:3.2f}\" )\n",
    "    if post_min < 0:\n",
    "        post_min *= 1.05\n",
    "    else:\n",
    "        post_min *= 0.95\n",
    "    if post_max < 0:\n",
    "        post_max *= 0.95\n",
    "    else:\n",
    "        post_max *= 1.05\n",
    "    print(f\"    1-dim min = {post_min:3.2f}, 1-dim max = {post_max:3.2f}\" )\n",
    "    plot_args = {\n",
    "        'plot': {\n",
    "            'x': { 'label': f'{p.latex()}', 'range': [post_min,  post_max], 'format': '${x:.2f}$' },\n",
    "            'legend': { 'location': 'upper center' }\n",
    "        },\n",
    "        'contents': [\n",
    "            { 'label': f'{p.latex()}',\n",
    "              'type': 'histogram', 'bins': 80,\n",
    "              'data': { 'samples': pmc_data[:, i], 'weights': pmc_posterior }}\n",
    "        ]\n",
    "    }\n",
    "    plt.rcParams['figure.figsize'] = [6, 4]\n",
    "    eos.plot.Plotter(plot_args).plot()"
   ]
  },
  {
   "cell_type": "code",
   "execution_count": 32,
   "metadata": {
    "scrolled": true
   },
   "outputs": [
    {
     "name": "stderr",
     "output_type": "stream",
     "text": [
      "WARNING:EOS:Argument plot:x:format is only used when plot:x:scale is used\n"
     ]
    },
    {
     "data": {
      "image/png": "[encoded data removed]",
      "text/plain": [
       "<Figure size 432x288 with 1 Axes>"
      ]
     },
     "metadata": {
      "needs_background": "light"
     },
     "output_type": "display_data"
    }
   ],
   "source": [
    "plot_args = {\n",
    "    'plot': {\n",
    "        'x': { 'label': r'$C_i$', 'range': [-0.06,  0.06], 'format': '${x:.2f}$' },\n",
    "        'legend': { 'location': 'upper center' }\n",
    "    },\n",
    "    'contents': [\n",
    "        { 'label': r'${\\rm Re}(C_T^e)$',\n",
    "          'type': 'histogram', 'bins': 100,\n",
    "          'data': { 'samples': pmc_data[:, 26-1], 'weights': pmc_posterior }},\n",
    "        { 'label': r'${\\rm Re}(C_T^\\mu)$',\n",
    "          'type': 'histogram', 'bins': 100,\n",
    "          'data': { 'samples': pmc_data[:, 29-1], 'weights': pmc_posterior }},\n",
    "        { 'label': r'${\\rm Im}(C_T^\\mu)$',\n",
    "          'type': 'histogram', 'bins': 80,\n",
    "          'data': { 'samples': pmc_data[:, 30-1], 'weights': pmc_posterior }},\n",
    "    ]\n",
    "}\n",
    "eos.plot.Plotter(plot_args).plot()"
   ]
  },
  {
   "cell_type": "code",
   "execution_count": 33,
   "metadata": {},
   "outputs": [
    {
     "name": "stderr",
     "output_type": "stream",
     "text": [
      "WARNING:EOS:Argument plot:x:format is only used when plot:x:scale is used\n"
     ]
    },
    {
     "data": {
      "image/png": "[encoded data removed]",
      "text/plain": [
       "<Figure size 432x288 with 1 Axes>"
      ]
     },
     "metadata": {
      "needs_background": "light"
     },
     "output_type": "display_data"
    }
   ],
   "source": [
    "plot_args = {\n",
    "    'plot': {\n",
    "        'x': { 'label': r'$C_i$', 'range': [-1.4,  1.4], 'format': '${x:.2f}$' },\n",
    "        'legend': { 'location': 'upper center' }\n",
    "    },\n",
    "    'contents': [\n",
    "        { 'label': r'${\\rm Re}(C_P^e)$',\n",
    "          'type': 'histogram', 'bins': 100,\n",
    "          'data': { 'samples': pmc_data[:, 24-1], 'weights': pmc_posterior }},\n",
    "        { 'label': r'${\\rm Im}(C_P^e)$',\n",
    "          'type': 'histogram', 'bins': 100,\n",
    "          'data': { 'samples': pmc_data[:, 25-1], 'weights': pmc_posterior }},\n",
    "    ]\n",
    "}\n",
    "eos.plot.Plotter(plot_args).plot()"
   ]
  },
  {
   "cell_type": "code",
   "execution_count": 34,
   "metadata": {
    "scrolled": true
   },
   "outputs": [
    {
     "name": "stderr",
     "output_type": "stream",
     "text": [
      "WARNING:EOS:Argument plot:x:format is only used when plot:x:scale is used\n"
     ]
    },
    {
     "data": {
      "image/png": "[encoded data removed]",
      "text/plain": [
       "<Figure size 432x288 with 1 Axes>"
      ]
     },
     "metadata": {
      "needs_background": "light"
     },
     "output_type": "display_data"
    }
   ],
   "source": [
    "plot_args = {\n",
    "    'plot': {\n",
    "        'x': { 'label': r'$C_i$', 'range': [-1.0,  1.0], 'format': '${x:.2f}$' },\n",
    "        'legend': { 'location': 'upper center' }\n",
    "    },\n",
    "    'contents': [\n",
    "        { 'label': r'${\\rm Re}(C_P^\\mu)$',\n",
    "          'type': 'histogram', 'bins': 80,\n",
    "          'data': { 'samples': pmc_data[:, 27-1], 'weights': pmc_posterior }},\n",
    "        { 'label': r'${\\rm Im}(C_P^\\mu)$',\n",
    "          'type': 'histogram', 'bins': 80,\n",
    "          'data': { 'samples': pmc_data[:, 28-1], 'weights': pmc_posterior }},\n",
    "    \n",
    "    ]\n",
    "}\n",
    "eos.plot.Plotter(plot_args).plot()"
   ]
  },
  {
   "cell_type": "code",
   "execution_count": 35,
   "metadata": {},
   "outputs": [
    {
     "name": "stderr",
     "output_type": "stream",
     "text": [
      "WARNING:EOS:Argument plot:x:format is only used when plot:x:scale is used\n",
      "WARNING:EOS:Argument plot:y:format is only used when plot:y:scale is used\n"
     ]
    },
    {
     "data": {
      "image/png": "[encoded data removed]",
      "text/plain": [
       "<Figure size 432x288 with 1 Axes>"
      ]
     },
     "metadata": {
      "needs_background": "light"
     },
     "output_type": "display_data"
    }
   ],
   "source": [
    "plot_args = {\n",
    "    'plot': {\n",
    "        'x': { 'label': r'${\\rm Re}\\,C_P^e$',   'range': [-2.0, 2.0], 'format': '${x:.2f}$' },\n",
    "        'y': { 'label': r'${\\rm Re}\\,C_P^\\mu$', 'range': [-1.4, 0.8], 'format': '${x:.2f}$' },\n",
    "    },\n",
    "    'contents': [\n",
    "        {\n",
    "            'type': 'kde2D', 'color': 'C1', 'label': 'posterior',\n",
    "            'range': [-2.0, 2.0], 'levels': [68, 95, 99], 'bandwidth': 0.8,\n",
    "            'data': { 'samples': pmc_data[:, (24-1, 27-1)], 'weights': pmc_posterior }\n",
    "        }\n",
    "    ]\n",
    "}\n",
    "eos.plot.Plotter(plot_args).plot()"
   ]
  },
  {
   "cell_type": "code",
   "execution_count": null,
   "metadata": {},
   "outputs": [],
   "source": []
  }
 ],
 "metadata": {
  "kernelspec": {
   "display_name": "Python 3 (ipykernel)",
   "language": "python",
   "name": "python3"
  },
  "language_info": {
   "codemirror_mode": {
    "name": "ipython",
    "version": 3
   },
   "file_extension": ".py",
   "mimetype": "text/x-python",
   "name": "python",
   "nbconvert_exporter": "python",
   "pygments_lexer": "ipython3",
   "version": "3.8.10"
  }
 },
 "nbformat": 4,
 "nbformat_minor": 2
}
