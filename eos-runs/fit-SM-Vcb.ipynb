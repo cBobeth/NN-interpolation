{
 "cells": [
  {
   "cell_type": "code",
   "execution_count": 1,
   "metadata": {},
   "outputs": [
    {
     "data": {
      "text/html": [
       "\n",
       "<style>\n",
       "    div#notebook-container    { width: 90%; }\n",
       "    div#menubar-container     { width: 65%; }\n",
       "    div#maintoolbar-container { width: 99%; }\n",
       "</style>\n"
      ],
      "text/plain": [
       "<IPython.core.display.HTML object>"
      ]
     },
     "metadata": {},
     "output_type": "display_data"
    }
   ],
   "source": [
    "from IPython.display import display, HTML\n",
    "\n",
    "display(HTML(data=\"\"\"\n",
    "<style>\n",
    "    div#notebook-container    { width: 90%; }\n",
    "    div#menubar-container     { width: 65%; }\n",
    "    div#maintoolbar-container { width: 99%; }\n",
    "</style>\n",
    "\"\"\"))"
   ]
  },
  {
   "cell_type": "code",
   "execution_count": 23,
   "metadata": {},
   "outputs": [],
   "source": [
    "import eos\n",
    "import numpy as np\n",
    "import matplotlib.pyplot as plt\n",
    "\n",
    "# path and filename settings\n",
    "proj_path = '/home/bobeth/Work/digethic-AI-course/eos'\n",
    "data_path = 'data'\n",
    "data_mcmc_file_name = 'fit-SM-Vcb-mcmc.csv'\n",
    "data_pmc_file_name  = 'fit-SM-Vcb-pmc.csv'\n",
    "\n",
    "# MCMC parameters\n",
    "mcmc_N_chains = 20\n",
    "mcmc_preruns = 10\n",
    "mcmc_pre_N = 3000\n",
    "mcmc_N = 10000\n",
    "mcmc_stride = 4\n",
    "\n",
    "# hierarchical clustering\n",
    "hc_r_crit = 1.3\n",
    "hc_K_g = 5\n",
    "\n",
    "# PMC parameters\n",
    "pmc_step_N = 30000\n",
    "pmc_steps = 15\n",
    "pmc_final_N = 400000"
   ]
  },
  {
   "cell_type": "markdown",
   "metadata": {},
   "source": [
    "# Define Analysis\n",
    "General arguments for analysis"
   ]
  },
  {
   "cell_type": "code",
   "execution_count": 2,
   "metadata": {},
   "outputs": [],
   "source": [
    "from eos_analysis_args import analysis_args"
   ]
  },
  {
   "cell_type": "markdown",
   "metadata": {},
   "source": [
    "### Fit of form factor (FF) parameters from theory constraints only"
   ]
  },
  {
   "cell_type": "code",
   "execution_count": 3,
   "metadata": {},
   "outputs": [
    {
     "name": "stderr",
     "output_type": "stream",
     "text": [
      "INFO:EOS:Creating analysis with 23 priors, 8 EOS-wide constraints, 7 global options, 6 manually-entered constraints and 0 fixed parameters.\n",
      "INFO:EOS:likelihood probably depends on 15 parameter(s) that do not appear in the prior; check prior?\n"
     ]
    }
   ],
   "source": [
    "th_analysis = eos.Analysis(**analysis_args)\n",
    "\n",
    "th_analysis.parameters['B(*)->D(*)::n_f@HQET'].set(2.0)\n",
    "th_analysis.parameters['B(*)->D(*)::a@HQET'].set(1.0)\n",
    "#th_analysis.parameters['mass::B_d'].set(5.27942)\n",
    "#th_analysis.parameters['mass::D_u'].set(1.86723)\n",
    "#th_analysis.parameters['mass::D_u^*'].set(2.01000)\n",
    "th_analysis.parameters['B_s(*)->D_s(*)::n_s@HQET'].set(1.0)\n",
    "th_analysis.parameters['B_s(*)->D_s(*)::a@HQET'].set(1.0)\n",
    "#th_analysis.parameters['mass::B_s'].set(5.36688)\n",
    "#th_analysis.parameters['mass::D_u'].set(1.96834)\n",
    "#th_analysis.parameters['mass::D_u^*'].set(2.1122)\n",
    "\n",
    "# start point\n",
    "##\n",
    "## LP\n",
    "th_analysis.parameters[    \"B(*)->D(*)::xi'(1)@HQET\"].set( -1.15)\n",
    "th_analysis.parameters[   \"B(*)->D(*)::xi''(1)@HQET\"].set( +2.02)\n",
    "th_analysis.parameters[  \"B(*)->D(*)::xi'''(1)@HQET\"].set( -3.90)\n",
    "##\n",
    "## SLP\n",
    "th_analysis.parameters[  \"B(*)->D(*)::chi_2(1)@HQET\"].set( -0.07)\n",
    "th_analysis.parameters[ \"B(*)->D(*)::chi_2'(1)@HQET\"].set( -0.02)\n",
    "th_analysis.parameters[\"B(*)->D(*)::chi_2''(1)@HQET\"].set( -0.01)\n",
    "##\n",
    "th_analysis.parameters[ \"B(*)->D(*)::chi_3'(1)@HQET\"].set( +0.04)\n",
    "th_analysis.parameters[\"B(*)->D(*)::chi_3''(1)@HQET\"].set( -0.11)\n",
    "##\n",
    "th_analysis.parameters[    \"B(*)->D(*)::eta(1)@HQET\"].set( +0.64)\n",
    "th_analysis.parameters[   \"B(*)->D(*)::eta'(1)@HQET\"].set( +0.06)\n",
    "th_analysis.parameters[  \"B(*)->D(*)::eta''(1)@HQET\"].set( -0.52)\n",
    "##\n",
    "## SSLP\n",
    "th_analysis.parameters[    \"B(*)->D(*)::l_1(1)@HQET\"].set( +0.17)\n",
    "th_analysis.parameters[   \"B(*)->D(*)::l_1'(1)@HQET\"].set( -5.80)\n",
    "##\n",
    "th_analysis.parameters[    \"B(*)->D(*)::l_2(1)@HQET\"].set( -1.60)\n",
    "th_analysis.parameters[   \"B(*)->D(*)::l_2'(1)@HQET\"].set( -3.73)\n",
    "##\n",
    "th_analysis.parameters[    \"B(*)->D(*)::l_3(1)@HQET\"].set( -3.52)\n",
    "th_analysis.parameters[   \"B(*)->D(*)::l_3'(1)@HQET\"].set( +5.12)\n",
    "##\n",
    "th_analysis.parameters[    \"B(*)->D(*)::l_4(1)@HQET\"].set( -2.33)\n",
    "th_analysis.parameters[   \"B(*)->D(*)::l_4'(1)@HQET\"].set( -0.72)\n",
    "##\n",
    "th_analysis.parameters[    \"B(*)->D(*)::l_5(1)@HQET\"].set( +3.04)\n",
    "th_analysis.parameters[   \"B(*)->D(*)::l_5'(1)@HQET\"].set( +0.18)\n",
    "##\n",
    "th_analysis.parameters[    \"B(*)->D(*)::l_6(1)@HQET\"].set( +2.33)\n",
    "th_analysis.parameters[   \"B(*)->D(*)::l_6'(1)@HQET\"].set( +0.70)\n",
    "##\n",
    "th_analysis.parameters['CKM::abs(V_cb)'].set( 40.0e-3)\n",
    "th_analysis.parameters['CKM::arg(V_cb)'].set( 0.0)"
   ]
  },
  {
   "cell_type": "markdown",
   "metadata": {},
   "source": [
    "### Fit of FF parameters and WET Wilson coefficients from theory + experimental constraints"
   ]
  },
  {
   "cell_type": "code",
   "execution_count": 4,
   "metadata": {},
   "outputs": [
    {
     "name": "stderr",
     "output_type": "stream",
     "text": [
      "INFO:EOS:Creating analysis with 24 priors, 9 EOS-wide constraints, 7 global options, 6 manually-entered constraints and 0 fixed parameters.\n",
      "ERROR:EOS:[ConcreteObservableEntry.make] Observable 'B->D^*lnu::BR_CP_specific' forces option key 'I' to value '1/2', overriding user-provided value '1/2'\n",
      "@1642019648: [ERROR [ConcreteObservableEntry.make]ERROR:EOS:[ConcreteObservableEntry.make] Observable 'B->D^*lnu::BR_CP_specific' forces option key 'U' to value 'c', overriding user-provided value 'c'\n",
      "] Observable 'B->D^*lnu::BR_CP_specific' forces option key 'I' to value '1/2', overriding user-provided value '1/2'\n",
      "@1642019648: [ERROR [ConcreteObservableEntry.make]] ERROR:EOS:[ConcreteObservableEntry.make] Observable 'B->D^*lnu::BR_CP_specific' forces option key 'I' to value '1/2', overriding user-provided value '1/2'\n",
      "Observable 'B->D^*lnu::BR_CP_specific' forces option key 'U' to value 'c', overriding user-provided value 'c'\n",
      "@1642019648: [ERROR [ConcreteObservableEntry.make]] ERROR:EOS:[ConcreteObservableEntry.make] Observable 'B->D^*lnu::BR_CP_specific' forces option key 'U' to value 'c', overriding user-provided value 'c'\n",
      "Observable 'B->D^*lnu::BR_CP_specific' forces option key 'I' to value '1/2', overriding user-provided value '1/2'\n",
      "@1642019648: [ERROR [ConcreteObservableEntry.make]] ERROR:EOS:[ConcreteObservableEntry.make] Observable 'B->D^*lnu::BR_CP_specific' forces option key 'I' to value '1/2', overriding user-provided value '1/2'\n",
      "Observable 'B->D^*lnu::BR_CP_specific' forces option key 'U' to value 'c', overriding user-provided value 'c'\n",
      "@1642019648: [ERROR [ConcreteObservableEntry.make]] ERROR:EOS:[ConcreteObservableEntry.make] Observable 'B->D^*lnu::BR_CP_specific' forces option key 'U' to value 'c', overriding user-provided value 'c'\n",
      "Observable 'B->D^*lnu::BR_CP_specific' forces option key 'I' to value '1/2', overriding user-provided value '1/2'\n",
      "ERROR:EOS:[ConcreteObservableEntry.make] Observable 'B->D^*lnu::BR_CP_specific' forces option key 'I' to value '1/2', overriding user-provided value '1/2'\n",
      "ERROR:EOS:[ConcreteObservableEntry.make] Observable 'B->D^*lnu::BR_CP_specific' forces option key 'U' to value 'c', overriding user-provided value 'c'\n",
      "@1642019648: [ERROR [ConcreteObservableEntry.make]] Observable 'B->D^*lnu::BR_CP_specific' forces option key 'U' to value 'c', overriding user-provided value 'c'\n",
      "@1642019648: [ERROR [ConcreteObservableEntry.make]] Observable 'B->D^*lnu::BR_CP_specific' forces option key 'I' to value '1/2', overriding user-provided value '1/2'\n",
      "@1642019648: [ERROR [ConcreteObservableEntry.make]] ERROR:EOS:[ConcreteCacheableObservableEntry.make] Observable 'B->D^*lnu::F_L_CP_specific' forces option key 'I' to value '1/2', overriding user-provided value '1/2'\n",
      "Observable 'B->D^*lnu::BR_CP_specific' forces option key 'U' to value 'c', overriding user-provided value 'c'\n",
      "@1642019648: [ERROR [ConcreteCacheableObservableEntry.make]] ERROR:EOS:[ConcreteCacheableObservableEntry.make] Observable 'B->D^*lnu::F_L_CP_specific' forces option key 'U' to value 'c', overriding user-provided value 'c'\n",
      "Observable 'B->D^*lnu::F_L_CP_specific' forces option key 'I' to value '1/2', overriding user-provided value '1/2'\n",
      "@1642019648: [ERROR [ConcreteCacheableObservableEntry.make]] ERROR:EOS:[ConcreteCacheableObservableEntry.make] Observable 'B->D^*lnu::F_L_CP_specific' forces option key 'I' to value '1/2', overriding user-provided value '1/2'\n",
      "Observable 'B->D^*lnu::F_L_CP_specific' forces option key 'U' to value 'c', overriding user-provided value 'c'\n",
      "ERROR:EOS:[ConcreteCacheableObservableEntry.make] Observable 'B->D^*lnu::F_L_CP_specific' forces option key 'U' to value 'c', overriding user-provided value 'c'\n",
      "@1642019648: [ERROR [ConcreteCacheableObservableEntry.make]] Observable 'B->D^*lnu::F_L_CP_specific' forces option key 'I' to value '1/2', overriding user-provided value '1/2'\n",
      "@1642019648: [ERROR [ConcreteCacheableObservableEntry.make]] ERROR:EOS:[ConcreteCacheableObservableEntry.make] Observable 'B->D^*lnu::F_L_CP_specific' forces option key 'I' to value '1/2', overriding user-provided value '1/2'\n",
      "Observable 'B->D^*lnu::F_L_CP_specific' forces option key 'U' to value 'c', overriding user-provided value 'c'\n",
      "@1642019648: [ERROR [ConcreteCacheableObservableEntry.make]] ERROR:EOS:[ConcreteCacheableObservableEntry.make] Observable 'B->D^*lnu::F_L_CP_specific' forces option key 'U' to value 'c', overriding user-provided value 'c'\n",
      "Observable 'B->D^*lnu::F_L_CP_specific' forces option key 'I' to value '1/2', overriding user-provided value '1/2'\n",
      "@1642019648: [ERROR [ConcreteCacheableObservableEntry.make]] ERROR:EOS:[ConcreteCacheableObservableEntry.make] Observable 'B->D^*lnu::F_L_CP_specific' forces option key 'I' to value '1/2', overriding user-provided value '1/2'\n",
      "Observable 'B->D^*lnu::F_L_CP_specific' forces option key 'U' to value 'c', overriding user-provided value 'c'\n",
      "@1642019648: [ERROR [ConcreteCacheableObservableEntry.make]] ERROR:EOS:[ConcreteCacheableObservableEntry.make] Observable 'B->D^*lnu::F_L_CP_specific' forces option key 'U' to value 'c', overriding user-provided value 'c'\n",
      "Observable 'B->D^*lnu::F_L_CP_specific' forces option key 'I' to value '1/2', overriding user-provided value '1/2'\n",
      "@1642019648: [ERROR [ConcreteCacheableObservableEntry.make]] ERROR:EOS:[ConcreteCacheableObservableEntry.make] Observable 'B->D^*lnu::A_FB_CP_specific' forces option key 'I' to value '1/2', overriding user-provided value '1/2'\n",
      "Observable 'B->D^*lnu::F_L_CP_specific' forces option key 'U' to value 'c', overriding user-provided value 'c'ERROR:EOS:[ConcreteCacheableObservableEntry.make] Observable 'B->D^*lnu::A_FB_CP_specific' forces option key 'U' to value 'c', overriding user-provided value 'c'\n",
      "\n",
      "@1642019648: [ERROR [ConcreteCacheableObservableEntry.make]] Observable 'B->D^*lnu::A_FB_CP_specific' forces option key 'I' to value '1/2', overriding user-provided value '1/2'\n",
      "@1642019648: [ERROR [ConcreteCacheableObservableEntry.make]] ERROR:EOS:[ConcreteCacheableObservableEntry.make] Observable 'B->D^*lnu::A_FB_CP_specific' forces option key 'I' to value '1/2', overriding user-provided value '1/2'\n",
      "Observable 'B->D^*lnu::A_FB_CP_specific' forces option key 'U' to value 'c', overriding user-provided value 'c'\n",
      "@1642019648: [ERROR [ConcreteCacheableObservableEntry.make]] ERROR:EOS:[ConcreteCacheableObservableEntry.make] Observable 'B->D^*lnu::A_FB_CP_specific' forces option key 'U' to value 'c', overriding user-provided value 'c'\n",
      "Observable 'B->D^*lnu::A_FB_CP_specific' forces option key 'I' to value '1/2', overriding user-provided value '1/2'\n",
      "@1642019648: [ERROR [ConcreteCacheableObservableEntry.make]] ERROR:EOS:[ConcreteCacheableObservableEntry.make] Observable 'B->D^*lnu::A_FB_CP_specific' forces option key 'I' to value '1/2', overriding user-provided value '1/2'\n",
      "Observable 'B->D^*lnu::A_FB_CP_specific' forces option key 'U' to value 'c', overriding user-provided value 'c'\n",
      "@1642019648: [ERROR [ConcreteCacheableObservableEntry.make]] ERROR:EOS:[ConcreteCacheableObservableEntry.make] Observable 'B->D^*lnu::A_FB_CP_specific' forces option key 'U' to value 'c', overriding user-provided value 'c'\n",
      "Observable 'B->D^*lnu::A_FB_CP_specific' forces option key 'I' to value '1/2', overriding user-provided value '1/2'\n",
      "@1642019648: [ERROR [ConcreteCacheableObservableEntry.make]] ERROR:EOS:[ConcreteCacheableObservableEntry.make] Observable 'B->D^*lnu::A_FB_CP_specific' forces option key 'I' to value '1/2', overriding user-provided value '1/2'\n",
      "Observable 'B->D^*lnu::A_FB_CP_specific' forces option key 'U' to value 'c', overriding user-provided value 'c'\n",
      "@1642019648: [ERROR [ConcreteCacheableObservableEntry.make]] ERROR:EOS:[ConcreteCacheableObservableEntry.make] Observable 'B->D^*lnu::A_FB_CP_specific' forces option key 'U' to value 'c', overriding user-provided value 'c'\n",
      "Observable 'B->D^*lnu::A_FB_CP_specific' forces option key 'I' to value '1/2', overriding user-provided value '1/2'\n",
      "@1642019648: [ERROR [ConcreteCacheableObservableEntry.make]] ERROR:EOS:[ConcreteCacheableObservableEntry.make] Observable 'B->D^*lnu::Ftilde_L_CP_specific' forces option key 'I' to value '1/2', overriding user-provided value '1/2'\n",
      "Observable 'B->D^*lnu::A_FB_CP_specific' forces option key 'U' to value 'c', overriding user-provided value 'c'\n",
      "@1642019648: [ERROR [ConcreteCacheableObservableEntry.make]] ERROR:EOS:[ConcreteCacheableObservableEntry.make] Observable 'B->D^*lnu::Ftilde_L_CP_specific' forces option key 'U' to value 'c', overriding user-provided value 'c'\n",
      "Observable 'B->D^*lnu::Ftilde_L_CP_specific' forces option key 'I' to value '1/2', overriding user-provided value '1/2'\n",
      "@1642019648: [ERROR [ConcreteCacheableObservableEntry.make]] ERROR:EOS:[ConcreteCacheableObservableEntry.make] Observable 'B->D^*lnu::Ftilde_L_CP_specific' forces option key 'I' to value '1/2', overriding user-provided value '1/2'\n",
      "Observable 'B->D^*lnu::Ftilde_L_CP_specific' forces option key 'U' to value 'c', overriding user-provided value 'c'\n",
      "ERROR:EOS:[ConcreteCacheableObservableEntry.make] Observable 'B->D^*lnu::Ftilde_L_CP_specific' forces option key 'U' to value 'c', overriding user-provided value 'c'\n",
      "ERROR:EOS:[ConcreteCacheableObservableEntry.make] Observable 'B->D^*lnu::Ftilde_L_CP_specific' forces option key 'I' to value '1/2', overriding user-provided value '1/2'\n",
      "@1642019648: [ERROR [ConcreteCacheableObservableEntry.make]] Observable 'B->D^*lnu::Ftilde_L_CP_specific' forces option key 'I' to value '1/2', overriding user-provided value '1/2'\n",
      "@1642019648: [ERROR [ConcreteCacheableObservableEntry.make]] Observable 'B->D^*lnu::Ftilde_L_CP_specific' forces option key 'U' to value 'c', overriding user-provided value 'c'\n",
      "@1642019648: [ERROR [ConcreteCacheableObservableEntry.make]] ERROR:EOS:[ConcreteCacheableObservableEntry.make] Observable 'B->D^*lnu::Ftilde_L_CP_specific' forces option key 'U' to value 'c', overriding user-provided value 'c'\n",
      "Observable 'B->D^*lnu::Ftilde_L_CP_specific' forces option key 'I' to value '1/2', overriding user-provided value '1/2'\n",
      "@1642019648: [ERROR [ConcreteCacheableObservableEntry.make]] ERROR:EOS:[ConcreteCacheableObservableEntry.make] Observable 'B->D^*lnu::Ftilde_L_CP_specific' forces option key 'I' to value '1/2', overriding user-provided value '1/2'\n",
      "Observable 'B->D^*lnu::Ftilde_L_CP_specific' forces option key 'U' to value 'c', overriding user-provided value 'c'\n",
      "@1642019648: [ERROR [ConcreteCacheableObservableEntry.make]] ERROR:EOS:[ConcreteCacheableObservableEntry.make] Observable 'B->D^*lnu::Ftilde_L_CP_specific' forces option key 'U' to value 'c', overriding user-provided value 'c'\n",
      "Observable 'B->D^*lnu::Ftilde_L_CP_specific' forces option key 'I' to value '1/2', overriding user-provided value '1/2'\n",
      "@1642019648: [ERROR [ConcreteCacheableObservableEntry.make]] ERROR:EOS:[ConcreteCacheableObservableEntry.make] Observable 'B->D^*lnu::J_3' forces option key 'I' to value '1/2', overriding user-provided value '1/2'\n",
      "Observable 'B->D^*lnu::Ftilde_L_CP_specific' forces option key 'U' to value 'c', overriding user-provided value 'c'ERROR:EOS:[ConcreteCacheableObservableEntry.make] Observable 'B->D^*lnu::J_3' forces option key 'U' to value 'c', overriding user-provided value 'c'\n",
      "\n",
      "@1642019648: [ERROR [ConcreteCacheableObservableEntry.make]] Observable 'B->D^*lnu::J_3' forces option key 'I' to value '1/2', overriding user-provided value '1/2'\n",
      "@1642019648: [ERROR [ConcreteCacheableObservableEntry.make]] ERROR:EOS:[ConcreteCacheableObservableEntry.make] Observable 'B->D^*lnu::J_3' forces option key 'I' to value '1/2', overriding user-provided value '1/2'\n",
      "Observable 'B->D^*lnu::J_3' forces option key 'U' to value 'c', overriding user-provided value 'c'ERROR:EOS:[ConcreteCacheableObservableEntry.make] Observable 'B->D^*lnu::J_3' forces option key 'U' to value 'c', overriding user-provided value 'c'\n",
      "ERROR:EOS:[ConcreteCacheableObservableEntry.make] Observable 'B->D^*lnu::J_3' forces option key 'I' to value '1/2', overriding user-provided value '1/2'\n",
      "\n",
      "@1642019648: [ERROR [ConcreteCacheableObservableEntry.make]] Observable 'B->D^*lnu::J_3' forces option key 'I' to value '1/2', overriding user-provided value '1/2'\n",
      "@1642019648: [ERROR [ConcreteCacheableObservableEntry.make]] ERROR:EOS:[ConcreteCacheableObservableEntry.make] Observable 'B->D^*lnu::J_3' forces option key 'U' to value 'c', overriding user-provided value 'c'\n",
      "ERROR:EOS:[ConcreteCacheableObservableEntry.make] Observable 'B->D^*lnu::J_3' forces option key 'I' to value '1/2', overriding user-provided value '1/2'\n",
      "Observable 'B->D^*lnu::J_3' forces option key 'U' to value 'c', overriding user-provided value 'c'\n",
      "@1642019648: [ERROR [ConcreteCacheableObservableEntry.make]] ERROR:EOS:[ConcreteCacheableObservableEntry.make] Observable 'B->D^*lnu::J_3' forces option key 'U' to value 'c', overriding user-provided value 'c'\n",
      "Observable 'B->D^*lnu::J_3' forces option key 'I' to value '1/2', overriding user-provided value '1/2'\n",
      "@1642019648: [ERROR [ConcreteCacheableObservableEntry.make]] Observable 'B->D^*lnu::J_3' forces option key 'U' to value 'c', overriding user-provided value 'c'\n",
      "@1642019648: [ERROR [ConcreteCacheableObservableEntry.make]] Observable 'B->D^*lnu::J_3' forces option key 'I' to value '1/2', overriding user-provided value '1/2'\n",
      "@1642019648: [ERROR [ConcreteCacheableObservableEntry.make]] ERROR:EOS:[ConcreteObservableEntry.make] Observable 'B->D^*lnu::BR_CP_specific' forces option key 'I' to value '1/2', overriding user-provided value '1/2'\n",
      "ERROR:EOS:[ConcreteObservableEntry.make] Observable 'B->D^*lnu::BR_CP_specific' forces option key 'U' to value 'c', overriding user-provided value 'c'\n",
      "Observable 'B->D^*lnu::J_3' forces option key 'U' to value 'c', overriding user-provided value 'c'\n",
      "@1642019648: [ERROR [ConcreteObservableEntry.make]] Observable 'B->D^*lnu::BR_CP_specific' forces option key 'I' to value '1/2', overriding user-provided value '1/2'\n",
      "@1642019648: [ERROR [ConcreteObservableEntry.make]] ERROR:EOS:[ConcreteObservableEntry.make] Observable 'B->D^*lnu::BR_CP_specific' forces option key 'I' to value '1/2', overriding user-provided value '1/2'\n",
      "Observable 'B->D^*lnu::BR_CP_specific' forces option key 'U' to value 'c', overriding user-provided value 'c'\n",
      "ERROR:EOS:[ConcreteObservableEntry.make] Observable 'B->D^*lnu::BR_CP_specific' forces option key 'U' to value 'c', overriding user-provided value 'c'\n",
      "@1642019648: [ERROR [ConcreteObservableEntry.make]] Observable 'B->D^*lnu::BR_CP_specific' forces option key 'I' to value '1/2', overriding user-provided value '1/2'\n",
      "@1642019648: [ERROR [ConcreteObservableEntry.make]] ERROR:EOS:[ConcreteObservableEntry.make] Observable 'B->D^*lnu::BR_CP_specific' forces option key 'I' to value '1/2', overriding user-provided value '1/2'\n",
      "Observable 'B->D^*lnu::BR_CP_specific' forces option key 'U' to value 'c', overriding user-provided value 'c'\n",
      "@1642019648: [ERROR [ConcreteObservableEntry.make]] ERROR:EOS:[ConcreteObservableEntry.make] Observable 'B->D^*lnu::BR_CP_specific' forces option key 'U' to value 'c', overriding user-provided value 'c'\n",
      "Observable 'B->D^*lnu::BR_CP_specific' forces option key 'I' to value '1/2', overriding user-provided value '1/2'\n",
      "@1642019648: [ERROR [ConcreteObservableEntry.make]] ERROR:EOS:[ConcreteObservableEntry.make] Observable 'B->D^*lnu::BR_CP_specific' forces option key 'I' to value '1/2', overriding user-provided value '1/2'\n",
      "ERROR:EOS:[ConcreteObservableEntry.make] Observable 'B->D^*lnu::BR_CP_specific' forces option key 'U' to value 'c', overriding user-provided value 'c'\n",
      "Observable 'B->D^*lnu::BR_CP_specific' forces option key 'U' to value 'c', overriding user-provided value 'c'\n",
      "@1642019648: [ERROR [ConcreteObservableEntry.make]] Observable 'B->D^*lnu::BR_CP_specific' forces option key 'I' to value '1/2', overriding user-provided value '1/2'\n",
      "@1642019648: [ERROR [ConcreteObservableEntry.make]] ERROR:EOS:[ConcreteCacheableObservableEntry.make] Observable 'B->D^*lnu::F_L_CP_specific' forces option key 'I' to value '1/2', overriding user-provided value '1/2'\n",
      "Observable 'B->D^*lnu::BR_CP_specific' forces option key 'U' to value 'c', overriding user-provided value 'c'\n",
      "@1642019648: [ERROR [ConcreteCacheableObservableEntry.make]] ERROR:EOS:[ConcreteCacheableObservableEntry.make] Observable 'B->D^*lnu::F_L_CP_specific' forces option key 'U' to value 'c', overriding user-provided value 'c'\n",
      "Observable 'B->D^*lnu::F_L_CP_specific' forces option key 'I' to value '1/2', overriding user-provided value '1/2'\n",
      "@1642019648: [ERROR [ConcreteCacheableObservableEntry.make]] ERROR:EOS:[ConcreteCacheableObservableEntry.make] Observable 'B->D^*lnu::F_L_CP_specific' forces option key 'I' to value '1/2', overriding user-provided value '1/2'\n",
      "Observable 'B->D^*lnu::F_L_CP_specific' forces option key 'U' to value 'c', overriding user-provided value 'c'\n",
      "@1642019648: [ERROR [ConcreteCacheableObservableEntry.make]] ERROR:EOS:[ConcreteCacheableObservableEntry.make] Observable 'B->D^*lnu::F_L_CP_specific' forces option key 'U' to value 'c', overriding user-provided value 'c'\n",
      "Observable 'B->D^*lnu::F_L_CP_specific' forces option key 'I' to value '1/2', overriding user-provided value '1/2'\n",
      "@1642019648: [ERROR [ConcreteCacheableObservableEntry.make]] ERROR:EOS:[ConcreteCacheableObservableEntry.make] Observable 'B->D^*lnu::F_L_CP_specific' forces option key 'I' to value '1/2', overriding user-provided value '1/2'\n",
      "Observable 'B->D^*lnu::F_L_CP_specific' forces option key 'U' to value 'c', overriding user-provided value 'c'\n",
      "@1642019648: [ERROR [ConcreteCacheableObservableEntry.make]] ERROR:EOS:[ConcreteCacheableObservableEntry.make] Observable 'B->D^*lnu::F_L_CP_specific' forces option key 'U' to value 'c', overriding user-provided value 'c'\n",
      "Observable 'B->D^*lnu::F_L_CP_specific' forces option key 'I' to value '1/2', overriding user-provided value '1/2'\n",
      "@1642019648: [ERROR [ConcreteCacheableObservableEntry.make]] ERROR:EOS:[ConcreteCacheableObservableEntry.make] Observable 'B->D^*lnu::F_L_CP_specific' forces option key 'I' to value '1/2', overriding user-provided value '1/2'\n",
      "Observable 'B->D^*lnu::F_L_CP_specific' forces option key 'U' to value 'c', overriding user-provided value 'c'\n",
      "@1642019648: [ERROR [ConcreteCacheableObservableEntry.make]] ERROR:EOS:[ConcreteCacheableObservableEntry.make] Observable 'B->D^*lnu::F_L_CP_specific' forces option key 'U' to value 'c', overriding user-provided value 'c'\n",
      "Observable 'B->D^*lnu::F_L_CP_specific' forces option key 'I' to value '1/2', overriding user-provided value '1/2'\n",
      "@1642019648: [ERROR [ConcreteCacheableObservableEntry.make]] ERROR:EOS:[ConcreteCacheableObservableEntry.make] Observable 'B->D^*lnu::A_FB_CP_specific' forces option key 'I' to value '1/2', overriding user-provided value '1/2'\n",
      "Observable 'B->D^*lnu::F_L_CP_specific' forces option key 'U' to value 'c', overriding user-provided value 'c'\n",
      "@1642019648: [ERROR [ConcreteCacheableObservableEntry.make]] ERROR:EOS:[ConcreteCacheableObservableEntry.make] Observable 'B->D^*lnu::A_FB_CP_specific' forces option key 'U' to value 'c', overriding user-provided value 'c'\n",
      "Observable 'B->D^*lnu::A_FB_CP_specific' forces option key 'I' to value '1/2', overriding user-provided value '1/2'\n",
      "@1642019648: [ERROR [ConcreteCacheableObservableEntry.make]] ERROR:EOS:[ConcreteCacheableObservableEntry.make] Observable 'B->D^*lnu::A_FB_CP_specific' forces option key 'I' to value '1/2', overriding user-provided value '1/2'\n",
      "Observable 'B->D^*lnu::A_FB_CP_specific' forces option key 'U' to value 'c', overriding user-provided value 'c'\n",
      "@1642019648: [ERROR [ConcreteCacheableObservableEntry.make]] ERROR:EOS:[ConcreteCacheableObservableEntry.make] Observable 'B->D^*lnu::A_FB_CP_specific' forces option key 'U' to value 'c', overriding user-provided value 'c'\n",
      "Observable 'B->D^*lnu::A_FB_CP_specific' forces option key 'I' to value '1/2', overriding user-provided value '1/2'\n",
      "@1642019648: [ERROR [ConcreteCacheableObservableEntry.make]] ERROR:EOS:[ConcreteCacheableObservableEntry.make] Observable 'B->D^*lnu::A_FB_CP_specific' forces option key 'I' to value '1/2', overriding user-provided value '1/2'\n",
      "Observable 'B->D^*lnu::A_FB_CP_specific' forces option key 'U' to value 'c', overriding user-provided value 'c'ERROR:EOS:[ConcreteCacheableObservableEntry.make] Observable 'B->D^*lnu::A_FB_CP_specific' forces option key 'U' to value 'c', overriding user-provided value 'c'\n",
      "\n",
      "@1642019648: [ERROR [ConcreteCacheableObservableEntry.make]] ERROR:EOS:[ConcreteCacheableObservableEntry.make] Observable 'B->D^*lnu::A_FB_CP_specific' forces option key 'I' to value '1/2', overriding user-provided value '1/2'\n",
      "Observable 'B->D^*lnu::A_FB_CP_specific' forces option key 'I' to value '1/2', overriding user-provided value '1/2'\n",
      "@1642019648: [ERROR [ConcreteCacheableObservableEntry.make]] Observable 'B->D^*lnu::A_FB_CP_specific' forces option key 'U' to value 'c', overriding user-provided value 'c'\n",
      "@1642019648: [ERROR [ConcreteCacheableObservableEntry.make]] ERROR:EOS:[ConcreteCacheableObservableEntry.make] Observable 'B->D^*lnu::A_FB_CP_specific' forces option key 'U' to value 'c', overriding user-provided value 'c'\n",
      "Observable 'B->D^*lnu::A_FB_CP_specific' forces option key 'I' to value '1/2', overriding user-provided value '1/2'\n",
      "@1642019648: [ERROR [ConcreteCacheableObservableEntry.make]] Observable 'B->D^*lnu::A_FB_CP_specific' forces option key 'U' to value 'c', overriding user-provided value 'c'ERROR:EOS:[ConcreteCacheableObservableEntry.make] Observable 'B->D^*lnu::Ftilde_L_CP_specific' forces option key 'I' to value '1/2', overriding user-provided value '1/2'\n",
      "\n",
      "@1642019648: [ERROR [ConcreteCacheableObservableEntry.make]] ERROR:EOS:[ConcreteCacheableObservableEntry.make] Observable 'B->D^*lnu::Ftilde_L_CP_specific' forces option key 'U' to value 'c', overriding user-provided value 'c'\n",
      "Observable 'B->D^*lnu::Ftilde_L_CP_specific' forces option key 'I' to value '1/2', overriding user-provided value '1/2'\n",
      "@1642019648: [ERROR [ConcreteCacheableObservableEntry.make]] ERROR:EOS:[ConcreteCacheableObservableEntry.make] Observable 'B->D^*lnu::Ftilde_L_CP_specific' forces option key 'I' to value '1/2', overriding user-provided value '1/2'\n",
      "Observable 'B->D^*lnu::Ftilde_L_CP_specific' forces option key 'U' to value 'c', overriding user-provided value 'c'\n",
      "@1642019648: [ERROR [ConcreteCacheableObservableEntry.make]] ERROR:EOS:[ConcreteCacheableObservableEntry.make] Observable 'B->D^*lnu::Ftilde_L_CP_specific' forces option key 'U' to value 'c', overriding user-provided value 'c'\n",
      "Observable 'B->D^*lnu::Ftilde_L_CP_specific' forces option key 'I' to value '1/2', overriding user-provided value '1/2'\n",
      "@1642019648: [ERROR [ConcreteCacheableObservableEntry.make]] ERROR:EOS:[ConcreteCacheableObservableEntry.make] Observable 'B->D^*lnu::Ftilde_L_CP_specific' forces option key 'I' to value '1/2', overriding user-provided value '1/2'\n",
      "Observable 'B->D^*lnu::Ftilde_L_CP_specific' forces option key 'U' to value 'c', overriding user-provided value 'c'\n",
      "@1642019648: [ERROR [ConcreteCacheableObservableEntry.make]] ERROR:EOS:[ConcreteCacheableObservableEntry.make] Observable 'B->D^*lnu::Ftilde_L_CP_specific' forces option key 'U' to value 'c', overriding user-provided value 'c'\n",
      "Observable 'B->D^*lnu::Ftilde_L_CP_specific' forces option key 'I' to value '1/2', overriding user-provided value '1/2'\n",
      "@1642019648: [ERROR [ConcreteCacheableObservableEntry.make]] ERROR:EOS:[ConcreteCacheableObservableEntry.make] Observable 'B->D^*lnu::Ftilde_L_CP_specific' forces option key 'I' to value '1/2', overriding user-provided value '1/2'\n",
      "Observable 'B->D^*lnu::Ftilde_L_CP_specific' forces option key 'U' to value 'c', overriding user-provided value 'c'\n",
      "ERROR:EOS:[ConcreteCacheableObservableEntry.make] Observable 'B->D^*lnu::Ftilde_L_CP_specific' forces option key 'U' to value 'c', overriding user-provided value 'c'\n",
      "@1642019648: [ERROR [ConcreteCacheableObservableEntry.make]] Observable 'B->D^*lnu::Ftilde_L_CP_specific' forces option key 'I' to value '1/2', overriding user-provided value '1/2'\n",
      "@1642019648: [ERROR [ConcreteCacheableObservableEntry.make]] Observable 'B->D^*lnu::Ftilde_L_CP_specific' forces option key 'U' to value 'c', overriding user-provided value 'c'ERROR:EOS:[ConcreteCacheableObservableEntry.make] Observable 'B->D^*lnu::J_3' forces option key 'I' to value '1/2', overriding user-provided value '1/2'\n",
      "\n",
      "@1642019648: [ERROR [ConcreteCacheableObservableEntry.make]] ERROR:EOS:[ConcreteCacheableObservableEntry.make] Observable 'B->D^*lnu::J_3' forces option key 'U' to value 'c', overriding user-provided value 'c'\n",
      "Observable 'B->D^*lnu::J_3' forces option key 'I' to value '1/2', overriding user-provided value '1/2'\n",
      "@1642019648: [ERROR [ConcreteCacheableObservableEntry.make]] ERROR:EOS:[ConcreteCacheableObservableEntry.make] Observable 'B->D^*lnu::J_3' forces option key 'I' to value '1/2', overriding user-provided value '1/2'\n",
      "Observable 'B->D^*lnu::J_3' forces option key 'U' to value 'c', overriding user-provided value 'c'\n",
      "@1642019648: [ERROR [ConcreteCacheableObservableEntry.make]] ERROR:EOS:[ConcreteCacheableObservableEntry.make] Observable 'B->D^*lnu::J_3' forces option key 'U' to value 'c', overriding user-provided value 'c'\n",
      "Observable 'B->D^*lnu::J_3' forces option key 'I' to value '1/2', overriding user-provided value '1/2'ERROR:EOS:[ConcreteCacheableObservableEntry.make] Observable 'B->D^*lnu::J_3' forces option key 'I' to value '1/2', overriding user-provided value '1/2'\n",
      "\n",
      "@1642019648: [ERROR [ConcreteCacheableObservableEntry.make]] Observable 'B->D^*lnu::J_3' forces option key 'U' to value 'c', overriding user-provided value 'c'\n",
      "@1642019648: [ERROR [ConcreteCacheableObservableEntry.make]] ERROR:EOS:[ConcreteCacheableObservableEntry.make] Observable 'B->D^*lnu::J_3' forces option key 'U' to value 'c', overriding user-provided value 'c'\n",
      "Observable 'B->D^*lnu::J_3' forces option key 'I' to value '1/2', overriding user-provided value '1/2'\n",
      "@1642019648: [ERROR [ConcreteCacheableObservableEntry.make]] ERROR:EOS:[ConcreteCacheableObservableEntry.make] Observable 'B->D^*lnu::J_3' forces option key 'I' to value '1/2', overriding user-provided value '1/2'\n",
      "Observable 'B->D^*lnu::J_3' forces option key 'U' to value 'c', overriding user-provided value 'c'\n",
      "@1642019648: [ERROR [ConcreteCacheableObservableEntry.make]] ERROR:EOS:[ConcreteCacheableObservableEntry.make] Observable 'B->D^*lnu::J_3' forces option key 'U' to value 'c', overriding user-provided value 'c'\n",
      "Observable 'B->D^*lnu::J_3' forces option key 'I' to value '1/2', overriding user-provided value '1/2'\n",
      "@1642019648: [ERROR [ConcreteCacheableObservableEntry.make]] Observable 'B->D^*lnu::J_3' forces option key 'U' to value 'c', overriding user-provided value 'c'\n",
      "INFO:EOS:likelihood probably depends on 185 parameter(s) that do not appear in the prior; check prior?\n"
     ]
    }
   ],
   "source": [
    "analysis_args['likelihood'].append('B^0->(Dpi)^+l^-nubar::KinematicDistributionsAngularObservables@BBGJvD:2021A')\n",
    "analysis_args['priors'].extend([\n",
    "    # CKM element\n",
    "    { 'parameter':         \"CKM::abs(V_cb)\",   'min':  30.0e-3, 'max':  50.0e-3,  'type': 'uniform' }\n",
    "])\n",
    "\n",
    "exp_analysis = eos.Analysis(**analysis_args)\n",
    "##\n",
    "exp_analysis.parameters['CKM::abs(V_cb)'].set(40.0e-3)\n",
    "exp_analysis.parameters['CKM::arg(V_cb)'].set(0.0)\n",
    "##\n",
    "exp_analysis.parameters[  \"cbenue::Re{cVL}\"].set(1.00)\n",
    "##\n",
    "exp_analysis.parameters[\"cbmunumu::Re{cVL}\"].set(1.00)"
   ]
  },
  {
   "cell_type": "markdown",
   "metadata": {},
   "source": [
    "# Goodness-of-fit (GOF) without Markov Chains\n",
    "Only from theory constraints on FF's:"
   ]
  },
  {
   "cell_type": "code",
   "execution_count": 5,
   "metadata": {
    "scrolled": false
   },
   "outputs": [
    {
     "name": "stderr",
     "output_type": "stream",
     "text": [
      "WARNING:EOS:Optimization did not succeed\n",
      "WARNING:EOS:  optimizer message reas: STOP: TOTAL NO. of f AND g EVALUATIONS EXCEEDS LIMIT\n"
     ]
    },
    {
     "name": "stdout",
     "output_type": "stream",
     "text": [
      "CPU times: user 8.23 s, sys: 7.73 s, total: 16 s\n",
      "Wall time: 4.28 s\n",
      "CPU times: user 525 µs, sys: 417 µs, total: 942 µs\n",
      "Wall time: 286 µs\n"
     ]
    },
    {
     "data": {
      "text/html": [
       "<table>\n",
       "<tr><th>constraint</th><th>&chi;<sup>2</sup></th><th>d.o.f.</th></tr>\n",
       "<tr><td><tt>B(*)->D(*)::chi_2'(1)</tt></td><td>0.0000</td><td>1</td></tr>\n",
       "<tr><td><tt>B(*)->D(*)::chi_2(1)</tt></td><td>0.0000</td><td>1</td></tr>\n",
       "<tr><td><tt>B(*)->D(*)::chi_3'(1)</tt></td><td>0.0000</td><td>1</td></tr>\n",
       "<tr><td><tt>B(*)->D(*)::eta'(1)</tt></td><td>0.0213</td><td>1</td></tr>\n",
       "<tr><td><tt>B(*)->D(*)::eta(1)</tt></td><td>0.0492</td><td>1</td></tr>\n",
       "<tr><td><tt>B->D::f_++f_0@FNAL+MILC:2015B</tt></td><td>3.6995</td><td>7</td></tr>\n",
       "<tr><td><tt>B->D::f_++f_0@HPQCD:2015A</tt></td><td>3.1833</td><td>5</td></tr>\n",
       "<tr><td><tt>B->D::f_T/f_+</tt></td><td>0.0031</td><td>1</td></tr>\n",
       "<tr><td><tt>B->D^(*)::FormFactors[f_+,f_0,A_0,A_1,A_2,V,T_1,T_2,T_23]@GKvD:2018A</tt></td><td>2.9590</td><td>33</td></tr>\n",
       "<tr><td><tt>B->D^*::A_1[s_max]@HFLAV:2019A</tt></td><td>0.0104</td><td>1</td></tr>\n",
       "</table><br/>\n",
       "<table>\n",
       "<tr><th>total &chi;<sup>2</sup></th><td>9.9256</td></tr>\n",
       "<tr><th>total degrees of freedom</th><td>29</td></tr>\n",
       "<tr><th>p-value</th><td>99.9628%</td></tr>\n",
       "</table>\n"
      ],
      "text/plain": [
       "<_eos.GoodnessOfFit at 0x7f30eecb3f40>"
      ]
     },
     "execution_count": 5,
     "metadata": {},
     "output_type": "execute_result"
    }
   ],
   "source": [
    "%time th_analysis.optimize()\n",
    "%time th_analysis.goodness_of_fit()"
   ]
  },
  {
   "cell_type": "markdown",
   "metadata": {},
   "source": [
    "initialize experimental analysis with **best-fit point** (BFP) from theory-only FF fit:"
   ]
  },
  {
   "cell_type": "code",
   "execution_count": 6,
   "metadata": {
    "scrolled": true
   },
   "outputs": [
    {
     "data": {
      "text/html": [
       "<table>\n",
       "<tr><th>constraint</th><th>&chi;<sup>2</sup></th><th>d.o.f.</th></tr>\n",
       "<tr><td><tt>B(*)->D(*)::chi_2'(1)</tt></td><td>0.0000</td><td>1</td></tr>\n",
       "<tr><td><tt>B(*)->D(*)::chi_2(1)</tt></td><td>0.0000</td><td>1</td></tr>\n",
       "<tr><td><tt>B(*)->D(*)::chi_3'(1)</tt></td><td>0.0000</td><td>1</td></tr>\n",
       "<tr><td><tt>B(*)->D(*)::eta'(1)</tt></td><td>0.0213</td><td>1</td></tr>\n",
       "<tr><td><tt>B(*)->D(*)::eta(1)</tt></td><td>0.0492</td><td>1</td></tr>\n",
       "<tr><td><tt>B->D::f_++f_0@FNAL+MILC:2015B</tt></td><td>3.6995</td><td>7</td></tr>\n",
       "<tr><td><tt>B->D::f_++f_0@HPQCD:2015A</tt></td><td>3.1833</td><td>5</td></tr>\n",
       "<tr><td><tt>B->D::f_T/f_+</tt></td><td>0.0031</td><td>1</td></tr>\n",
       "<tr><td><tt>B->D^(*)::FormFactors[f_+,f_0,A_0,A_1,A_2,V,T_1,T_2,T_23]@GKvD:2018A</tt></td><td>2.9590</td><td>33</td></tr>\n",
       "<tr><td><tt>B->D^*::A_1[s_max]@HFLAV:2019A</tt></td><td>0.0104</td><td>1</td></tr>\n",
       "<tr><td><tt>B^0->(Dpi)^+l^-nubar::KinematicDistributionsAngularObservables@BBGJvD:2021A</tt></td><td>120.3077</td><td>28</td></tr>\n",
       "</table><br/>\n",
       "<table>\n",
       "<tr><th>total &chi;<sup>2</sup></th><td>130.2334</td></tr>\n",
       "<tr><th>total degrees of freedom</th><td>56</td></tr>\n",
       "<tr><th>p-value</th><td>0.0000%</td></tr>\n",
       "</table>\n"
      ],
      "text/plain": [
       "<_eos.GoodnessOfFit at 0x7f30eecb37c0>"
      ]
     },
     "metadata": {},
     "output_type": "display_data"
    },
    {
     "name": "stdout",
     "output_type": "stream",
     "text": [
      "CPU times: user 542 ms, sys: 0 ns, total: 542 ms\n",
      "Wall time: 100 ms\n"
     ]
    }
   ],
   "source": [
    "for p in th_analysis.parameters:\n",
    "    exp_analysis.parameters[p.name()].set(p.evaluate())\n",
    "%time display(exp_analysis.goodness_of_fit())"
   ]
  },
  {
   "cell_type": "code",
   "execution_count": 7,
   "metadata": {
    "scrolled": false
   },
   "outputs": [
    {
     "name": "stderr",
     "output_type": "stream",
     "text": [
      "WARNING:EOS:Optimization did not succeed\n",
      "WARNING:EOS:  optimizer message reas: STOP: TOTAL NO. of f AND g EVALUATIONS EXCEEDS LIMIT\n"
     ]
    },
    {
     "name": "stdout",
     "output_type": "stream",
     "text": [
      "CPU times: user 2h 33min 18s, sys: 23.6 s, total: 2h 33min 42s\n",
      "Wall time: 13min 2s\n",
      "CPU times: user 626 ms, sys: 56 µs, total: 627 ms\n",
      "Wall time: 51.2 ms\n"
     ]
    },
    {
     "data": {
      "text/html": [
       "<table>\n",
       "<tr><th>constraint</th><th>&chi;<sup>2</sup></th><th>d.o.f.</th></tr>\n",
       "<tr><td><tt>B(*)->D(*)::chi_2'(1)</tt></td><td>0.0000</td><td>1</td></tr>\n",
       "<tr><td><tt>B(*)->D(*)::chi_2(1)</tt></td><td>0.0004</td><td>1</td></tr>\n",
       "<tr><td><tt>B(*)->D(*)::chi_3'(1)</tt></td><td>0.0020</td><td>1</td></tr>\n",
       "<tr><td><tt>B(*)->D(*)::eta'(1)</tt></td><td>0.0219</td><td>1</td></tr>\n",
       "<tr><td><tt>B(*)->D(*)::eta(1)</tt></td><td>0.0109</td><td>1</td></tr>\n",
       "<tr><td><tt>B->D::f_++f_0@FNAL+MILC:2015B</tt></td><td>3.6719</td><td>7</td></tr>\n",
       "<tr><td><tt>B->D::f_++f_0@HPQCD:2015A</tt></td><td>3.1911</td><td>5</td></tr>\n",
       "<tr><td><tt>B->D::f_T/f_+</tt></td><td>0.0087</td><td>1</td></tr>\n",
       "<tr><td><tt>B->D^(*)::FormFactors[f_+,f_0,A_0,A_1,A_2,V,T_1,T_2,T_23]@GKvD:2018A</tt></td><td>4.0005</td><td>33</td></tr>\n",
       "<tr><td><tt>B->D^*::A_1[s_max]@HFLAV:2019A</tt></td><td>0.0059</td><td>1</td></tr>\n",
       "<tr><td><tt>B^0->(Dpi)^+l^-nubar::KinematicDistributionsAngularObservables@BBGJvD:2021A</tt></td><td>67.5850</td><td>28</td></tr>\n",
       "</table><br/>\n",
       "<table>\n",
       "<tr><th>total &chi;<sup>2</sup></th><td>78.4982</td></tr>\n",
       "<tr><th>total degrees of freedom</th><td>56</td></tr>\n",
       "<tr><th>p-value</th><td>2.5306%</td></tr>\n",
       "</table>\n"
      ],
      "text/plain": [
       "<_eos.GoodnessOfFit at 0x7f30eeccc360>"
      ]
     },
     "execution_count": 7,
     "metadata": {},
     "output_type": "execute_result"
    }
   ],
   "source": [
    "%time exp_analysis.optimize()\n",
    "%time exp_analysis.goodness_of_fit()"
   ]
  },
  {
   "cell_type": "markdown",
   "metadata": {},
   "source": [
    "# Fit with Markov Chains"
   ]
  },
  {
   "cell_type": "code",
   "execution_count": 8,
   "metadata": {
    "scrolled": true
   },
   "outputs": [
    {
     "name": "stdout",
     "output_type": "stream",
     "text": [
      "Chain :  1\n"
     ]
    },
    {
     "name": "stderr",
     "output_type": "stream",
     "text": [
      "Pre-runs:   0%|          | 0/10 [00:00<?, ?it/s]INFO:EOS:Prerun 0 out of 10\n",
      "INFO:EOS:Prerun 0: acceptance rate is   1%\n",
      "Pre-runs:  10%|█         | 1/10 [01:23<12:28, 83.13s/it]INFO:EOS:Prerun 1 out of 10\n"
     ]
    },
    {
     "name": "stdout",
     "output_type": "stream",
     "text": [
      "WARNING: Markov chain self adaptation failed; trying diagonalization ... success\n"
     ]
    },
    {
     "name": "stderr",
     "output_type": "stream",
     "text": [
      "INFO:EOS:Prerun 1: acceptance rate is   1%\n",
      "Pre-runs:  20%|██        | 2/10 [04:07<17:28, 131.02s/it]INFO:EOS:Prerun 2 out of 10\n",
      "INFO:EOS:Prerun 2: acceptance rate is   5%\n",
      "Pre-runs:  30%|███       | 3/10 [07:01<17:35, 150.75s/it]INFO:EOS:Prerun 3 out of 10\n",
      "INFO:EOS:Prerun 3: acceptance rate is  15%\n",
      "Pre-runs:  40%|████      | 4/10 [09:47<15:40, 156.73s/it]INFO:EOS:Prerun 4 out of 10\n",
      "INFO:EOS:Prerun 4: acceptance rate is  36%\n",
      "Pre-runs:  50%|█████     | 5/10 [12:34<13:21, 160.36s/it]INFO:EOS:Prerun 5 out of 10\n",
      "INFO:EOS:Prerun 5: acceptance rate is  34%\n",
      "Pre-runs:  60%|██████    | 6/10 [15:16<10:43, 160.95s/it]INFO:EOS:Prerun 6 out of 10\n",
      "INFO:EOS:Prerun 6: acceptance rate is  42%\n",
      "Pre-runs:  70%|███████   | 7/10 [18:03<08:09, 163.02s/it]INFO:EOS:Prerun 7 out of 10\n",
      "INFO:EOS:Prerun 7: acceptance rate is  37%\n",
      "Pre-runs:  80%|████████  | 8/10 [20:48<05:26, 163.49s/it]INFO:EOS:Prerun 8 out of 10\n",
      "INFO:EOS:Prerun 8: acceptance rate is  31%\n",
      "Pre-runs:  90%|█████████ | 9/10 [23:23<02:40, 160.87s/it]INFO:EOS:Prerun 9 out of 10\n",
      "INFO:EOS:Prerun 9: acceptance rate is  34%\n",
      "INFO:EOS:Main run: started ...                            \n",
      "INFO:EOS:Main run: acceptance rate is  34%                 \n"
     ]
    },
    {
     "name": "stdout",
     "output_type": "stream",
     "text": [
      "Chain :  2\n"
     ]
    },
    {
     "name": "stderr",
     "output_type": "stream",
     "text": [
      "Pre-runs:   0%|          | 0/10 [00:00<?, ?it/s]INFO:EOS:Prerun 0 out of 10\n",
      "INFO:EOS:Prerun 0: acceptance rate is   1%\n",
      "Pre-runs:  10%|█         | 1/10 [00:51<07:44, 51.60s/it]INFO:EOS:Prerun 1 out of 10\n"
     ]
    },
    {
     "name": "stdout",
     "output_type": "stream",
     "text": [
      "WARNING: Markov chain self adaptation failed; trying diagonalization ... success\n"
     ]
    },
    {
     "name": "stderr",
     "output_type": "stream",
     "text": [
      "INFO:EOS:Prerun 1: acceptance rate is   1%\n",
      "Pre-runs:  20%|██        | 2/10 [03:15<14:09, 106.17s/it]INFO:EOS:Prerun 2 out of 10\n",
      "INFO:EOS:Prerun 2: acceptance rate is   2%\n",
      "Pre-runs:  30%|███       | 3/10 [05:43<14:33, 124.83s/it]INFO:EOS:Prerun 3 out of 10\n",
      "INFO:EOS:Prerun 3: acceptance rate is   7%\n",
      "Pre-runs:  40%|████      | 4/10 [08:01<13:01, 130.19s/it]INFO:EOS:Prerun 4 out of 10\n",
      "INFO:EOS:Prerun 4: acceptance rate is  26%\n",
      "Pre-runs:  50%|█████     | 5/10 [10:13<10:54, 130.83s/it]INFO:EOS:Prerun 5 out of 10\n",
      "INFO:EOS:Prerun 5: acceptance rate is  32%\n",
      "Pre-runs:  60%|██████    | 6/10 [12:29<08:49, 132.46s/it]INFO:EOS:Prerun 6 out of 10\n",
      "INFO:EOS:Prerun 6: acceptance rate is  40%\n",
      "Pre-runs:  70%|███████   | 7/10 [14:53<06:49, 136.34s/it]INFO:EOS:Prerun 7 out of 10\n",
      "INFO:EOS:Prerun 7: acceptance rate is  38%\n",
      "Pre-runs:  80%|████████  | 8/10 [17:13<04:35, 137.59s/it]INFO:EOS:Prerun 8 out of 10\n",
      "INFO:EOS:Prerun 8: acceptance rate is  34%\n",
      "Pre-runs:  90%|█████████ | 9/10 [19:19<02:13, 133.94s/it]INFO:EOS:Prerun 9 out of 10\n",
      "INFO:EOS:Prerun 9: acceptance rate is  35%\n",
      "INFO:EOS:Main run: started ...                            \n",
      "INFO:EOS:Main run: acceptance rate is  32%                 \n"
     ]
    },
    {
     "name": "stdout",
     "output_type": "stream",
     "text": [
      "Chain :  3\n"
     ]
    },
    {
     "name": "stderr",
     "output_type": "stream",
     "text": [
      "Pre-runs:   0%|          | 0/10 [00:00<?, ?it/s]INFO:EOS:Prerun 0 out of 10\n",
      "INFO:EOS:Prerun 0: acceptance rate is   1%\n",
      "Pre-runs:  10%|█         | 1/10 [01:23<12:27, 83.01s/it]INFO:EOS:Prerun 1 out of 10\n",
      "INFO:EOS:Prerun 1: acceptance rate is   1%\n",
      "Pre-runs:  20%|██        | 2/10 [03:23<13:58, 104.78s/it]INFO:EOS:Prerun 2 out of 10\n",
      "INFO:EOS:Prerun 2: acceptance rate is   1%\n",
      "Pre-runs:  30%|███       | 3/10 [05:26<13:14, 113.46s/it]INFO:EOS:Prerun 3 out of 10\n",
      "INFO:EOS:Prerun 3: acceptance rate is   4%\n",
      "Pre-runs:  40%|████      | 4/10 [07:30<11:45, 117.54s/it]INFO:EOS:Prerun 4 out of 10\n",
      "INFO:EOS:Prerun 4: acceptance rate is  25%\n",
      "Pre-runs:  50%|█████     | 5/10 [09:34<09:58, 119.79s/it]INFO:EOS:Prerun 5 out of 10\n",
      "INFO:EOS:Prerun 5: acceptance rate is  39%\n",
      "Pre-runs:  60%|██████    | 6/10 [11:38<08:04, 121.17s/it]INFO:EOS:Prerun 6 out of 10\n",
      "INFO:EOS:Prerun 6: acceptance rate is  37%\n",
      "Pre-runs:  70%|███████   | 7/10 [13:42<06:06, 122.03s/it]INFO:EOS:Prerun 7 out of 10\n",
      "INFO:EOS:Prerun 7: acceptance rate is  36%\n",
      "Pre-runs:  80%|████████  | 8/10 [15:45<04:05, 122.60s/it]INFO:EOS:Prerun 8 out of 10\n",
      "INFO:EOS:Prerun 8: acceptance rate is  30%\n",
      "Pre-runs:  90%|█████████ | 9/10 [17:49<02:03, 123.01s/it]INFO:EOS:Prerun 9 out of 10\n",
      "INFO:EOS:Prerun 9: acceptance rate is  30%\n",
      "INFO:EOS:Main run: started ...                            \n",
      "INFO:EOS:Main run: acceptance rate is  32%                 \n"
     ]
    },
    {
     "name": "stdout",
     "output_type": "stream",
     "text": [
      "Chain :  4\n"
     ]
    },
    {
     "name": "stderr",
     "output_type": "stream",
     "text": [
      "Pre-runs:   0%|          | 0/10 [00:00<?, ?it/s]INFO:EOS:Prerun 0 out of 10\n",
      "INFO:EOS:Prerun 0: acceptance rate is   0%\n",
      "Pre-runs:  10%|█         | 1/10 [00:28<04:16, 28.51s/it]INFO:EOS:Prerun 1 out of 10\n"
     ]
    },
    {
     "name": "stdout",
     "output_type": "stream",
     "text": [
      "WARNING: Markov chain self adaptation failed; trying diagonalization ... success\n"
     ]
    },
    {
     "name": "stderr",
     "output_type": "stream",
     "text": [
      "INFO:EOS:Prerun 1: acceptance rate is   2%\n",
      "Pre-runs:  20%|██        | 2/10 [02:07<09:21, 70.23s/it]INFO:EOS:Prerun 2 out of 10\n",
      "INFO:EOS:Prerun 2: acceptance rate is   4%\n",
      "Pre-runs:  30%|███       | 3/10 [04:05<10:44, 92.06s/it]INFO:EOS:Prerun 3 out of 10\n",
      "INFO:EOS:Prerun 3: acceptance rate is  19%\n",
      "Pre-runs:  40%|████      | 4/10 [06:03<10:13, 102.20s/it]INFO:EOS:Prerun 4 out of 10\n",
      "INFO:EOS:Prerun 4: acceptance rate is  26%\n",
      "Pre-runs:  50%|█████     | 5/10 [08:01<08:59, 107.89s/it]INFO:EOS:Prerun 5 out of 10\n",
      "INFO:EOS:Prerun 5: acceptance rate is  33%\n",
      "Pre-runs:  60%|██████    | 6/10 [10:05<07:33, 113.31s/it]INFO:EOS:Prerun 6 out of 10\n",
      "INFO:EOS:Prerun 6: acceptance rate is  40%\n",
      "Pre-runs:  70%|███████   | 7/10 [12:09<05:50, 116.75s/it]INFO:EOS:Prerun 7 out of 10\n",
      "INFO:EOS:Prerun 7: acceptance rate is  36%\n",
      "Pre-runs:  80%|████████  | 8/10 [14:13<03:58, 119.01s/it]INFO:EOS:Prerun 8 out of 10\n",
      "INFO:EOS:Prerun 8: acceptance rate is  27%\n",
      "Pre-runs:  90%|█████████ | 9/10 [16:16<02:00, 120.49s/it]INFO:EOS:Prerun 9 out of 10\n",
      "INFO:EOS:Prerun 9: acceptance rate is  32%\n",
      "INFO:EOS:Main run: started ...                            \n",
      "INFO:EOS:Main run: acceptance rate is  32%                 \n"
     ]
    },
    {
     "name": "stdout",
     "output_type": "stream",
     "text": [
      "Chain :  5\n"
     ]
    },
    {
     "name": "stderr",
     "output_type": "stream",
     "text": [
      "Pre-runs:   0%|          | 0/10 [00:00<?, ?it/s]INFO:EOS:Prerun 0 out of 10\n",
      "INFO:EOS:Prerun 0: acceptance rate is   1%\n",
      "Pre-runs:  10%|█         | 1/10 [00:44<06:38, 44.27s/it]INFO:EOS:Prerun 1 out of 10\n",
      "INFO:EOS:Prerun 1: acceptance rate is   1%\n",
      "Pre-runs:  20%|██        | 2/10 [02:25<10:23, 77.92s/it]INFO:EOS:Prerun 2 out of 10\n",
      "INFO:EOS:Prerun 2: acceptance rate is   2%\n",
      "Pre-runs:  30%|███       | 3/10 [04:28<11:30, 98.58s/it]INFO:EOS:Prerun 3 out of 10\n",
      "INFO:EOS:Prerun 3: acceptance rate is   7%\n",
      "Pre-runs:  40%|████      | 4/10 [06:32<10:51, 108.53s/it]INFO:EOS:Prerun 4 out of 10\n",
      "INFO:EOS:Prerun 4: acceptance rate is  22%\n",
      "Pre-runs:  50%|█████     | 5/10 [08:36<09:30, 114.05s/it]INFO:EOS:Prerun 5 out of 10\n",
      "INFO:EOS:Prerun 5: acceptance rate is  31%\n",
      "Pre-runs:  60%|██████    | 6/10 [10:40<07:49, 117.36s/it]INFO:EOS:Prerun 6 out of 10\n",
      "INFO:EOS:Prerun 6: acceptance rate is  42%\n",
      "Pre-runs:  70%|███████   | 7/10 [12:44<05:58, 119.46s/it]INFO:EOS:Prerun 7 out of 10\n",
      "INFO:EOS:Prerun 7: acceptance rate is  39%\n",
      "Pre-runs:  80%|████████  | 8/10 [14:47<04:01, 120.84s/it]INFO:EOS:Prerun 8 out of 10\n",
      "INFO:EOS:Prerun 8: acceptance rate is  34%\n",
      "Pre-runs:  90%|█████████ | 9/10 [16:51<02:01, 121.77s/it]INFO:EOS:Prerun 9 out of 10\n",
      "INFO:EOS:Prerun 9: acceptance rate is  39%\n",
      "INFO:EOS:Main run: started ...                            \n",
      "INFO:EOS:Main run: acceptance rate is  38%                 \n"
     ]
    },
    {
     "name": "stdout",
     "output_type": "stream",
     "text": [
      "Chain :  6\n"
     ]
    },
    {
     "name": "stderr",
     "output_type": "stream",
     "text": [
      "Pre-runs:   0%|          | 0/10 [00:00<?, ?it/s]INFO:EOS:Prerun 0 out of 10\n",
      "INFO:EOS:Prerun 0: acceptance rate is   1%\n",
      "Pre-runs:  10%|█         | 1/10 [01:09<10:24, 69.42s/it]INFO:EOS:Prerun 1 out of 10\n"
     ]
    },
    {
     "name": "stdout",
     "output_type": "stream",
     "text": [
      "WARNING: Markov chain self adaptation failed; trying diagonalization ... success\n"
     ]
    },
    {
     "name": "stderr",
     "output_type": "stream",
     "text": [
      "INFO:EOS:Prerun 1: acceptance rate is   1%\n",
      "Pre-runs:  20%|██        | 2/10 [03:08<13:09, 98.73s/it]INFO:EOS:Prerun 2 out of 10\n",
      "INFO:EOS:Prerun 2: acceptance rate is   2%\n",
      "Pre-runs:  30%|███       | 3/10 [05:12<12:51, 110.19s/it]INFO:EOS:Prerun 3 out of 10\n",
      "INFO:EOS:Prerun 3: acceptance rate is  16%\n",
      "Pre-runs:  40%|████      | 4/10 [07:16<11:33, 115.56s/it]INFO:EOS:Prerun 4 out of 10\n",
      "INFO:EOS:Prerun 4: acceptance rate is  26%\n",
      "Pre-runs:  50%|█████     | 5/10 [09:20<09:52, 118.55s/it]INFO:EOS:Prerun 5 out of 10\n",
      "INFO:EOS:Prerun 5: acceptance rate is  33%\n",
      "Pre-runs:  60%|██████    | 6/10 [11:23<08:01, 120.36s/it]INFO:EOS:Prerun 6 out of 10\n",
      "INFO:EOS:Prerun 6: acceptance rate is  36%\n",
      "Pre-runs:  70%|███████   | 7/10 [13:27<06:04, 121.49s/it]INFO:EOS:Prerun 7 out of 10\n",
      "INFO:EOS:Prerun 7: acceptance rate is  33%\n",
      "Pre-runs:  80%|████████  | 8/10 [15:31<04:04, 122.23s/it]INFO:EOS:Prerun 8 out of 10\n",
      "INFO:EOS:Prerun 8: acceptance rate is  35%\n",
      "Pre-runs:  90%|█████████ | 9/10 [17:35<02:02, 122.74s/it]INFO:EOS:Prerun 9 out of 10\n",
      "INFO:EOS:Prerun 9: acceptance rate is  36%\n",
      "INFO:EOS:Main run: started ...                            \n",
      "INFO:EOS:Main run: acceptance rate is  29%                 \n"
     ]
    },
    {
     "name": "stdout",
     "output_type": "stream",
     "text": [
      "Chain :  7\n"
     ]
    },
    {
     "name": "stderr",
     "output_type": "stream",
     "text": [
      "Pre-runs:   0%|          | 0/10 [00:00<?, ?it/s]INFO:EOS:Prerun 0 out of 10\n",
      "INFO:EOS:Prerun 0: acceptance rate is   1%\n",
      "Pre-runs:  10%|█         | 1/10 [01:10<10:32, 70.28s/it]INFO:EOS:Prerun 1 out of 10\n"
     ]
    },
    {
     "name": "stdout",
     "output_type": "stream",
     "text": [
      "WARNING: Markov chain self adaptation failed; trying diagonalization ... success\n"
     ]
    },
    {
     "name": "stderr",
     "output_type": "stream",
     "text": [
      "INFO:EOS:Prerun 1: acceptance rate is   0%\n",
      "Pre-runs:  20%|██        | 2/10 [03:07<13:02, 97.84s/it]INFO:EOS:Prerun 2 out of 10\n",
      "INFO:EOS:Prerun 2: acceptance rate is   4%\n",
      "Pre-runs:  30%|███       | 3/10 [05:11<12:48, 109.73s/it]INFO:EOS:Prerun 3 out of 10\n",
      "INFO:EOS:Prerun 3: acceptance rate is  12%\n",
      "Pre-runs:  40%|████      | 4/10 [07:15<11:31, 115.29s/it]INFO:EOS:Prerun 4 out of 10\n",
      "INFO:EOS:Prerun 4: acceptance rate is  29%\n",
      "Pre-runs:  50%|█████     | 5/10 [09:18<09:51, 118.37s/it]INFO:EOS:Prerun 5 out of 10\n",
      "INFO:EOS:Prerun 5: acceptance rate is  41%\n",
      "Pre-runs:  60%|██████    | 6/10 [11:22<08:00, 120.22s/it]INFO:EOS:Prerun 6 out of 10\n",
      "INFO:EOS:Prerun 6: acceptance rate is  38%\n",
      "Pre-runs:  70%|███████   | 7/10 [13:26<06:04, 121.40s/it]INFO:EOS:Prerun 7 out of 10\n",
      "INFO:EOS:Prerun 7: acceptance rate is  37%\n",
      "Pre-runs:  80%|████████  | 8/10 [15:30<04:04, 122.16s/it]INFO:EOS:Prerun 8 out of 10\n",
      "INFO:EOS:Prerun 8: acceptance rate is  29%\n",
      "Pre-runs:  90%|█████████ | 9/10 [17:34<02:02, 122.68s/it]INFO:EOS:Prerun 9 out of 10\n",
      "INFO:EOS:Prerun 9: acceptance rate is  26%\n",
      "INFO:EOS:Main run: started ...                            \n",
      "INFO:EOS:Main run: acceptance rate is  29%                 \n"
     ]
    },
    {
     "name": "stdout",
     "output_type": "stream",
     "text": [
      "Chain :  8\n"
     ]
    },
    {
     "name": "stderr",
     "output_type": "stream",
     "text": [
      "Pre-runs:   0%|          | 0/10 [00:00<?, ?it/s]INFO:EOS:Prerun 0 out of 10\n",
      "INFO:EOS:Prerun 0: acceptance rate is   1%\n",
      "Pre-runs:  10%|█         | 1/10 [00:45<06:51, 45.74s/it]INFO:EOS:Prerun 1 out of 10\n"
     ]
    },
    {
     "name": "stdout",
     "output_type": "stream",
     "text": [
      "WARNING: Markov chain self adaptation failed; trying diagonalization ... success\n"
     ]
    },
    {
     "name": "stderr",
     "output_type": "stream",
     "text": [
      "INFO:EOS:Prerun 1: acceptance rate is   0%\n",
      "Pre-runs:  20%|██        | 2/10 [02:41<11:36, 87.05s/it]INFO:EOS:Prerun 2 out of 10\n",
      "INFO:EOS:Prerun 2: acceptance rate is   2%\n",
      "Pre-runs:  30%|███       | 3/10 [04:44<12:04, 103.51s/it]INFO:EOS:Prerun 3 out of 10\n",
      "INFO:EOS:Prerun 3: acceptance rate is  10%\n",
      "Pre-runs:  40%|████      | 4/10 [06:48<11:09, 111.52s/it]INFO:EOS:Prerun 4 out of 10\n",
      "INFO:EOS:Prerun 4: acceptance rate is  28%\n",
      "Pre-runs:  50%|█████     | 5/10 [08:52<09:39, 115.96s/it]INFO:EOS:Prerun 5 out of 10\n",
      "INFO:EOS:Prerun 5: acceptance rate is  37%\n",
      "Pre-runs:  60%|██████    | 6/10 [10:56<07:54, 118.63s/it]INFO:EOS:Prerun 6 out of 10\n",
      "INFO:EOS:Prerun 6: acceptance rate is  39%\n",
      "Pre-runs:  70%|███████   | 7/10 [13:00<06:01, 120.33s/it]INFO:EOS:Prerun 7 out of 10\n",
      "INFO:EOS:Prerun 7: acceptance rate is  31%\n",
      "Pre-runs:  80%|████████  | 8/10 [15:03<04:02, 121.45s/it]INFO:EOS:Prerun 8 out of 10\n",
      "INFO:EOS:Prerun 8: acceptance rate is  34%\n",
      "Pre-runs:  90%|█████████ | 9/10 [17:07<02:02, 122.19s/it]INFO:EOS:Prerun 9 out of 10\n",
      "INFO:EOS:Prerun 9: acceptance rate is  38%\n",
      "INFO:EOS:Main run: started ...                            \n",
      "INFO:EOS:Main run: acceptance rate is  31%                 \n"
     ]
    },
    {
     "name": "stdout",
     "output_type": "stream",
     "text": [
      "Chain :  9\n"
     ]
    },
    {
     "name": "stderr",
     "output_type": "stream",
     "text": [
      "Pre-runs:   0%|          | 0/10 [00:00<?, ?it/s]INFO:EOS:Prerun 0 out of 10\n",
      "INFO:EOS:Prerun 0: acceptance rate is   1%\n",
      "Pre-runs:  10%|█         | 1/10 [01:31<13:39, 91.04s/it]INFO:EOS:Prerun 1 out of 10\n",
      "INFO:EOS:Prerun 1: acceptance rate is   1%\n",
      "Pre-runs:  20%|██        | 2/10 [03:34<14:42, 110.33s/it]INFO:EOS:Prerun 2 out of 10\n",
      "INFO:EOS:Prerun 2: acceptance rate is   4%\n",
      "Pre-runs:  30%|███       | 3/10 [05:38<13:35, 116.51s/it]INFO:EOS:Prerun 3 out of 10\n",
      "INFO:EOS:Prerun 3: acceptance rate is  13%\n",
      "Pre-runs:  40%|████      | 4/10 [07:42<11:56, 119.40s/it]INFO:EOS:Prerun 4 out of 10\n",
      "INFO:EOS:Prerun 4: acceptance rate is  28%\n",
      "Pre-runs:  50%|█████     | 5/10 [09:46<10:04, 121.00s/it]INFO:EOS:Prerun 5 out of 10\n",
      "INFO:EOS:Prerun 5: acceptance rate is  34%\n",
      "Pre-runs:  60%|██████    | 6/10 [11:50<08:07, 121.97s/it]INFO:EOS:Prerun 6 out of 10\n",
      "INFO:EOS:Prerun 6: acceptance rate is  43%\n",
      "Pre-runs:  70%|███████   | 7/10 [13:54<06:07, 122.57s/it]INFO:EOS:Prerun 7 out of 10\n",
      "INFO:EOS:Prerun 7: acceptance rate is  40%\n",
      "Pre-runs:  80%|████████  | 8/10 [15:57<04:05, 122.97s/it]INFO:EOS:Prerun 8 out of 10\n",
      "INFO:EOS:Prerun 8: acceptance rate is  34%\n",
      "Pre-runs:  90%|█████████ | 9/10 [18:01<02:03, 123.24s/it]INFO:EOS:Prerun 9 out of 10\n",
      "INFO:EOS:Prerun 9: acceptance rate is  41%\n",
      "INFO:EOS:Main run: started ...                            \n",
      "INFO:EOS:Main run: acceptance rate is  36%                 \n"
     ]
    },
    {
     "name": "stdout",
     "output_type": "stream",
     "text": [
      "Chain :  10\n"
     ]
    },
    {
     "name": "stderr",
     "output_type": "stream",
     "text": [
      "Pre-runs:   0%|          | 0/10 [00:00<?, ?it/s]INFO:EOS:Prerun 0 out of 10\n",
      "INFO:EOS:Prerun 0: acceptance rate is   1%\n",
      "Pre-runs:  10%|█         | 1/10 [00:36<05:31, 36.84s/it]INFO:EOS:Prerun 1 out of 10\n"
     ]
    },
    {
     "name": "stdout",
     "output_type": "stream",
     "text": [
      "WARNING: Markov chain self adaptation failed; trying diagonalization ... success\n"
     ]
    },
    {
     "name": "stderr",
     "output_type": "stream",
     "text": [
      "INFO:EOS:Prerun 1: acceptance rate is   1%\n",
      "Pre-runs:  20%|██        | 2/10 [02:21<10:13, 76.64s/it]INFO:EOS:Prerun 2 out of 10\n",
      "INFO:EOS:Prerun 2: acceptance rate is   1%\n",
      "Pre-runs:  30%|███       | 3/10 [04:25<11:27, 98.18s/it]INFO:EOS:Prerun 3 out of 10\n",
      "INFO:EOS:Prerun 3: acceptance rate is   6%\n",
      "Pre-runs:  40%|████      | 4/10 [06:28<10:49, 108.30s/it]INFO:EOS:Prerun 4 out of 10\n",
      "INFO:EOS:Prerun 4: acceptance rate is  23%\n",
      "Pre-runs:  50%|█████     | 5/10 [08:32<09:29, 113.95s/it]INFO:EOS:Prerun 5 out of 10\n",
      "INFO:EOS:Prerun 5: acceptance rate is  35%\n",
      "Pre-runs:  60%|██████    | 6/10 [10:36<07:49, 117.31s/it]INFO:EOS:Prerun 6 out of 10\n",
      "INFO:EOS:Prerun 6: acceptance rate is  40%\n",
      "Pre-runs:  70%|███████   | 7/10 [12:40<05:58, 119.43s/it]INFO:EOS:Prerun 7 out of 10\n",
      "INFO:EOS:Prerun 7: acceptance rate is  38%\n",
      "Pre-runs:  80%|████████  | 8/10 [14:44<04:01, 120.86s/it]INFO:EOS:Prerun 8 out of 10\n",
      "INFO:EOS:Prerun 8: acceptance rate is  35%\n",
      "Pre-runs:  90%|█████████ | 9/10 [16:48<02:01, 121.78s/it]INFO:EOS:Prerun 9 out of 10\n",
      "INFO:EOS:Prerun 9: acceptance rate is  37%\n",
      "INFO:EOS:Main run: started ...                            \n",
      "INFO:EOS:Main run: acceptance rate is  30%                 \n"
     ]
    },
    {
     "name": "stdout",
     "output_type": "stream",
     "text": [
      "Chain :  11\n"
     ]
    },
    {
     "name": "stderr",
     "output_type": "stream",
     "text": [
      "Pre-runs:   0%|          | 0/10 [00:00<?, ?it/s]INFO:EOS:Prerun 0 out of 10\n",
      "INFO:EOS:Prerun 0: acceptance rate is   1%\n",
      "Pre-runs:  10%|█         | 1/10 [00:30<04:35, 30.56s/it]INFO:EOS:Prerun 1 out of 10\n"
     ]
    },
    {
     "name": "stdout",
     "output_type": "stream",
     "text": [
      "WARNING: Markov chain self adaptation failed; trying diagonalization ... success\n"
     ]
    },
    {
     "name": "stderr",
     "output_type": "stream",
     "text": [
      "INFO:EOS:Prerun 1: acceptance rate is   1%\n",
      "Pre-runs:  20%|██        | 2/10 [02:18<10:06, 75.87s/it]INFO:EOS:Prerun 2 out of 10\n",
      "INFO:EOS:Prerun 2: acceptance rate is   3%\n",
      "Pre-runs:  30%|███       | 3/10 [04:21<11:24, 97.76s/it]INFO:EOS:Prerun 3 out of 10\n",
      "INFO:EOS:Prerun 3: acceptance rate is  18%\n",
      "Pre-runs:  40%|████      | 4/10 [06:25<10:48, 108.04s/it]INFO:EOS:Prerun 4 out of 10\n",
      "INFO:EOS:Prerun 4: acceptance rate is  30%\n",
      "Pre-runs:  50%|█████     | 5/10 [08:29<09:28, 113.74s/it]INFO:EOS:Prerun 5 out of 10\n",
      "INFO:EOS:Prerun 5: acceptance rate is  39%\n",
      "Pre-runs:  60%|██████    | 6/10 [10:33<07:48, 117.14s/it]INFO:EOS:Prerun 6 out of 10\n",
      "INFO:EOS:Prerun 6: acceptance rate is  34%\n",
      "Pre-runs:  70%|███████   | 7/10 [12:37<05:57, 119.33s/it]INFO:EOS:Prerun 7 out of 10\n",
      "INFO:EOS:Prerun 7: acceptance rate is  35%\n",
      "Pre-runs:  80%|████████  | 8/10 [14:41<04:01, 120.77s/it]INFO:EOS:Prerun 8 out of 10\n",
      "INFO:EOS:Prerun 8: acceptance rate is  37%\n",
      "Pre-runs:  90%|█████████ | 9/10 [16:44<02:01, 121.71s/it]INFO:EOS:Prerun 9 out of 10\n",
      "INFO:EOS:Prerun 9: acceptance rate is  27%\n",
      "INFO:EOS:Main run: started ...                            \n",
      "INFO:EOS:Main run: acceptance rate is  30%                 \n"
     ]
    },
    {
     "name": "stdout",
     "output_type": "stream",
     "text": [
      "Chain :  12\n"
     ]
    },
    {
     "name": "stderr",
     "output_type": "stream",
     "text": [
      "Pre-runs:   0%|          | 0/10 [00:00<?, ?it/s]INFO:EOS:Prerun 0 out of 10\n",
      "INFO:EOS:Prerun 0: acceptance rate is   1%\n",
      "Pre-runs:  10%|█         | 1/10 [00:44<06:42, 44.68s/it]INFO:EOS:Prerun 1 out of 10\n",
      "INFO:EOS:Prerun 1: acceptance rate is   1%\n",
      "Pre-runs:  20%|██        | 2/10 [02:37<11:16, 84.59s/it]INFO:EOS:Prerun 2 out of 10\n",
      "INFO:EOS:Prerun 2: acceptance rate is   1%\n",
      "Pre-runs:  30%|███       | 3/10 [04:41<11:58, 102.59s/it]INFO:EOS:Prerun 3 out of 10\n",
      "INFO:EOS:Prerun 3: acceptance rate is   6%\n",
      "Pre-runs:  40%|████      | 4/10 [06:45<11:05, 110.97s/it]INFO:EOS:Prerun 4 out of 10\n",
      "INFO:EOS:Prerun 4: acceptance rate is  13%\n",
      "Pre-runs:  50%|█████     | 5/10 [08:48<09:38, 115.61s/it]INFO:EOS:Prerun 5 out of 10\n",
      "INFO:EOS:Prerun 5: acceptance rate is  27%\n",
      "Pre-runs:  60%|██████    | 6/10 [10:52<07:53, 118.41s/it]INFO:EOS:Prerun 6 out of 10\n",
      "INFO:EOS:Prerun 6: acceptance rate is  34%\n",
      "Pre-runs:  70%|███████   | 7/10 [12:56<06:00, 120.18s/it]INFO:EOS:Prerun 7 out of 10\n",
      "INFO:EOS:Prerun 7: acceptance rate is  41%\n",
      "Pre-runs:  80%|████████  | 8/10 [15:00<04:02, 121.34s/it]INFO:EOS:Prerun 8 out of 10\n",
      "INFO:EOS:Prerun 8: acceptance rate is  40%\n",
      "Pre-runs:  90%|█████████ | 9/10 [17:04<02:02, 122.12s/it]INFO:EOS:Prerun 9 out of 10\n",
      "INFO:EOS:Prerun 9: acceptance rate is  39%\n",
      "INFO:EOS:Main run: started ...                            \n",
      "INFO:EOS:Main run: acceptance rate is  38%                 \n"
     ]
    },
    {
     "name": "stdout",
     "output_type": "stream",
     "text": [
      "Chain :  13\n"
     ]
    },
    {
     "name": "stderr",
     "output_type": "stream",
     "text": [
      "Pre-runs:   0%|          | 0/10 [00:00<?, ?it/s]INFO:EOS:Prerun 0 out of 10\n",
      "INFO:EOS:Prerun 0: acceptance rate is   1%\n",
      "Pre-runs:  10%|█         | 1/10 [01:10<10:36, 70.75s/it]INFO:EOS:Prerun 1 out of 10\n"
     ]
    },
    {
     "name": "stdout",
     "output_type": "stream",
     "text": [
      "WARNING: Markov chain self adaptation failed; trying diagonalization ... success\n"
     ]
    },
    {
     "name": "stderr",
     "output_type": "stream",
     "text": [
      "INFO:EOS:Prerun 1: acceptance rate is   1%\n",
      "Pre-runs:  20%|██        | 2/10 [03:14<13:33, 101.68s/it]INFO:EOS:Prerun 2 out of 10\n",
      "INFO:EOS:Prerun 2: acceptance rate is   4%\n",
      "Pre-runs:  30%|███       | 3/10 [05:17<13:02, 111.76s/it]INFO:EOS:Prerun 3 out of 10\n",
      "INFO:EOS:Prerun 3: acceptance rate is  17%\n",
      "Pre-runs:  40%|████      | 4/10 [07:21<11:39, 116.51s/it]INFO:EOS:Prerun 4 out of 10\n",
      "INFO:EOS:Prerun 4: acceptance rate is  27%\n",
      "Pre-runs:  50%|█████     | 5/10 [09:25<09:55, 119.15s/it]INFO:EOS:Prerun 5 out of 10\n",
      "INFO:EOS:Prerun 5: acceptance rate is  36%\n",
      "Pre-runs:  60%|██████    | 6/10 [11:29<08:02, 120.71s/it]INFO:EOS:Prerun 6 out of 10\n",
      "INFO:EOS:Prerun 6: acceptance rate is  33%\n",
      "Pre-runs:  70%|███████   | 7/10 [13:32<06:05, 121.71s/it]INFO:EOS:Prerun 7 out of 10\n",
      "INFO:EOS:Prerun 7: acceptance rate is  32%\n",
      "Pre-runs:  80%|████████  | 8/10 [15:36<04:04, 122.42s/it]INFO:EOS:Prerun 8 out of 10\n",
      "INFO:EOS:Prerun 8: acceptance rate is  36%\n",
      "Pre-runs:  90%|█████████ | 9/10 [17:40<02:02, 122.83s/it]INFO:EOS:Prerun 9 out of 10\n",
      "INFO:EOS:Prerun 9: acceptance rate is  27%\n",
      "INFO:EOS:Main run: started ...                            \n",
      "INFO:EOS:Main run: acceptance rate is  30%                 \n"
     ]
    },
    {
     "name": "stdout",
     "output_type": "stream",
     "text": [
      "Chain :  14\n"
     ]
    },
    {
     "name": "stderr",
     "output_type": "stream",
     "text": [
      "Pre-runs:   0%|          | 0/10 [00:00<?, ?it/s]INFO:EOS:Prerun 0 out of 10\n",
      "INFO:EOS:Prerun 0: acceptance rate is   0%\n",
      "Pre-runs:  10%|█         | 1/10 [00:35<05:19, 35.48s/it]INFO:EOS:Prerun 1 out of 10\n"
     ]
    },
    {
     "name": "stdout",
     "output_type": "stream",
     "text": [
      "WARNING: Markov chain self adaptation failed; trying diagonalization ... success\n"
     ]
    },
    {
     "name": "stderr",
     "output_type": "stream",
     "text": [
      "INFO:EOS:Prerun 1: acceptance rate is   1%\n",
      "Pre-runs:  20%|██        | 2/10 [02:23<10:26, 78.34s/it]INFO:EOS:Prerun 2 out of 10\n",
      "INFO:EOS:Prerun 2: acceptance rate is   2%\n",
      "Pre-runs:  30%|███       | 3/10 [04:27<11:33, 99.07s/it]INFO:EOS:Prerun 3 out of 10\n",
      "INFO:EOS:Prerun 3: acceptance rate is   7%\n",
      "Pre-runs:  40%|████      | 4/10 [06:31<10:53, 108.86s/it]INFO:EOS:Prerun 4 out of 10\n",
      "INFO:EOS:Prerun 4: acceptance rate is  23%\n",
      "Pre-runs:  50%|█████     | 5/10 [08:35<09:31, 114.23s/it]INFO:EOS:Prerun 5 out of 10\n",
      "INFO:EOS:Prerun 5: acceptance rate is  35%\n",
      "Pre-runs:  60%|██████    | 6/10 [10:38<07:49, 117.47s/it]INFO:EOS:Prerun 6 out of 10\n",
      "INFO:EOS:Prerun 6: acceptance rate is  36%\n",
      "Pre-runs:  70%|███████   | 7/10 [12:42<05:58, 119.55s/it]INFO:EOS:Prerun 7 out of 10\n",
      "INFO:EOS:Prerun 7: acceptance rate is  31%\n",
      "Pre-runs:  80%|████████  | 8/10 [14:46<04:01, 120.91s/it]INFO:EOS:Prerun 8 out of 10\n",
      "INFO:EOS:Prerun 8: acceptance rate is  31%\n",
      "Pre-runs:  90%|█████████ | 9/10 [16:50<02:01, 121.80s/it]INFO:EOS:Prerun 9 out of 10\n",
      "INFO:EOS:Prerun 9: acceptance rate is  36%\n",
      "INFO:EOS:Main run: started ...                            \n",
      "INFO:EOS:Main run: acceptance rate is  29%                 \n"
     ]
    },
    {
     "name": "stdout",
     "output_type": "stream",
     "text": [
      "Chain :  15\n"
     ]
    },
    {
     "name": "stderr",
     "output_type": "stream",
     "text": [
      "Pre-runs:   0%|          | 0/10 [00:00<?, ?it/s]INFO:EOS:Prerun 0 out of 10\n",
      "INFO:EOS:Prerun 0: acceptance rate is   1%\n",
      "Pre-runs:  10%|█         | 1/10 [00:58<08:50, 58.97s/it]INFO:EOS:Prerun 1 out of 10\n"
     ]
    },
    {
     "name": "stdout",
     "output_type": "stream",
     "text": [
      "WARNING: Markov chain self adaptation failed; trying diagonalization ... success\n"
     ]
    },
    {
     "name": "stderr",
     "output_type": "stream",
     "text": [
      "INFO:EOS:Prerun 1: acceptance rate is   0%\n",
      "Pre-runs:  20%|██        | 2/10 [03:00<12:45, 95.63s/it]INFO:EOS:Prerun 2 out of 10\n",
      "INFO:EOS:Prerun 2: acceptance rate is   3%\n",
      "Pre-runs:  30%|███       | 3/10 [05:04<12:40, 108.65s/it]INFO:EOS:Prerun 3 out of 10\n",
      "INFO:EOS:Prerun 3: acceptance rate is  17%\n",
      "Pre-runs:  40%|████      | 4/10 [07:08<11:28, 114.83s/it]INFO:EOS:Prerun 4 out of 10\n",
      "INFO:EOS:Prerun 4: acceptance rate is  31%\n",
      "Pre-runs:  50%|█████     | 5/10 [09:13<09:51, 118.26s/it]INFO:EOS:Prerun 5 out of 10\n",
      "INFO:EOS:Prerun 5: acceptance rate is  42%\n",
      "Pre-runs:  60%|██████    | 6/10 [11:17<08:01, 120.35s/it]INFO:EOS:Prerun 6 out of 10\n",
      "INFO:EOS:Prerun 6: acceptance rate is  38%\n",
      "Pre-runs:  70%|███████   | 7/10 [13:21<06:05, 121.70s/it]INFO:EOS:Prerun 7 out of 10\n",
      "INFO:EOS:Prerun 7: acceptance rate is  28%\n",
      "Pre-runs:  80%|████████  | 8/10 [15:26<04:05, 122.56s/it]INFO:EOS:Prerun 8 out of 10\n",
      "INFO:EOS:Prerun 8: acceptance rate is  34%\n",
      "Pre-runs:  90%|█████████ | 9/10 [17:37<02:05, 125.23s/it]INFO:EOS:Prerun 9 out of 10\n",
      "INFO:EOS:Prerun 9: acceptance rate is  34%\n",
      "INFO:EOS:Main run: started ...                            \n",
      "INFO:EOS:Main run: acceptance rate is  35%                 \n"
     ]
    },
    {
     "name": "stdout",
     "output_type": "stream",
     "text": [
      "Chain :  16\n"
     ]
    },
    {
     "name": "stderr",
     "output_type": "stream",
     "text": [
      "Pre-runs:   0%|          | 0/10 [00:00<?, ?it/s]INFO:EOS:Prerun 0 out of 10\n",
      "INFO:EOS:Prerun 0: acceptance rate is   0%\n",
      "Pre-runs:  10%|█         | 1/10 [00:41<06:12, 41.38s/it]INFO:EOS:Prerun 1 out of 10\n"
     ]
    },
    {
     "name": "stdout",
     "output_type": "stream",
     "text": [
      "WARNING: Markov chain self adaptation failed; trying diagonalization ... success\n"
     ]
    },
    {
     "name": "stderr",
     "output_type": "stream",
     "text": [
      "INFO:EOS:Prerun 1: acceptance rate is   1%\n",
      "Pre-runs:  20%|██        | 2/10 [02:43<11:52, 89.06s/it]INFO:EOS:Prerun 2 out of 10\n",
      "INFO:EOS:Prerun 2: acceptance rate is   8%\n",
      "Pre-runs:  30%|███       | 3/10 [04:48<12:15, 105.10s/it]INFO:EOS:Prerun 3 out of 10\n",
      "INFO:EOS:Prerun 3: acceptance rate is  23%\n",
      "Pre-runs:  40%|████      | 4/10 [06:52<11:15, 112.62s/it]INFO:EOS:Prerun 4 out of 10\n",
      "INFO:EOS:Prerun 4: acceptance rate is  35%\n",
      "Pre-runs:  50%|█████     | 5/10 [08:56<09:43, 116.77s/it]INFO:EOS:Prerun 5 out of 10\n",
      "INFO:EOS:Prerun 5: acceptance rate is  40%\n",
      "Pre-runs:  60%|██████    | 6/10 [11:00<07:57, 119.29s/it]INFO:EOS:Prerun 6 out of 10\n",
      "INFO:EOS:Prerun 6: acceptance rate is  34%\n",
      "Pre-runs:  70%|███████   | 7/10 [13:04<06:02, 120.92s/it]INFO:EOS:Prerun 7 out of 10\n",
      "INFO:EOS:Prerun 7: acceptance rate is  36%\n",
      "Pre-runs:  80%|████████  | 8/10 [15:08<04:03, 121.95s/it]INFO:EOS:Prerun 8 out of 10\n",
      "INFO:EOS:Prerun 8: acceptance rate is  30%\n",
      "Pre-runs:  90%|█████████ | 9/10 [17:13<02:02, 122.64s/it]INFO:EOS:Prerun 9 out of 10\n",
      "INFO:EOS:Prerun 9: acceptance rate is  30%\n",
      "INFO:EOS:Main run: started ...                            \n",
      "INFO:EOS:Main run: acceptance rate is  30%                 \n"
     ]
    },
    {
     "name": "stdout",
     "output_type": "stream",
     "text": [
      "Chain :  17\n"
     ]
    },
    {
     "name": "stderr",
     "output_type": "stream",
     "text": [
      "Pre-runs:   0%|          | 0/10 [00:00<?, ?it/s]INFO:EOS:Prerun 0 out of 10\n",
      "INFO:EOS:Prerun 0: acceptance rate is   1%\n",
      "Pre-runs:  10%|█         | 1/10 [01:15<11:17, 75.28s/it]INFO:EOS:Prerun 1 out of 10\n",
      "INFO:EOS:Prerun 1: acceptance rate is   1%\n",
      "Pre-runs:  20%|██        | 2/10 [03:19<13:53, 104.16s/it]INFO:EOS:Prerun 2 out of 10\n",
      "INFO:EOS:Prerun 2: acceptance rate is   0%\n",
      "Pre-runs:  30%|███       | 3/10 [05:23<13:13, 113.29s/it]INFO:EOS:Prerun 3 out of 10\n",
      "INFO:EOS:Prerun 3: acceptance rate is   7%\n",
      "Pre-runs:  40%|████      | 4/10 [07:28<11:45, 117.60s/it]INFO:EOS:Prerun 4 out of 10\n",
      "INFO:EOS:Prerun 4: acceptance rate is  20%\n",
      "Pre-runs:  50%|█████     | 5/10 [09:32<10:00, 120.00s/it]INFO:EOS:Prerun 5 out of 10\n",
      "INFO:EOS:Prerun 5: acceptance rate is  30%\n",
      "Pre-runs:  60%|██████    | 6/10 [11:36<08:05, 121.43s/it]INFO:EOS:Prerun 6 out of 10\n",
      "INFO:EOS:Prerun 6: acceptance rate is  39%\n",
      "Pre-runs:  70%|███████   | 7/10 [13:40<06:06, 122.33s/it]INFO:EOS:Prerun 7 out of 10\n",
      "INFO:EOS:Prerun 7: acceptance rate is  33%\n",
      "Pre-runs:  80%|████████  | 8/10 [15:44<04:05, 122.91s/it]INFO:EOS:Prerun 8 out of 10\n",
      "INFO:EOS:Prerun 8: acceptance rate is  40%\n",
      "Pre-runs:  90%|█████████ | 9/10 [17:49<02:03, 123.33s/it]INFO:EOS:Prerun 9 out of 10\n",
      "INFO:EOS:Prerun 9: acceptance rate is  33%\n",
      "INFO:EOS:Main run: started ...                            \n",
      "INFO:EOS:Main run: acceptance rate is  39%                 \n"
     ]
    },
    {
     "name": "stdout",
     "output_type": "stream",
     "text": [
      "Chain :  18\n"
     ]
    },
    {
     "name": "stderr",
     "output_type": "stream",
     "text": [
      "Pre-runs:   0%|          | 0/10 [00:00<?, ?it/s]INFO:EOS:Prerun 0 out of 10\n",
      "INFO:EOS:Prerun 0: acceptance rate is   0%\n",
      "Pre-runs:  10%|█         | 1/10 [01:02<09:25, 62.88s/it]INFO:EOS:Prerun 1 out of 10\n"
     ]
    },
    {
     "name": "stdout",
     "output_type": "stream",
     "text": [
      "WARNING: Markov chain self adaptation failed; trying diagonalization ... success\n"
     ]
    },
    {
     "name": "stderr",
     "output_type": "stream",
     "text": [
      "INFO:EOS:Prerun 1: acceptance rate is   2%\n",
      "Pre-runs:  20%|██        | 2/10 [03:01<12:44, 95.52s/it]INFO:EOS:Prerun 2 out of 10\n",
      "INFO:EOS:Prerun 2: acceptance rate is   3%\n",
      "Pre-runs:  30%|███       | 3/10 [05:02<12:32, 107.49s/it]INFO:EOS:Prerun 3 out of 10\n",
      "INFO:EOS:Prerun 3: acceptance rate is   9%\n",
      "Pre-runs:  40%|████      | 4/10 [07:07<11:26, 114.35s/it]INFO:EOS:Prerun 4 out of 10\n",
      "INFO:EOS:Prerun 4: acceptance rate is  25%\n",
      "Pre-runs:  50%|█████     | 5/10 [09:12<09:49, 117.94s/it]INFO:EOS:Prerun 5 out of 10\n",
      "INFO:EOS:Prerun 5: acceptance rate is  36%\n",
      "Pre-runs:  60%|██████    | 6/10 [11:16<08:00, 120.07s/it]INFO:EOS:Prerun 6 out of 10\n",
      "INFO:EOS:Prerun 6: acceptance rate is  34%\n",
      "Pre-runs:  70%|███████   | 7/10 [13:22<06:05, 121.97s/it]INFO:EOS:Prerun 7 out of 10\n",
      "INFO:EOS:Prerun 7: acceptance rate is  41%\n",
      "Pre-runs:  80%|████████  | 8/10 [15:27<04:06, 123.11s/it]INFO:EOS:Prerun 8 out of 10\n",
      "INFO:EOS:Prerun 8: acceptance rate is  36%\n",
      "Pre-runs:  90%|█████████ | 9/10 [17:31<02:03, 123.44s/it]INFO:EOS:Prerun 9 out of 10\n",
      "INFO:EOS:Prerun 9: acceptance rate is  24%\n",
      "INFO:EOS:Main run: started ...                            \n",
      "INFO:EOS:Main run: acceptance rate is  29%                 \n"
     ]
    },
    {
     "name": "stdout",
     "output_type": "stream",
     "text": [
      "Chain :  19\n"
     ]
    },
    {
     "name": "stderr",
     "output_type": "stream",
     "text": [
      "Pre-runs:   0%|          | 0/10 [00:00<?, ?it/s]INFO:EOS:Prerun 0 out of 10\n",
      "INFO:EOS:Prerun 0: acceptance rate is   1%\n",
      "Pre-runs:  10%|█         | 1/10 [01:17<11:35, 77.29s/it]INFO:EOS:Prerun 1 out of 10\n"
     ]
    },
    {
     "name": "stdout",
     "output_type": "stream",
     "text": [
      "WARNING: Markov chain self adaptation failed; trying diagonalization ... success\n"
     ]
    },
    {
     "name": "stderr",
     "output_type": "stream",
     "text": [
      "INFO:EOS:Prerun 1: acceptance rate is   0%\n",
      "Pre-runs:  20%|██        | 2/10 [03:11<13:13, 99.19s/it]INFO:EOS:Prerun 2 out of 10\n",
      "INFO:EOS:Prerun 2: acceptance rate is   1%\n",
      "Pre-runs:  30%|███       | 3/10 [05:18<13:01, 111.65s/it]INFO:EOS:Prerun 3 out of 10\n",
      "INFO:EOS:Prerun 3: acceptance rate is   5%\n",
      "Pre-runs:  40%|████      | 4/10 [07:24<11:44, 117.49s/it]INFO:EOS:Prerun 4 out of 10\n",
      "INFO:EOS:Prerun 4: acceptance rate is  20%\n",
      "Pre-runs:  50%|█████     | 5/10 [09:31<10:04, 120.97s/it]INFO:EOS:Prerun 5 out of 10\n",
      "INFO:EOS:Prerun 5: acceptance rate is  32%\n",
      "Pre-runs:  60%|██████    | 6/10 [11:38<08:11, 122.81s/it]INFO:EOS:Prerun 6 out of 10\n",
      "INFO:EOS:Prerun 6: acceptance rate is  39%\n",
      "Pre-runs:  70%|███████   | 7/10 [13:44<06:11, 123.93s/it]INFO:EOS:Prerun 7 out of 10\n",
      "INFO:EOS:Prerun 7: acceptance rate is  32%\n",
      "Pre-runs:  80%|████████  | 8/10 [15:50<04:09, 124.60s/it]INFO:EOS:Prerun 8 out of 10\n",
      "INFO:EOS:Prerun 8: acceptance rate is  42%\n",
      "Pre-runs:  90%|█████████ | 9/10 [18:02<02:06, 126.81s/it]INFO:EOS:Prerun 9 out of 10\n",
      "INFO:EOS:Prerun 9: acceptance rate is  33%\n",
      "INFO:EOS:Main run: started ...                            \n",
      "INFO:EOS:Main run: acceptance rate is  41%                 \n"
     ]
    },
    {
     "name": "stdout",
     "output_type": "stream",
     "text": [
      "Chain :  20\n"
     ]
    },
    {
     "name": "stderr",
     "output_type": "stream",
     "text": [
      "Pre-runs:   0%|          | 0/10 [00:00<?, ?it/s]INFO:EOS:Prerun 0 out of 10\n",
      "INFO:EOS:Prerun 0: acceptance rate is   1%\n",
      "Pre-runs:  10%|█         | 1/10 [00:37<05:35, 37.33s/it]INFO:EOS:Prerun 1 out of 10\n"
     ]
    },
    {
     "name": "stdout",
     "output_type": "stream",
     "text": [
      "WARNING: Markov chain self adaptation failed; trying diagonalization ... success\n"
     ]
    },
    {
     "name": "stderr",
     "output_type": "stream",
     "text": [
      "INFO:EOS:Prerun 1: acceptance rate is   1%\n",
      "Pre-runs:  20%|██        | 2/10 [02:37<11:26, 85.87s/it]INFO:EOS:Prerun 2 out of 10\n",
      "INFO:EOS:Prerun 2: acceptance rate is   2%\n",
      "Pre-runs:  30%|███       | 3/10 [04:41<12:03, 103.30s/it]INFO:EOS:Prerun 3 out of 10\n",
      "INFO:EOS:Prerun 3: acceptance rate is   9%\n",
      "Pre-runs:  40%|████      | 4/10 [06:45<11:09, 111.55s/it]INFO:EOS:Prerun 4 out of 10\n",
      "INFO:EOS:Prerun 4: acceptance rate is  20%\n",
      "Pre-runs:  50%|█████     | 5/10 [08:49<09:40, 116.08s/it]INFO:EOS:Prerun 5 out of 10\n",
      "INFO:EOS:Prerun 5: acceptance rate is  38%\n",
      "Pre-runs:  60%|██████    | 6/10 [10:53<07:55, 118.77s/it]INFO:EOS:Prerun 6 out of 10\n",
      "INFO:EOS:Prerun 6: acceptance rate is  35%\n",
      "Pre-runs:  70%|███████   | 7/10 [12:57<06:01, 120.49s/it]INFO:EOS:Prerun 7 out of 10\n",
      "INFO:EOS:Prerun 7: acceptance rate is  31%\n",
      "Pre-runs:  80%|████████  | 8/10 [15:01<04:03, 121.64s/it]INFO:EOS:Prerun 8 out of 10\n",
      "INFO:EOS:Prerun 8: acceptance rate is  34%\n",
      "Pre-runs:  90%|█████████ | 9/10 [17:05<02:02, 122.39s/it]INFO:EOS:Prerun 9 out of 10\n",
      "INFO:EOS:Prerun 9: acceptance rate is  39%\n",
      "INFO:EOS:Main run: started ...                            \n",
      "INFO:EOS:Main run: acceptance rate is  30%                 \n"
     ]
    },
    {
     "name": "stdout",
     "output_type": "stream",
     "text": [
      "CPU times: user 8d 3h 25min 18s, sys: 26min 59s, total: 8d 3h 52min 17s\n",
      "Wall time: 16h 2min 57s\n"
     ]
    }
   ],
   "source": [
    "%%time\n",
    "\n",
    "chains = []\n",
    "log_posterior = []\n",
    "for i in range(mcmc_N_chains):\n",
    "    print('Chain : ', i+1)\n",
    "    rng = np.random.mtrand.RandomState(seed=12345 + i)\n",
    "    start_point = [rng.uniform(low=b[0], high=b[1]) for b in exp_analysis.bounds]\n",
    "    samples, log_weights = exp_analysis.sample(\n",
    "        preruns=mcmc_preruns,\n",
    "        pre_N=mcmc_pre_N,\n",
    "        N=mcmc_N,\n",
    "        stride=mcmc_stride, \n",
    "        start_point=start_point, rng=rng)\n",
    "    chains.extend(samples)\n",
    "    log_posterior.extend(log_weights)\n",
    "\n",
    "chains = np.array(chains)\n",
    "log_posterior = np.array(log_posterior)"
   ]
  },
  {
   "cell_type": "markdown",
   "metadata": {},
   "source": [
    "### Save MCMC results"
   ]
  },
  {
   "cell_type": "code",
   "execution_count": 9,
   "metadata": {},
   "outputs": [],
   "source": [
    "parameter_names = [p.name() for p in exp_analysis.varied_parameters]\n",
    "\n",
    "import pandas as pd\n",
    "\n",
    "df_mcmc = pd.DataFrame(chains, columns=parameter_names)\n",
    "df_mcmc['posterior'] = np.exp(log_posterior)\n",
    "df_mcmc['log_posterior'] = log_posterior"
   ]
  },
  {
   "cell_type": "code",
   "execution_count": 10,
   "metadata": {},
   "outputs": [],
   "source": [
    "import os\n",
    "\n",
    "fn = os.path.join(proj_path, data_path, data_mcmc_file_name)\n",
    "df_mcmc.to_csv(fn, index=False)"
   ]
  },
  {
   "cell_type": "markdown",
   "metadata": {},
   "source": [
    "### Inspect and group Markov chains (MC)"
   ]
  },
  {
   "cell_type": "code",
   "execution_count": 11,
   "metadata": {},
   "outputs": [
    {
     "name": "stdout",
     "output_type": "stream",
     "text": [
      "Chain =  1,   Log-posterior max = 143.93, min = 122.56,      Indices of samples with max-Posterior: (array([7449]),)\n",
      "Chain =  2,   Log-posterior max = 144.57, min = 125.24,      Indices of samples with max-Posterior: (array([5374, 5375]),)\n",
      "Chain =  3,   Log-posterior max = 143.44, min = 122.51,      Indices of samples with max-Posterior: (array([489]),)\n",
      "Chain =  4,   Log-posterior max = 144.14, min = 119.48,      Indices of samples with max-Posterior: (array([9575]),)\n",
      "Chain =  5,   Log-posterior max = 143.23, min = 120.41,      Indices of samples with max-Posterior: (array([7769, 7770]),)\n",
      "Chain =  6,   Log-posterior max = 143.39, min = 118.18,      Indices of samples with max-Posterior: (array([441]),)\n",
      "Chain =  7,   Log-posterior max = 144.08, min = 120.22,      Indices of samples with max-Posterior: (array([6334, 6335]),)\n",
      "Chain =  8,   Log-posterior max = 144.17, min = 123.10,      Indices of samples with max-Posterior: (array([3845, 3846, 3847]),)\n",
      "Chain =  9,   Log-posterior max = 142.86, min = 120.12,      Indices of samples with max-Posterior: (array([4787, 4788]),)\n",
      "Chain = 10,   Log-posterior max = 144.44, min = 122.75,      Indices of samples with max-Posterior: (array([1084]),)\n",
      "Chain = 11,   Log-posterior max = 144.19, min = 121.83,      Indices of samples with max-Posterior: (array([9962]),)\n",
      "Chain = 12,   Log-posterior max = 129.42, min = 97.72,      Indices of samples with max-Posterior: (array([9581]),)\n",
      "Chain = 13,   Log-posterior max = 144.36, min = 120.11,      Indices of samples with max-Posterior: (array([5956]),)\n",
      "Chain = 14,   Log-posterior max = 144.73, min = 123.08,      Indices of samples with max-Posterior: (array([9211]),)\n",
      "Chain = 15,   Log-posterior max = 143.64, min = 123.19,      Indices of samples with max-Posterior: (array([1000]),)\n",
      "Chain = 16,   Log-posterior max = 144.11, min = 121.05,      Indices of samples with max-Posterior: (array([7687, 7688, 7689, 7690]),)\n",
      "Chain = 17,   Log-posterior max = 144.38, min = 122.96,      Indices of samples with max-Posterior: (array([3010, 3011]),)\n",
      "Chain = 18,   Log-posterior max = 144.74, min = 122.17,      Indices of samples with max-Posterior: (array([4822]),)\n",
      "Chain = 19,   Log-posterior max = 144.34, min = 119.21,      Indices of samples with max-Posterior: (array([5518]),)\n",
      "Chain = 20,   Log-posterior max = 143.96, min = 123.75,      Indices of samples with max-Posterior: (array([2403, 2404]),)\n"
     ]
    }
   ],
   "source": [
    "mc_chains = []\n",
    "mc_posterior = []\n",
    "for i in range(0, len(chains), mcmc_N):\n",
    "        mc_chains.append(chains[i:i + mcmc_N])\n",
    "        mc_posterior.append(log_posterior[i:i + mcmc_N])\n",
    "\n",
    "chains_sum = np.sum(chains)\n",
    "poster_sum = np.sum(log_posterior)\n",
    "np.isnan(chains_sum), np.isinf(chains_sum), np.isnan(poster_sum), np.isinf(poster_sum),\n",
    "        \n",
    "for i, p in enumerate(mc_posterior):\n",
    "    res = np.where(p == np.max(p))\n",
    "    print(f\"Chain = {i+1:2d},   \"\\\n",
    "          f\"Log-posterior max = {p.max():5.2f}, min = {p.min():5.2f},   \"\\\n",
    "          f\"   Indices of samples with max-Posterior: {res}\")"
   ]
  },
  {
   "cell_type": "code",
   "execution_count": 33,
   "metadata": {},
   "outputs": [
    {
     "data": {
      "text/plain": [
       "(10000, 10000)"
      ]
     },
     "execution_count": 33,
     "metadata": {},
     "output_type": "execute_result"
    }
   ],
   "source": [
    "len(mc_chains[0]), len(mc_posterior[0])"
   ]
  },
  {
   "cell_type": "code",
   "execution_count": 21,
   "metadata": {},
   "outputs": [
    {
     "name": "stdout",
     "output_type": "stream",
     "text": [
      "Number of groups = 5 for critical_r = 1.3 \n",
      "Groups\n",
      " 1: [0, 1, 3, 5, 6, 7, 9, 10, 12, 13, 14, 15, 16, 17, 18, 19]\n",
      " 2: [2]\n",
      " 3: [4]\n",
      " 4: [8]\n",
      " 5: [11]\n"
     ]
    }
   ],
   "source": [
    "from pypmc.mix_adapt.r_value import r_group\n",
    "\n",
    "indices = np.arange(mc_chains[0].shape[1])\n",
    "res = r_group([np.mean(chain_values.T[indices], axis=1) for chain_values in mc_chains],\n",
    "              [np.var (chain_values.T[indices], axis=1, ddof=1) for chain_values in mc_chains],\n",
    "              n=mcmc_N, critical_r=hc_r_crit, approx=False)\n",
    "print(f\"Number of groups = {len(res)} for critical_r = {hc_r_crit} \\nGroups\")\n",
    "for g_ix, g in enumerate(res):\n",
    "    print(f\"{g_ix+1:2d}: {g}\")"
   ]
  },
  {
   "cell_type": "markdown",
   "metadata": {},
   "source": [
    "### 1-dim Posterior distributions"
   ]
  },
  {
   "cell_type": "code",
   "execution_count": 13,
   "metadata": {
    "scrolled": true
   },
   "outputs": [
    {
     "name": "stderr",
     "output_type": "stream",
     "text": [
      "WARNING:EOS:Argument plot:x:format is only used when plot:x:scale is used\n"
     ]
    },
    {
     "name": "stdout",
     "output_type": "stream",
     "text": [
      "i = 0, parameter = $\\xi^{(1)}(1)$\n",
      "    prior_min = -2.0, prior_max = -0.2\n",
      "    1-dim min = -1.40, 1-dim max = -0.75\n",
      "    1-dim min = -1.47, 1-dim max = -0.72\n"
     ]
    },
    {
     "name": "stderr",
     "output_type": "stream",
     "text": [
      "WARNING:EOS:Argument plot:x:format is only used when plot:x:scale is used\n"
     ]
    },
    {
     "name": "stdout",
     "output_type": "stream",
     "text": [
      "i = 1, parameter = $\\xi^{(2)}(1)$\n",
      "    prior_min = -0.2, prior_max = 4.0\n",
      "    1-dim min = 1.12, 1-dim max = 3.09\n",
      "    1-dim min = 1.07, 1-dim max = 3.24\n"
     ]
    },
    {
     "name": "stderr",
     "output_type": "stream",
     "text": [
      "WARNING:EOS:Argument plot:x:format is only used when plot:x:scale is used\n"
     ]
    },
    {
     "name": "stdout",
     "output_type": "stream",
     "text": [
      "i = 2, parameter = $\\xi^{(3)}(1)$\n",
      "    prior_min = -10.0, prior_max = 0.5\n",
      "    1-dim min = -6.85, 1-dim max = -1.66\n",
      "    1-dim min = -7.19, 1-dim max = -1.58\n"
     ]
    },
    {
     "name": "stderr",
     "output_type": "stream",
     "text": [
      "WARNING:EOS:Argument plot:x:format is only used when plot:x:scale is used\n"
     ]
    },
    {
     "name": "stdout",
     "output_type": "stream",
     "text": [
      "i = 3, parameter = $\\chi_2(1)$\n",
      "    prior_min = -0.26, prior_max = 0.14\n",
      "    1-dim min = -0.19, 1-dim max = 0.02\n",
      "    1-dim min = -0.20, 1-dim max = 0.02\n"
     ]
    },
    {
     "name": "stderr",
     "output_type": "stream",
     "text": [
      "WARNING:EOS:Argument plot:x:format is only used when plot:x:scale is used\n"
     ]
    },
    {
     "name": "stdout",
     "output_type": "stream",
     "text": [
      "i = 4, parameter = $\\chi^{(1)}_2(1)$\n",
      "    prior_min = -0.21, prior_max = 0.19\n",
      "    1-dim min = -0.09, 1-dim max = 0.08\n",
      "    1-dim min = -0.10, 1-dim max = 0.09\n"
     ]
    },
    {
     "name": "stderr",
     "output_type": "stream",
     "text": [
      "WARNING:EOS:Argument plot:x:format is only used when plot:x:scale is used\n"
     ]
    },
    {
     "name": "stdout",
     "output_type": "stream",
     "text": [
      "i = 5, parameter = $\\chi^{(2)}_2(1)$\n",
      "    prior_min = -1.2, prior_max = 1.2\n",
      "    1-dim min = -0.62, 1-dim max = 0.59\n",
      "    1-dim min = -0.65, 1-dim max = 0.61\n"
     ]
    },
    {
     "name": "stderr",
     "output_type": "stream",
     "text": [
      "WARNING:EOS:Argument plot:x:format is only used when plot:x:scale is used\n"
     ]
    },
    {
     "name": "stdout",
     "output_type": "stream",
     "text": [
      "i = 6, parameter = $\\chi^{(1)}_3(1)$\n",
      "    prior_min = -0.16, prior_max = 0.24\n",
      "    1-dim min = -0.04, 1-dim max = 0.12\n",
      "    1-dim min = -0.05, 1-dim max = 0.12\n"
     ]
    },
    {
     "name": "stderr",
     "output_type": "stream",
     "text": [
      "WARNING:EOS:Argument plot:x:format is only used when plot:x:scale is used\n"
     ]
    },
    {
     "name": "stdout",
     "output_type": "stream",
     "text": [
      "i = 7, parameter = $\\chi^{(2)}_3(1)$\n",
      "    prior_min = -0.5, prior_max = 0.3\n",
      "    1-dim min = -0.32, 1-dim max = 0.09\n",
      "    1-dim min = -0.34, 1-dim max = 0.09\n",
      "i = 8, parameter = $\\eta(1)$\n",
      "    prior_min = -0.39, prior_max = 1.81\n"
     ]
    },
    {
     "name": "stderr",
     "output_type": "stream",
     "text": [
      "WARNING:EOS:Argument plot:x:format is only used when plot:x:scale is used\n"
     ]
    },
    {
     "name": "stdout",
     "output_type": "stream",
     "text": [
      "    1-dim min = -0.22, 1-dim max = 1.30\n",
      "    1-dim min = -0.24, 1-dim max = 1.37\n",
      "i = 9, parameter = $\\eta^{(1)}(1)$\n",
      "    prior_min = -1.76, prior_max = 1.64\n",
      "    1-dim min = -0.77, 1-dim max = 0.70\n",
      "    1-dim min = -0.81, 1-dim max = 0.73\n"
     ]
    },
    {
     "name": "stderr",
     "output_type": "stream",
     "text": [
      "WARNING:EOS:Argument plot:x:format is only used when plot:x:scale is used\n",
      "WARNING:EOS:Argument plot:x:format is only used when plot:x:scale is used\n"
     ]
    },
    {
     "name": "stdout",
     "output_type": "stream",
     "text": [
      "i = 10, parameter = $\\eta^{(2)}(1)$\n",
      "    prior_min = -3.0, prior_max = 3.0\n",
      "    1-dim min = -2.89, 1-dim max = 2.30\n",
      "    1-dim min = -3.04, 1-dim max = 2.42\n",
      "i = 11, parameter = $l_1(1)$\n",
      "    prior_min = -1.3, prior_max = 1.5\n"
     ]
    },
    {
     "name": "stderr",
     "output_type": "stream",
     "text": [
      "WARNING:EOS:Argument plot:x:format is only used when plot:x:scale is used\n",
      "WARNING:EOS:Argument plot:x:format is only used when plot:x:scale is used\n"
     ]
    },
    {
     "name": "stdout",
     "output_type": "stream",
     "text": [
      "    1-dim min = -1.17, 1-dim max = 1.11\n",
      "    1-dim min = -1.23, 1-dim max = 1.16\n",
      "i = 12, parameter = $l^{(1)}_1(1)$\n",
      "    prior_min = -45.0, prior_max = 22.0\n",
      "    1-dim min = -17.66, 1-dim max = 0.09\n",
      "    1-dim min = -18.54, 1-dim max = 0.09\n"
     ]
    },
    {
     "name": "stderr",
     "output_type": "stream",
     "text": [
      "WARNING:EOS:Argument plot:x:format is only used when plot:x:scale is used\n"
     ]
    },
    {
     "name": "stdout",
     "output_type": "stream",
     "text": [
      "i = 13, parameter = $l_2(1)$\n",
      "    prior_min = -4.0, prior_max = 0.0\n",
      "    1-dim min = -3.49, 1-dim max = -0.29\n",
      "    1-dim min = -3.67, 1-dim max = -0.27\n",
      "i = 14, parameter = $l^{(1)}_2(1)$\n",
      "    prior_min = -35.0, prior_max = 25.0\n"
     ]
    },
    {
     "name": "stderr",
     "output_type": "stream",
     "text": [
      "WARNING:EOS:Argument plot:x:format is only used when plot:x:scale is used\n"
     ]
    },
    {
     "name": "stdout",
     "output_type": "stream",
     "text": [
      "    1-dim min = -14.93, 1-dim max = 0.44\n",
      "    1-dim min = -15.68, 1-dim max = 0.46\n",
      "i = 15, parameter = $l_3(1)$\n",
      "    prior_min = -20.0, prior_max = 20.0\n"
     ]
    },
    {
     "name": "stderr",
     "output_type": "stream",
     "text": [
      "WARNING:EOS:Argument plot:x:format is only used when plot:x:scale is used\n",
      "WARNING:EOS:Argument plot:x:format is only used when plot:x:scale is used\n"
     ]
    },
    {
     "name": "stdout",
     "output_type": "stream",
     "text": [
      "    1-dim min = -19.98, 1-dim max = 19.29\n",
      "    1-dim min = -20.98, 1-dim max = 20.25\n",
      "i = 16, parameter = $l^{(1)}_3(1)$\n",
      "    prior_min = -30.0, prior_max = 40.0\n",
      "    1-dim min = -16.46, 1-dim max = 24.37\n",
      "    1-dim min = -17.29, 1-dim max = 25.59\n",
      "i = 17, parameter = $l_4(1)$\n",
      "    prior_min = -10.0, prior_max = 7.0\n"
     ]
    },
    {
     "name": "stderr",
     "output_type": "stream",
     "text": [
      "WARNING:EOS:Argument plot:x:format is only used when plot:x:scale is used\n",
      "WARNING:EOS:Argument plot:x:format is only used when plot:x:scale is used\n"
     ]
    },
    {
     "name": "stdout",
     "output_type": "stream",
     "text": [
      "    1-dim min = -7.30, 1-dim max = 4.68\n",
      "    1-dim min = -7.66, 1-dim max = 4.91\n",
      "i = 18, parameter = $l^{(1)}_4(1)$\n",
      "    prior_min = -12.0, prior_max = 12.0\n",
      "    1-dim min = -6.64, 1-dim max = 7.13\n",
      "    1-dim min = -6.97, 1-dim max = 7.48\n"
     ]
    },
    {
     "name": "stderr",
     "output_type": "stream",
     "text": [
      "WARNING:EOS:Argument plot:x:format is only used when plot:x:scale is used\n"
     ]
    },
    {
     "name": "stdout",
     "output_type": "stream",
     "text": [
      "i = 19, parameter = $l_5(1)$\n",
      "    prior_min = -10.0, prior_max = 16.0\n",
      "    1-dim min = -1.66, 1-dim max = 7.21\n",
      "    1-dim min = -1.75, 1-dim max = 7.58\n",
      "i = 20, parameter = $l^{(1)}_5(1)$\n",
      "    prior_min = -13.0, prior_max = 16.0\n",
      "    1-dim min = -7.16, 1-dim max = 10.62\n",
      "    1-dim min = -7.52, 1-dim max = 11.16\n"
     ]
    },
    {
     "name": "stderr",
     "output_type": "stream",
     "text": [
      "/usr/local/lib/python3.8/site-packages/eos/plot/plotter.py:104: RuntimeWarning: More than 20 figures have been opened. Figures created through the pyplot interface (`matplotlib.pyplot.figure`) are retained until explicitly closed and may consume too much memory. (To control this warning, see the rcParam `figure.max_open_warning`).\n",
      "  self.fig, self.ax = plt.subplots()\n",
      "WARNING:EOS:Argument plot:x:format is only used when plot:x:scale is used\n",
      "WARNING:EOS:Argument plot:x:format is only used when plot:x:scale is used\n"
     ]
    },
    {
     "name": "stdout",
     "output_type": "stream",
     "text": [
      "i = 21, parameter = $l_6(1)$\n",
      "    prior_min = -15.0, prior_max = 20.0\n",
      "    1-dim min = -7.68, 1-dim max = 16.11\n",
      "    1-dim min = -8.06, 1-dim max = 16.92\n"
     ]
    },
    {
     "name": "stderr",
     "output_type": "stream",
     "text": [
      "WARNING:EOS:Argument plot:x:format is only used when plot:x:scale is used\n"
     ]
    },
    {
     "name": "stdout",
     "output_type": "stream",
     "text": [
      "i = 22, parameter = $l^{(1)}_6(1)$\n",
      "    prior_min = -20.0, prior_max = 20.0\n",
      "    1-dim min = -11.35, 1-dim max = 13.73\n",
      "    1-dim min = -11.92, 1-dim max = 14.42\n",
      "i = 23, parameter = $|V_{cb}|$\n",
      "    prior_min = 0.03, prior_max = 0.05\n"
     ]
    },
    {
     "name": "stderr",
     "output_type": "stream",
     "text": [
      "WARNING:EOS:Argument plot:x:format is only used when plot:x:scale is used\n"
     ]
    },
    {
     "name": "stdout",
     "output_type": "stream",
     "text": [
      "    1-dim min = 0.04, 1-dim max = 0.04\n",
      "    1-dim min = 0.03, 1-dim max = 0.05\n"
     ]
    },
    {
     "data": {
      "image/png": "[encoded data removed]",
      "text/plain": [
       "<Figure size 432x288 with 1 Axes>"
      ]
     },
     "metadata": {
      "needs_background": "light"
     },
     "output_type": "display_data"
    },
    {
     "data": {
      "image/png": "[encoded data removed]",
      "text/plain": [
       "<Figure size 432x288 with 1 Axes>"
      ]
     },
     "metadata": {
      "needs_background": "light"
     },
     "output_type": "display_data"
    },
    {
     "data": {
      "image/png": "[encoded data removed]",
      "text/plain": [
       "<Figure size 432x288 with 1 Axes>"
      ]
     },
     "metadata": {
      "needs_background": "light"
     },
     "output_type": "display_data"
    },
    {
     "data": {
      "image/png": "[encoded data removed]",
      "text/plain": [
       "<Figure size 432x288 with 1 Axes>"
      ]
     },
     "metadata": {
      "needs_background": "light"
     },
     "output_type": "display_data"
    },
    {
     "data": {
      "image/png": "[encoded data removed]",
      "text/plain": [
       "<Figure size 432x288 with 1 Axes>"
      ]
     },
     "metadata": {
      "needs_background": "light"
     },
     "output_type": "display_data"
    },
    {
     "data": {
      "image/png": "[encoded data removed]",
      "text/plain": [
       "<Figure size 432x288 with 1 Axes>"
      ]
     },
     "metadata": {
      "needs_background": "light"
     },
     "output_type": "display_data"
    },
    {
     "data": {
      "image/png": "[encoded data removed]",
      "text/plain": [
       "<Figure size 432x288 with 1 Axes>"
      ]
     },
     "metadata": {
      "needs_background": "light"
     },
     "output_type": "display_data"
    },
    {
     "data": {
      "image/png": "[encoded data removed]",
      "text/plain": [
       "<Figure size 432x288 with 1 Axes>"
      ]
     },
     "metadata": {
      "needs_background": "light"
     },
     "output_type": "display_data"
    },
    {
     "data": {
      "image/png": "[encoded data removed]",
      "text/plain": [
       "<Figure size 432x288 with 1 Axes>"
      ]
     },
     "metadata": {
      "needs_background": "light"
     },
     "output_type": "display_data"
    },
    {
     "data": {
      "image/png": "[encoded data removed]",
      "text/plain": [
       "<Figure size 432x288 with 1 Axes>"
      ]
     },
     "metadata": {
      "needs_background": "light"
     },
     "output_type": "display_data"
    },
    {
     "data": {
      "image/png": "[encoded data removed]",
      "text/plain": [
       "<Figure size 432x288 with 1 Axes>"
      ]
     },
     "metadata": {
      "needs_background": "light"
     },
     "output_type": "display_data"
    },
    {
     "data": {
      "image/png": "[encoded data removed]",
      "text/plain": [
       "<Figure size 432x288 with 1 Axes>"
      ]
     },
     "metadata": {
      "needs_background": "light"
     },
     "output_type": "display_data"
    },
    {
     "data": {
      "image/png": "[encoded data removed]",
      "text/plain": [
       "<Figure size 432x288 with 1 Axes>"
      ]
     },
     "metadata": {
      "needs_background": "light"
     },
     "output_type": "display_data"
    },
    {
     "data": {
      "image/png": "[encoded data removed]",
      "text/plain": [
       "<Figure size 432x288 with 1 Axes>"
      ]
     },
     "metadata": {
      "needs_background": "light"
     },
     "output_type": "display_data"
    },
    {
     "data": {
      "image/png": "[encoded data removed]",
      "text/plain": [
       "<Figure size 432x288 with 1 Axes>"
      ]
     },
     "metadata": {
      "needs_background": "light"
     },
     "output_type": "display_data"
    },
    {
     "data": {
      "image/png": "[encoded data removed]",
      "text/plain": [
       "<Figure size 432x288 with 1 Axes>"
      ]
     },
     "metadata": {
      "needs_background": "light"
     },
     "output_type": "display_data"
    },
    {
     "data": {
      "image/png": "[encoded data removed]",
      "text/plain": [
       "<Figure size 432x288 with 1 Axes>"
      ]
     },
     "metadata": {
      "needs_background": "light"
     },
     "output_type": "display_data"
    },
    {
     "data": {
      "image/png": "[encoded data removed]",
      "text/plain": [
       "<Figure size 432x288 with 1 Axes>"
      ]
     },
     "metadata": {
      "needs_background": "light"
     },
     "output_type": "display_data"
    },
    {
     "data": {
      "image/png": "[encoded data removed]",
      "text/plain": [
       "<Figure size 432x288 with 1 Axes>"
      ]
     },
     "metadata": {
      "needs_background": "light"
     },
     "output_type": "display_data"
    },
    {
     "data": {
      "image/png": "[encoded data removed]",
      "text/plain": [
       "<Figure size 432x288 with 1 Axes>"
      ]
     },
     "metadata": {
      "needs_background": "light"
     },
     "output_type": "display_data"
    },
    {
     "data": {
      "image/png": "[encoded data removed]",
      "text/plain": [
       "<Figure size 432x288 with 1 Axes>"
      ]
     },
     "metadata": {
      "needs_background": "light"
     },
     "output_type": "display_data"
    },
    {
     "data": {
      "image/png": "[encoded data removed]",
      "text/plain": [
       "<Figure size 432x288 with 1 Axes>"
      ]
     },
     "metadata": {
      "needs_background": "light"
     },
     "output_type": "display_data"
    },
    {
     "data": {
      "image/png": "[encoded data removed]",
      "text/plain": [
       "<Figure size 432x288 with 1 Axes>"
      ]
     },
     "metadata": {
      "needs_background": "light"
     },
     "output_type": "display_data"
    },
    {
     "data": {
      "image/png": "[encoded data removed]",
      "text/plain": [
       "<Figure size 432x288 with 1 Axes>"
      ]
     },
     "metadata": {
      "needs_background": "light"
     },
     "output_type": "display_data"
    }
   ],
   "source": [
    "n_bins = 100\n",
    "for i, p in enumerate(exp_analysis.varied_parameters[:]):\n",
    "    print(f\"i = {i}, parameter = {p.latex()}\")\n",
    "    print(f\"    prior_min = {p.min()}, prior_max = {p.max()}\")\n",
    "    post_min = min(chains[:, i])\n",
    "    post_max = max(chains[:, i])\n",
    "    print(f\"    1-dim min = {post_min:3.2f}, 1-dim max = {post_max:3.2f}\" )\n",
    "    if post_min < 0:\n",
    "        post_min *= 1.05\n",
    "    else:\n",
    "        post_min *= 0.95\n",
    "    if post_max < 0:\n",
    "        post_max *= 0.95\n",
    "    else:\n",
    "        post_max *= 1.05\n",
    "    print(f\"    1-dim min = {post_min:3.2f}, 1-dim max = {post_max:3.2f}\" )\n",
    "    plot_args = {\n",
    "        'plot': {\n",
    "            'x': { 'label': f'{p.latex()}', 'range': [post_min,  post_max], 'format': '${x:.2f}$' },\n",
    "            'legend': { 'location': 'upper center' }\n",
    "        },\n",
    "        'contents': [\n",
    "            { 'label': f'{p.latex()}',\n",
    "              'type': 'histogram', 'bins': n_bins,\n",
    "              'data': { 'samples': chains[:, i], 'log_weights': log_posterior }}\n",
    "        ]\n",
    "    }\n",
    "    eos.plot.Plotter(plot_args).plot()"
   ]
  },
  {
   "cell_type": "markdown",
   "metadata": {},
   "source": [
    "### Compare Markov Chains for specific parameter\n",
    "* 23 form factor parameters\n",
    "* 4 Wilson coefficients"
   ]
  },
  {
   "cell_type": "code",
   "execution_count": null,
   "metadata": {
    "scrolled": true
   },
   "outputs": [],
   "source": [
    "x_val = list(range(len(mc_chains[0])))\n",
    "len(x_val), len(mc_chains[0])\n",
    "\n",
    "for p_ix, p in enumerate(exp_analysis.varied_parameters[:]):\n",
    "    print(f\"i = {p_ix}, parameter = {p.latex()}\")\n",
    "    \n",
    "    plt.rcParams['figure.figsize'] = [30, 7]\n",
    "    fig, ax = plt.subplots()\n",
    "    fig.patch.set_facecolor('white')\n",
    "\n",
    "    for ch_ix, ch in enumerate(mc_chains):\n",
    "        ax.scatter(x_val, ch[:, p_ix])\n",
    "\n",
    "    fig.tight_layout()\n",
    "    ax.set(ylabel=p.latex())\n",
    "    plt.legend(loc=\"upper left\", labels = range(len(mc_chains)))"
   ]
  },
  {
   "cell_type": "code",
   "execution_count": null,
   "metadata": {
    "scrolled": true
   },
   "outputs": [],
   "source": [
    "for p_ix, p in enumerate(exp_analysis.varied_parameters[:]):\n",
    "    print(f\"i = {p_ix:2d}, parameter = {p.latex()}\")\n",
    "    print(f\"    prior_min = {p.min():5.2f}, prior_max = {p.max():5.2f}\")\n",
    "    prio_min = p.min()\n",
    "    prio_max = p.max()\n",
    "    post_min = min(chains[:, p_ix])\n",
    "    post_max = max(chains[:, p_ix])\n",
    "    print(f\"    1-dim min = {post_min:5.2f}, 1-dim max = {post_max:5.2f}\" )\n",
    "    if post_min < 0:\n",
    "        post_min *= 1.05\n",
    "    else:\n",
    "        post_min *= 0.95\n",
    "    if post_max < 0:\n",
    "        post_max *= 0.95\n",
    "    else:\n",
    "        post_max *= 1.05\n",
    "    print(f\"    1-dim min = {post_min:5.2f}, 1-dim max = {post_max:5.2f}\" )\n",
    "    cont_lst = []\n",
    "    for ch_ix, ch, post in  zip(range(len(mc_chains)), mc_chains, mc_posterior):\n",
    "        res = { 'label': f'{ch_ix}',\n",
    "                'type' : 'histogram', 'bins': 80,\n",
    "                'data' : { 'samples': ch[:, ch_ix], 'log_weights': post }}\n",
    "        cont_lst.append(res)\n",
    "    plot_args = {\n",
    "        'plot': {\n",
    "            'x': { 'label': f'{p.latex()}', 'range': [prio_min,  prio_max], 'format': '${x:.2f}$' },\n",
    "            'legend': { 'location': 'upper center' }\n",
    "        },\n",
    "        'contents': cont_lst\n",
    "    }\n",
    "    plt.rcParams['figure.figsize'] = [6, 4]\n",
    "    eos.plot.Plotter(plot_args).plot()"
   ]
  },
  {
   "cell_type": "markdown",
   "metadata": {},
   "source": [
    "# PMC fit"
   ]
  },
  {
   "cell_type": "code",
   "execution_count": 25,
   "metadata": {},
   "outputs": [
    {
     "name": "stdout",
     "output_type": "stream",
     "text": [
      "Number of components  = 25 for r_crit = 1.3 and K_g = 5\n",
      "Weights of components = [0.04 0.04 0.04 0.04 0.04 0.04 0.04 0.04 0.04 0.04 0.04 0.04 0.04 0.04\n",
      " 0.04 0.04 0.04 0.04 0.04 0.04 0.04 0.04 0.04 0.04 0.04]\n"
     ]
    }
   ],
   "source": [
    "from pypmc.mix_adapt.r_value import make_r_gaussmix\n",
    "\n",
    "proposal_density = make_r_gaussmix(mc_chains, K_g=hc_K_g, critical_r=hc_r_crit)\n",
    "print(f\"Number of components  = {len(proposal_density.components)} for r_crit = {hc_r_crit} and K_g = {hc_K_g}\")\n",
    "print(f\"Weights of components = {proposal_density.weights}\")"
   ]
  },
  {
   "cell_type": "code",
   "execution_count": 26,
   "metadata": {
    "scrolled": false
   },
   "outputs": [
    {
     "name": "stderr",
     "output_type": "stream",
     "text": [
      "Adaptions:   0%|          | 0/15 [00:00<?, ?it/s]INFO:EOS:Perplexity of the last samples after sampling in step 0: 0.10311221999997576\n",
      "INFO:EOS:Perplexity of all previous samples after sampling in step 0: 0.10311221999997576\n",
      "Adaptions:   7%|▋         | 1/15 [21:28<5:00:33, 1288.07s/it]"
     ]
    },
    {
     "name": "stdout",
     "output_type": "stream",
     "text": [
      "Could not update component 22 --> weight is set to zero.\n"
     ]
    },
    {
     "name": "stderr",
     "output_type": "stream",
     "text": [
      "INFO:EOS:Perplexity of the last samples after sampling in step 1: 0.3689154003014493\n",
      "INFO:EOS:Perplexity of all previous samples after sampling in step 1: 0.19635522827433066\n",
      "Adaptions:  13%|█▎        | 2/15 [42:30<4:35:49, 1273.00s/it]INFO:EOS:Perplexity of the last samples after sampling in step 2: 0.414822460095863\n",
      "INFO:EOS:Perplexity of all previous samples after sampling in step 2: 0.2523350693946937\n",
      "Adaptions:  20%|██        | 3/15 [1:03:52<4:15:25, 1277.15s/it]"
     ]
    },
    {
     "name": "stdout",
     "output_type": "stream",
     "text": [
      "Could not update component 16 --> weight is set to zero.\n",
      "Could not update component 17 --> weight is set to zero.\n",
      "Could not update component 18 --> weight is set to zero.\n"
     ]
    },
    {
     "name": "stderr",
     "output_type": "stream",
     "text": [
      "INFO:EOS:Perplexity of the last samples after sampling in step 3: 0.4210041030084741\n",
      "INFO:EOS:Perplexity of all previous samples after sampling in step 3: 0.28695306490914174\n",
      "Adaptions:  27%|██▋       | 4/15 [1:25:37<3:56:07, 1287.91s/it]"
     ]
    },
    {
     "name": "stdout",
     "output_type": "stream",
     "text": [
      "Could not update component 9 --> weight is set to zero.\n",
      "Could not update component 15 --> weight is set to zero.\n"
     ]
    },
    {
     "name": "stderr",
     "output_type": "stream",
     "text": [
      "INFO:EOS:Perplexity of the last samples after sampling in step 4: 0.4226920339596734\n",
      "INFO:EOS:Perplexity of all previous samples after sampling in step 4: 0.3105090622264005\n",
      "Adaptions:  33%|███▎      | 5/15 [1:46:31<3:32:36, 1275.68s/it]"
     ]
    },
    {
     "name": "stdout",
     "output_type": "stream",
     "text": [
      "Could not update component 7 --> weight is set to zero.\n"
     ]
    },
    {
     "name": "stderr",
     "output_type": "stream",
     "text": [
      "INFO:EOS:Perplexity of the last samples after sampling in step 5: 0.45111000804962986\n",
      "INFO:EOS:Perplexity of all previous samples after sampling in step 5: 0.33035962191085755\n",
      "Adaptions:  40%|████      | 6/15 [2:07:22<3:10:07, 1267.51s/it]"
     ]
    },
    {
     "name": "stdout",
     "output_type": "stream",
     "text": [
      "Could not update component 7 --> weight is set to zero.\n"
     ]
    },
    {
     "name": "stderr",
     "output_type": "stream",
     "text": [
      "INFO:EOS:Perplexity of the last samples after sampling in step 6: 0.4568842000872629\n",
      "INFO:EOS:Perplexity of all previous samples after sampling in step 6: 0.3461192928747738\n",
      "Adaptions:  47%|████▋     | 7/15 [2:28:14<2:48:20, 1262.51s/it]"
     ]
    },
    {
     "name": "stdout",
     "output_type": "stream",
     "text": [
      "Could not update component 5 --> weight is set to zero.\n",
      "Could not update component 6 --> weight is set to zero.\n",
      "Could not update component 7 --> weight is set to zero.\n"
     ]
    },
    {
     "name": "stderr",
     "output_type": "stream",
     "text": [
      "INFO:EOS:Perplexity of the last samples after sampling in step 7: 0.4796394625512455\n",
      "INFO:EOS:Perplexity of all previous samples after sampling in step 7: 0.3603906639909143\n",
      "Adaptions:  53%|█████▎    | 8/15 [2:49:05<2:26:51, 1258.72s/it]INFO:EOS:Perplexity of the last samples after sampling in step 8: 0.480687438807084\n",
      "INFO:EOS:Perplexity of all previous samples after sampling in step 8: 0.3721257851871717\n",
      "Adaptions:  60%|██████    | 9/15 [3:09:56<2:05:38, 1256.43s/it]INFO:EOS:Perplexity of the last samples after sampling in step 9: 0.5012142250692179\n",
      "INFO:EOS:Perplexity of all previous samples after sampling in step 9: 0.38342998707716186\n",
      "Adaptions:  67%|██████▋   | 10/15 [3:30:50<1:44:38, 1255.63s/it]"
     ]
    },
    {
     "name": "stdout",
     "output_type": "stream",
     "text": [
      "Could not update component 6 --> weight is set to zero.\n"
     ]
    },
    {
     "name": "stderr",
     "output_type": "stream",
     "text": [
      "INFO:EOS:Perplexity of the last samples after sampling in step 10: 0.503631525532497\n",
      "INFO:EOS:Perplexity of all previous samples after sampling in step 10: 0.39315809095272725\n",
      "Adaptions:  73%|███████▎  | 11/15 [3:51:43<1:23:39, 1254.89s/it]INFO:EOS:Perplexity of the last samples after sampling in step 11: 0.5145147495476503\n",
      "INFO:EOS:Perplexity of all previous samples after sampling in step 11: 0.40211175625723883\n",
      "Adaptions:  80%|████████  | 12/15 [4:14:27<1:04:24, 1288.03s/it]INFO:EOS:Perplexity of the last samples after sampling in step 12: 0.5258737108190094\n",
      "INFO:EOS:Perplexity of all previous samples after sampling in step 12: 0.41047856933268567\n",
      "Adaptions:  87%|████████▋ | 13/15 [4:37:19<43:46, 1313.33s/it]  "
     ]
    },
    {
     "name": "stdout",
     "output_type": "stream",
     "text": [
      "Could not update component 6 --> weight is set to zero.\n",
      "Could not update component 7 --> weight is set to zero.\n"
     ]
    },
    {
     "name": "stderr",
     "output_type": "stream",
     "text": [
      "INFO:EOS:Perplexity of the last samples after sampling in step 13: 0.5212809229856178\n",
      "INFO:EOS:Perplexity of all previous samples after sampling in step 13: 0.4176002491877882\n",
      "Adaptions:  93%|█████████▎| 14/15 [5:00:45<22:21, 1341.25s/it]INFO:EOS:Perplexity of the last samples after sampling in step 14: 0.5313361496389548\n",
      "INFO:EOS:Perplexity of all previous samples after sampling in step 14: 0.42438233925775204\n",
      "INFO:EOS:Perplexity after final samples: 0.5329953054043105   \n"
     ]
    },
    {
     "name": "stdout",
     "output_type": "stream",
     "text": [
      "CPU times: user 5d 1h 43min 13s, sys: 15min 40s, total: 5d 1h 58min 54s\n",
      "Wall time: 10h 2min 4s\n"
     ]
    }
   ],
   "source": [
    "%%time\n",
    "\n",
    "res = exp_analysis.sample_pmc(proposal_density, step_N=pmc_step_N, steps=pmc_steps, final_N=pmc_final_N)"
   ]
  },
  {
   "cell_type": "code",
   "execution_count": 27,
   "metadata": {},
   "outputs": [
    {
     "data": {
      "text/plain": [
       "((400000, 24), (400000,), pypmc.density.mixture.MixtureDensity)"
      ]
     },
     "execution_count": 27,
     "metadata": {},
     "output_type": "execute_result"
    }
   ],
   "source": [
    "res[0].shape, res[1].shape, type(res[2])"
   ]
  },
  {
   "cell_type": "markdown",
   "metadata": {},
   "source": [
    "### Save PMC data"
   ]
  },
  {
   "cell_type": "code",
   "execution_count": 28,
   "metadata": {},
   "outputs": [
    {
     "name": "stderr",
     "output_type": "stream",
     "text": [
      "/tmp/ipykernel_4114/77153061.py:6: RuntimeWarning: divide by zero encountered in log\n",
      "  df_pmc['log_posterior'] = np.log(pmc_posterior)\n"
     ]
    }
   ],
   "source": [
    "pmc_data = res[0]\n",
    "pmc_posterior = res[1]\n",
    "\n",
    "df_pmc = pd.DataFrame(pmc_data, columns=parameter_names)\n",
    "df_pmc['posterior'] = pmc_posterior\n",
    "df_pmc['log_posterior'] = np.log(pmc_posterior)\n",
    "\n",
    "fn = os.path.join(proj_path, data_path, data_pmc_file_name)\n",
    "df_pmc.to_csv(fn, index=False)"
   ]
  },
  {
   "cell_type": "code",
   "execution_count": 29,
   "metadata": {},
   "outputs": [
    {
     "name": "stderr",
     "output_type": "stream",
     "text": [
      "WARNING:EOS:Argument plot:x:format is only used when plot:x:scale is used\n"
     ]
    },
    {
     "name": "stdout",
     "output_type": "stream",
     "text": [
      "i = 0, parameter = $\\xi^{(1)}(1)$\n",
      "    prior_min = -2.0, prior_max = -0.2\n",
      "    1-dim min = -1.41, 1-dim max = -0.69\n",
      "    1-dim min = -1.48, 1-dim max = -0.65\n",
      "i = 1, parameter = $\\xi^{(2)}(1)$\n",
      "    prior_min = -0.2, prior_max = 4.0\n"
     ]
    },
    {
     "name": "stderr",
     "output_type": "stream",
     "text": [
      "WARNING:EOS:Argument plot:x:format is only used when plot:x:scale is used\n"
     ]
    },
    {
     "name": "stdout",
     "output_type": "stream",
     "text": [
      "    1-dim min = 0.76, 1-dim max = 2.92\n",
      "    1-dim min = 0.72, 1-dim max = 3.06\n",
      "i = 2, parameter = $\\xi^{(3)}(1)$\n",
      "    prior_min = -10.0, prior_max = 0.5\n"
     ]
    },
    {
     "name": "stderr",
     "output_type": "stream",
     "text": [
      "WARNING:EOS:Argument plot:x:format is only used when plot:x:scale is used\n"
     ]
    },
    {
     "name": "stdout",
     "output_type": "stream",
     "text": [
      "    1-dim min = -6.32, 1-dim max = -0.91\n",
      "    1-dim min = -6.64, 1-dim max = -0.87\n",
      "i = 3, parameter = $\\chi_2(1)$\n",
      "    prior_min = -0.26, prior_max = 0.14\n"
     ]
    },
    {
     "name": "stderr",
     "output_type": "stream",
     "text": [
      "WARNING:EOS:Argument plot:x:format is only used when plot:x:scale is used\n",
      "WARNING:EOS:Argument plot:x:format is only used when plot:x:scale is used\n"
     ]
    },
    {
     "name": "stdout",
     "output_type": "stream",
     "text": [
      "    1-dim min = -0.16, 1-dim max = 0.03\n",
      "    1-dim min = -0.16, 1-dim max = 0.03\n",
      "i = 4, parameter = $\\chi^{(1)}_2(1)$\n",
      "    prior_min = -0.21, prior_max = 0.19\n",
      "    1-dim min = -0.09, 1-dim max = 0.09\n",
      "    1-dim min = -0.10, 1-dim max = 0.10\n",
      "i = 5, parameter = $\\chi^{(2)}_2(1)$\n",
      "    prior_min = -1.2, prior_max = 1.2\n"
     ]
    },
    {
     "name": "stderr",
     "output_type": "stream",
     "text": [
      "WARNING:EOS:Argument plot:x:format is only used when plot:x:scale is used\n"
     ]
    },
    {
     "name": "stdout",
     "output_type": "stream",
     "text": [
      "    1-dim min = -0.73, 1-dim max = 0.77\n",
      "    1-dim min = -0.77, 1-dim max = 0.81\n",
      "i = 6, parameter = $\\chi^{(1)}_3(1)$\n",
      "    prior_min = -0.16, prior_max = 0.24\n"
     ]
    },
    {
     "name": "stderr",
     "output_type": "stream",
     "text": [
      "WARNING:EOS:Argument plot:x:format is only used when plot:x:scale is used\n"
     ]
    },
    {
     "name": "stdout",
     "output_type": "stream",
     "text": [
      "    1-dim min = -0.04, 1-dim max = 0.13\n",
      "    1-dim min = -0.04, 1-dim max = 0.14\n",
      "i = 7, parameter = $\\chi^{(2)}_3(1)$\n",
      "    prior_min = -0.5, prior_max = 0.3\n"
     ]
    },
    {
     "name": "stderr",
     "output_type": "stream",
     "text": [
      "WARNING:EOS:Argument plot:x:format is only used when plot:x:scale is used\n",
      "WARNING:EOS:Argument plot:x:format is only used when plot:x:scale is used\n"
     ]
    },
    {
     "name": "stdout",
     "output_type": "stream",
     "text": [
      "    1-dim min = -0.36, 1-dim max = 0.11\n",
      "    1-dim min = -0.38, 1-dim max = 0.12\n",
      "i = 8, parameter = $\\eta(1)$\n",
      "    prior_min = -0.39, prior_max = 1.81\n",
      "    1-dim min = -0.11, 1-dim max = 1.32\n",
      "    1-dim min = -0.12, 1-dim max = 1.39\n"
     ]
    },
    {
     "name": "stderr",
     "output_type": "stream",
     "text": [
      "WARNING:EOS:Argument plot:x:format is only used when plot:x:scale is used\n"
     ]
    },
    {
     "name": "stdout",
     "output_type": "stream",
     "text": [
      "i = 9, parameter = $\\eta^{(1)}(1)$\n",
      "    prior_min = -1.76, prior_max = 1.64\n",
      "    1-dim min = -0.82, 1-dim max = 0.82\n",
      "    1-dim min = -0.86, 1-dim max = 0.86\n"
     ]
    },
    {
     "name": "stderr",
     "output_type": "stream",
     "text": [
      "WARNING:EOS:Argument plot:x:format is only used when plot:x:scale is used\n"
     ]
    },
    {
     "name": "stdout",
     "output_type": "stream",
     "text": [
      "i = 10, parameter = $\\eta^{(2)}(1)$\n",
      "    prior_min = -3.0, prior_max = 3.0\n",
      "    1-dim min = -2.72, 1-dim max = 2.26\n",
      "    1-dim min = -2.85, 1-dim max = 2.37\n",
      "i = 11, parameter = $l_1(1)$\n",
      "    prior_min = -1.3, prior_max = 1.5\n"
     ]
    },
    {
     "name": "stderr",
     "output_type": "stream",
     "text": [
      "WARNING:EOS:Argument plot:x:format is only used when plot:x:scale is used\n"
     ]
    },
    {
     "name": "stdout",
     "output_type": "stream",
     "text": [
      "    1-dim min = -0.88, 1-dim max = 1.22\n",
      "    1-dim min = -0.92, 1-dim max = 1.28\n",
      "i = 12, parameter = $l^{(1)}_1(1)$\n",
      "    prior_min = -45.0, prior_max = 22.0\n"
     ]
    },
    {
     "name": "stderr",
     "output_type": "stream",
     "text": [
      "WARNING:EOS:Argument plot:x:format is only used when plot:x:scale is used\n"
     ]
    },
    {
     "name": "stdout",
     "output_type": "stream",
     "text": [
      "    1-dim min = -19.89, 1-dim max = 2.24\n",
      "    1-dim min = -20.88, 1-dim max = 2.35\n",
      "i = 13, parameter = $l_2(1)$\n",
      "    prior_min = -4.0, prior_max = 0.0\n"
     ]
    },
    {
     "name": "stderr",
     "output_type": "stream",
     "text": [
      "WARNING:EOS:Argument plot:x:format is only used when plot:x:scale is used\n"
     ]
    },
    {
     "name": "stdout",
     "output_type": "stream",
     "text": [
      "    1-dim min = -3.55, 1-dim max = -0.24\n",
      "    1-dim min = -3.73, 1-dim max = -0.23\n",
      "i = 14, parameter = $l^{(1)}_2(1)$\n",
      "    prior_min = -35.0, prior_max = 25.0\n"
     ]
    },
    {
     "name": "stderr",
     "output_type": "stream",
     "text": [
      "WARNING:EOS:Argument plot:x:format is only used when plot:x:scale is used\n"
     ]
    },
    {
     "name": "stdout",
     "output_type": "stream",
     "text": [
      "    1-dim min = -17.24, 1-dim max = 1.55\n",
      "    1-dim min = -18.10, 1-dim max = 1.62\n",
      "i = 15, parameter = $l_3(1)$\n",
      "    prior_min = -20.0, prior_max = 20.0\n"
     ]
    },
    {
     "name": "stderr",
     "output_type": "stream",
     "text": [
      "WARNING:EOS:Argument plot:x:format is only used when plot:x:scale is used\n"
     ]
    },
    {
     "name": "stdout",
     "output_type": "stream",
     "text": [
      "    1-dim min = -26.91, 1-dim max = 23.01\n",
      "    1-dim min = -28.25, 1-dim max = 24.16\n",
      "i = 16, parameter = $l^{(1)}_3(1)$\n",
      "    prior_min = -30.0, prior_max = 40.0\n"
     ]
    },
    {
     "name": "stderr",
     "output_type": "stream",
     "text": [
      "WARNING:EOS:Argument plot:x:format is only used when plot:x:scale is used\n"
     ]
    },
    {
     "name": "stdout",
     "output_type": "stream",
     "text": [
      "    1-dim min = -25.17, 1-dim max = 32.86\n",
      "    1-dim min = -26.43, 1-dim max = 34.50\n",
      "i = 17, parameter = $l_4(1)$\n",
      "    prior_min = -10.0, prior_max = 7.0\n",
      "    1-dim min = -7.91, 1-dim max = 3.65"
     ]
    },
    {
     "name": "stderr",
     "output_type": "stream",
     "text": [
      "WARNING:EOS:Argument plot:x:format is only used when plot:x:scale is used\n"
     ]
    },
    {
     "name": "stdout",
     "output_type": "stream",
     "text": [
      "\n",
      "    1-dim min = -8.31, 1-dim max = 3.83\n",
      "i = 18, parameter = $l^{(1)}_4(1)$\n",
      "    prior_min = -12.0, prior_max = 12.0\n"
     ]
    },
    {
     "name": "stderr",
     "output_type": "stream",
     "text": [
      "WARNING:EOS:Argument plot:x:format is only used when plot:x:scale is used\n"
     ]
    },
    {
     "name": "stdout",
     "output_type": "stream",
     "text": [
      "    1-dim min = -6.74, 1-dim max = 8.35\n",
      "    1-dim min = -7.08, 1-dim max = 8.76\n",
      "i = 19, parameter = $l_5(1)$\n",
      "    prior_min = -10.0, prior_max = 16.0\n"
     ]
    },
    {
     "name": "stderr",
     "output_type": "stream",
     "text": [
      "WARNING:EOS:Argument plot:x:format is only used when plot:x:scale is used\n",
      "/usr/local/lib/python3.8/site-packages/eos/plot/plotter.py:104: RuntimeWarning: More than 20 figures have been opened. Figures created through the pyplot interface (`matplotlib.pyplot.figure`) are retained until explicitly closed and may consume too much memory. (To control this warning, see the rcParam `figure.max_open_warning`).\n",
      "  self.fig, self.ax = plt.subplots()\n",
      "WARNING:EOS:Argument plot:x:format is only used when plot:x:scale is used\n"
     ]
    },
    {
     "name": "stdout",
     "output_type": "stream",
     "text": [
      "    1-dim min = -2.42, 1-dim max = 8.44\n",
      "    1-dim min = -2.54, 1-dim max = 8.86\n",
      "i = 20, parameter = $l^{(1)}_5(1)$\n",
      "    prior_min = -13.0, prior_max = 16.0\n",
      "    1-dim min = -10.05, 1-dim max = 10.93\n",
      "    1-dim min = -10.55, 1-dim max = 11.48\n",
      "i = 21, parameter = $l_6(1)$\n",
      "    prior_min = -15.0, prior_max = 20.0\n"
     ]
    },
    {
     "name": "stderr",
     "output_type": "stream",
     "text": [
      "WARNING:EOS:Argument plot:x:format is only used when plot:x:scale is used\n"
     ]
    },
    {
     "name": "stdout",
     "output_type": "stream",
     "text": [
      "    1-dim min = -11.30, 1-dim max = 16.61\n",
      "    1-dim min = -11.87, 1-dim max = 17.44\n",
      "i = 22, parameter = $l^{(1)}_6(1)$\n",
      "    prior_min = -20.0, prior_max = 20.0\n"
     ]
    },
    {
     "name": "stderr",
     "output_type": "stream",
     "text": [
      "WARNING:EOS:Argument plot:x:format is only used when plot:x:scale is used\n"
     ]
    },
    {
     "name": "stdout",
     "output_type": "stream",
     "text": [
      "    1-dim min = -15.90, 1-dim max = 16.77\n",
      "    1-dim min = -16.70, 1-dim max = 17.61\n"
     ]
    },
    {
     "name": "stderr",
     "output_type": "stream",
     "text": [
      "WARNING:EOS:Argument plot:x:format is only used when plot:x:scale is used\n"
     ]
    },
    {
     "name": "stdout",
     "output_type": "stream",
     "text": [
      "i = 23, parameter = $|V_{cb}|$\n",
      "    prior_min = 0.03, prior_max = 0.05\n",
      "    1-dim min = 0.04, 1-dim max = 0.04\n",
      "    1-dim min = 0.03, 1-dim max = 0.05\n"
     ]
    },
    {
     "data": {
      "image/png": "[encoded data removed]",
      "text/plain": [
       "<Figure size 432x288 with 1 Axes>"
      ]
     },
     "metadata": {
      "needs_background": "light"
     },
     "output_type": "display_data"
    },
    {
     "data": {
      "image/png": "[encoded data removed]",
      "text/plain": [
       "<Figure size 432x288 with 1 Axes>"
      ]
     },
     "metadata": {
      "needs_background": "light"
     },
     "output_type": "display_data"
    },
    {
     "data": {
      "image/png": "[encoded data removed]",
      "text/plain": [
       "<Figure size 432x288 with 1 Axes>"
      ]
     },
     "metadata": {
      "needs_background": "light"
     },
     "output_type": "display_data"
    },
    {
     "data": {
      "image/png": "[encoded data removed]",
      "text/plain": [
       "<Figure size 432x288 with 1 Axes>"
      ]
     },
     "metadata": {
      "needs_background": "light"
     },
     "output_type": "display_data"
    },
    {
     "data": {
      "image/png": "[encoded data removed]",
      "text/plain": [
       "<Figure size 432x288 with 1 Axes>"
      ]
     },
     "metadata": {
      "needs_background": "light"
     },
     "output_type": "display_data"
    },
    {
     "data": {
      "image/png": "[encoded data removed]",
      "text/plain": [
       "<Figure size 432x288 with 1 Axes>"
      ]
     },
     "metadata": {
      "needs_background": "light"
     },
     "output_type": "display_data"
    },
    {
     "data": {
      "image/png": "[encoded data removed]",
      "text/plain": [
       "<Figure size 432x288 with 1 Axes>"
      ]
     },
     "metadata": {
      "needs_background": "light"
     },
     "output_type": "display_data"
    },
    {
     "data": {
      "image/png": "[encoded data removed]",
      "text/plain": [
       "<Figure size 432x288 with 1 Axes>"
      ]
     },
     "metadata": {
      "needs_background": "light"
     },
     "output_type": "display_data"
    },
    {
     "data": {
      "image/png": "[encoded data removed]",
      "text/plain": [
       "<Figure size 432x288 with 1 Axes>"
      ]
     },
     "metadata": {
      "needs_background": "light"
     },
     "output_type": "display_data"
    },
    {
     "data": {
      "image/png": "[encoded data removed]",
      "text/plain": [
       "<Figure size 432x288 with 1 Axes>"
      ]
     },
     "metadata": {
      "needs_background": "light"
     },
     "output_type": "display_data"
    },
    {
     "data": {
      "image/png": "[encoded data removed]",
      "text/plain": [
       "<Figure size 432x288 with 1 Axes>"
      ]
     },
     "metadata": {
      "needs_background": "light"
     },
     "output_type": "display_data"
    },
    {
     "data": {
      "image/png": "[encoded data removed]",
      "text/plain": [
       "<Figure size 432x288 with 1 Axes>"
      ]
     },
     "metadata": {
      "needs_background": "light"
     },
     "output_type": "display_data"
    },
    {
     "data": {
      "image/png": "[encoded data removed]",
      "text/plain": [
       "<Figure size 432x288 with 1 Axes>"
      ]
     },
     "metadata": {
      "needs_background": "light"
     },
     "output_type": "display_data"
    },
    {
     "data": {
      "image/png": "[encoded data removed]",
      "text/plain": [
       "<Figure size 432x288 with 1 Axes>"
      ]
     },
     "metadata": {
      "needs_background": "light"
     },
     "output_type": "display_data"
    },
    {
     "data": {
      "image/png": "[encoded data removed]",
      "text/plain": [
       "<Figure size 432x288 with 1 Axes>"
      ]
     },
     "metadata": {
      "needs_background": "light"
     },
     "output_type": "display_data"
    },
    {
     "data": {
      "image/png": "[encoded data removed]",
      "text/plain": [
       "<Figure size 432x288 with 1 Axes>"
      ]
     },
     "metadata": {
      "needs_background": "light"
     },
     "output_type": "display_data"
    },
    {
     "data": {
      "image/png": "[encoded data removed]",
      "text/plain": [
       "<Figure size 432x288 with 1 Axes>"
      ]
     },
     "metadata": {
      "needs_background": "light"
     },
     "output_type": "display_data"
    },
    {
     "data": {
      "image/png": "[encoded data removed]",
      "text/plain": [
       "<Figure size 432x288 with 1 Axes>"
      ]
     },
     "metadata": {
      "needs_background": "light"
     },
     "output_type": "display_data"
    },
    {
     "data": {
      "image/png": "[encoded data removed]",
      "text/plain": [
       "<Figure size 432x288 with 1 Axes>"
      ]
     },
     "metadata": {
      "needs_background": "light"
     },
     "output_type": "display_data"
    },
    {
     "data": {
      "image/png": "[encoded data removed]",
      "text/plain": [
       "<Figure size 432x288 with 1 Axes>"
      ]
     },
     "metadata": {
      "needs_background": "light"
     },
     "output_type": "display_data"
    },
    {
     "data": {
      "image/png": "[encoded data removed]",
      "text/plain": [
       "<Figure size 432x288 with 1 Axes>"
      ]
     },
     "metadata": {
      "needs_background": "light"
     },
     "output_type": "display_data"
    },
    {
     "data": {
      "image/png": "[encoded data removed]",
      "text/plain": [
       "<Figure size 432x288 with 1 Axes>"
      ]
     },
     "metadata": {
      "needs_background": "light"
     },
     "output_type": "display_data"
    },
    {
     "data": {
      "image/png": "[encoded data removed]",
      "text/plain": [
       "<Figure size 432x288 with 1 Axes>"
      ]
     },
     "metadata": {
      "needs_background": "light"
     },
     "output_type": "display_data"
    },
    {
     "data": {
      "image/png": "[encoded data removed]",
      "text/plain": [
       "<Figure size 432x288 with 1 Axes>"
      ]
     },
     "metadata": {
      "needs_background": "light"
     },
     "output_type": "display_data"
    }
   ],
   "source": [
    "n_bins = 120\n",
    "for i, p in enumerate(exp_analysis.varied_parameters[:]):\n",
    "    print(f\"i = {i}, parameter = {p.latex()}\")\n",
    "    print(f\"    prior_min = {p.min()}, prior_max = {p.max()}\")\n",
    "    post_min = min(pmc_data[:, i])\n",
    "    post_max = max(pmc_data[:, i])\n",
    "    print(f\"    1-dim min = {post_min:3.2f}, 1-dim max = {post_max:3.2f}\" )\n",
    "    if post_min < 0:\n",
    "        post_min *= 1.05\n",
    "    else:\n",
    "        post_min *= 0.95\n",
    "    if post_max < 0:\n",
    "        post_max *= 0.95\n",
    "    else:\n",
    "        post_max *= 1.05\n",
    "    print(f\"    1-dim min = {post_min:3.2f}, 1-dim max = {post_max:3.2f}\" )\n",
    "    plot_args = {\n",
    "        'plot': {\n",
    "            'x': { 'label': f'{p.latex()}', 'range': [post_min,  post_max], 'format': '${x:.2f}$' },\n",
    "            'legend': { 'location': 'upper center' }\n",
    "        },\n",
    "        'contents': [\n",
    "            { 'label': f'{p.latex()}',\n",
    "              'type': 'histogram', 'bins': 80,\n",
    "              'data': { 'samples': pmc_data[:, i], 'weights': pmc_posterior }}\n",
    "        ]\n",
    "    }\n",
    "    plt.rcParams['figure.figsize'] = [6, 4]\n",
    "    eos.plot.Plotter(plot_args).plot()"
   ]
  },
  {
   "cell_type": "code",
   "execution_count": 30,
   "metadata": {},
   "outputs": [
    {
     "name": "stderr",
     "output_type": "stream",
     "text": [
      "WARNING:EOS:Argument plot:x:format is only used when plot:x:scale is used\n",
      "WARNING:EOS:Argument plot:y:format is only used when plot:y:scale is used\n"
     ]
    },
    {
     "data": {
      "image/png": "[encoded data removed]",
      "text/plain": [
       "<Figure size 432x288 with 1 Axes>"
      ]
     },
     "metadata": {
      "needs_background": "light"
     },
     "output_type": "display_data"
    }
   ],
   "source": [
    "p_i = 1-1\n",
    "p_j = 24-1\n",
    "params = exp_analysis.varied_parameters\n",
    "min_i, max_i = min(pmc_data[:, p_i]), max(pmc_data[:, p_i])\n",
    "min_j, max_j = min(pmc_data[:, p_j]), max(pmc_data[:, p_j])\n",
    "plot_args = {\n",
    "    'plot': {\n",
    "         'x': { 'label': params[p_i].latex(), 'range': [min_i, max_i], 'format': '${x:.2f}$' },\n",
    "         'y': { 'label': params[p_j].latex(), 'range': [min_j, max_j], 'format': '${x:.2f}$' },\n",
    "    },\n",
    "    'contents': [\n",
    "         {\n",
    "            'type': 'kde2D', 'color': 'C1', 'label': 'posterior',\n",
    "             'range': [min_i, max_i], 'levels': [68, 95, 99], 'bandwidth': 3,\n",
    "             'data': { 'samples': pmc_data[:, (p_i, p_j)], 'weights': pmc_posterior }\n",
    "        }\n",
    "    ]\n",
    "}\n",
    "eos.plot.Plotter(plot_args).plot()"
   ]
  },
  {
   "cell_type": "code",
   "execution_count": null,
   "metadata": {},
   "outputs": [],
   "source": []
  }
 ],
 "metadata": {
  "kernelspec": {
   "display_name": "Python 3 (ipykernel)",
   "language": "python",
   "name": "python3"
  },
  "language_info": {
   "codemirror_mode": {
    "name": "ipython",
    "version": 3
   },
   "file_extension": ".py",
   "mimetype": "text/x-python",
   "name": "python",
   "nbconvert_exporter": "python",
   "pygments_lexer": "ipython3",
   "version": "3.8.10"
  }
 },
 "nbformat": 4,
 "nbformat_minor": 2
}
